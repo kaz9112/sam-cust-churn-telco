{
  "cells": [
    {
      "cell_type": "markdown",
      "metadata": {
        "id": "bS5JRTOUALjU"
      },
      "source": [
        "# I. Perkenalan\n",
        "\n",
        "\n",
        "Nama : Samuel Kristianto Pardomuan Naiborhu\n",
        "\n",
        "Batch : FTDS-015\n",
        "\n",
        "Dataset : Telco Customer Churn\n",
        "\n",
        "Objective : Predict behavior to retain customers. You can analyze all relevant customer data and develop focused customer retention programs"
      ]
    },
    {
      "cell_type": "markdown",
      "metadata": {
        "id": "N4KfPgzwC_x6"
      },
      "source": [
        "# II. Import Libraries"
      ]
    },
    {
      "cell_type": "code",
      "execution_count": 1,
      "metadata": {
        "id": "RoYQjQxA_zG9"
      },
      "outputs": [
        {
          "name": "stderr",
          "output_type": "stream",
          "text": [
            "2022-10-08 15:26:33.020905: I tensorflow/core/platform/cpu_feature_guard.cc:193] This TensorFlow binary is optimized with oneAPI Deep Neural Network Library (oneDNN) to use the following CPU instructions in performance-critical operations:  AVX2 FMA\n",
            "To enable them in other operations, rebuild TensorFlow with the appropriate compiler flags.\n",
            "2022-10-08 15:26:33.256540: W tensorflow/stream_executor/platform/default/dso_loader.cc:64] Could not load dynamic library 'libcudart.so.11.0'; dlerror: libcudart.so.11.0: cannot open shared object file: No such file or directory\n",
            "2022-10-08 15:26:33.256568: I tensorflow/stream_executor/cuda/cudart_stub.cc:29] Ignore above cudart dlerror if you do not have a GPU set up on your machine.\n",
            "2022-10-08 15:26:33.292174: E tensorflow/stream_executor/cuda/cuda_blas.cc:2981] Unable to register cuBLAS factory: Attempting to register factory for plugin cuBLAS when one has already been registered\n",
            "2022-10-08 15:26:34.192468: W tensorflow/stream_executor/platform/default/dso_loader.cc:64] Could not load dynamic library 'libnvinfer.so.7'; dlerror: libnvinfer.so.7: cannot open shared object file: No such file or directory\n",
            "2022-10-08 15:26:34.192576: W tensorflow/stream_executor/platform/default/dso_loader.cc:64] Could not load dynamic library 'libnvinfer_plugin.so.7'; dlerror: libnvinfer_plugin.so.7: cannot open shared object file: No such file or directory\n",
            "2022-10-08 15:26:34.192588: W tensorflow/compiler/tf2tensorrt/utils/py_utils.cc:38] TF-TRT Warning: Cannot dlopen some TensorRT libraries. If you would like to use Nvidia GPU with TensorRT, please make sure the missing libraries mentioned above are installed properly.\n"
          ]
        }
      ],
      "source": [
        "import pandas as pd\n",
        "import numpy as np\n",
        "import matplotlib.pyplot as plt\n",
        "import seaborn as sns\n",
        "sns.set()\n",
        "\n",
        "from sklearn.model_selection import train_test_split\n",
        "from sklearn.preprocessing import MinMaxScaler, OneHotEncoder,LabelEncoder\n",
        "from sklearn.metrics import classification_report\n",
        "\n",
        "import tensorflow as tf\n",
        "from tensorflow import keras\n",
        "from tensorflow.keras.models import Sequential\n",
        "from tensorflow.keras.layers import Dense, Input\n",
        "from tensorflow.keras import Model \n",
        "\n",
        "import joblib\n",
        "import json\n"
      ]
    },
    {
      "cell_type": "markdown",
      "metadata": {
        "id": "hbrMkFhuDJ6z"
      },
      "source": [
        "# III.Data Loading"
      ]
    },
    {
      "cell_type": "code",
      "execution_count": 2,
      "metadata": {
        "colab": {
          "base_uri": "https://localhost:8080/",
          "height": 339
        },
        "id": "RqPG6ZIxAN8t",
        "outputId": "bcaa4bc5-a521-438c-864d-d482e17a593e"
      },
      "outputs": [
        {
          "data": {
            "text/html": [
              "<div>\n",
              "<style scoped>\n",
              "    .dataframe tbody tr th:only-of-type {\n",
              "        vertical-align: middle;\n",
              "    }\n",
              "\n",
              "    .dataframe tbody tr th {\n",
              "        vertical-align: top;\n",
              "    }\n",
              "\n",
              "    .dataframe thead th {\n",
              "        text-align: right;\n",
              "    }\n",
              "</style>\n",
              "<table border=\"1\" class=\"dataframe\">\n",
              "  <thead>\n",
              "    <tr style=\"text-align: right;\">\n",
              "      <th></th>\n",
              "      <th>customerID</th>\n",
              "      <th>gender</th>\n",
              "      <th>SeniorCitizen</th>\n",
              "      <th>Partner</th>\n",
              "      <th>Dependents</th>\n",
              "      <th>tenure</th>\n",
              "      <th>PhoneService</th>\n",
              "      <th>MultipleLines</th>\n",
              "      <th>InternetService</th>\n",
              "      <th>OnlineSecurity</th>\n",
              "      <th>OnlineBackup</th>\n",
              "      <th>DeviceProtection</th>\n",
              "      <th>TechSupport</th>\n",
              "      <th>StreamingTV</th>\n",
              "      <th>StreamingMovies</th>\n",
              "      <th>Contract</th>\n",
              "      <th>PaperlessBilling</th>\n",
              "      <th>PaymentMethod</th>\n",
              "      <th>MonthlyCharges</th>\n",
              "      <th>TotalCharges</th>\n",
              "      <th>Churn</th>\n",
              "    </tr>\n",
              "  </thead>\n",
              "  <tbody>\n",
              "    <tr>\n",
              "      <th>0</th>\n",
              "      <td>7590-VHVEG</td>\n",
              "      <td>Female</td>\n",
              "      <td>0</td>\n",
              "      <td>Yes</td>\n",
              "      <td>No</td>\n",
              "      <td>1</td>\n",
              "      <td>No</td>\n",
              "      <td>No phone service</td>\n",
              "      <td>DSL</td>\n",
              "      <td>No</td>\n",
              "      <td>Yes</td>\n",
              "      <td>No</td>\n",
              "      <td>No</td>\n",
              "      <td>No</td>\n",
              "      <td>No</td>\n",
              "      <td>Month-to-month</td>\n",
              "      <td>Yes</td>\n",
              "      <td>Electronic check</td>\n",
              "      <td>29.85</td>\n",
              "      <td>29.85</td>\n",
              "      <td>No</td>\n",
              "    </tr>\n",
              "    <tr>\n",
              "      <th>1</th>\n",
              "      <td>5575-GNVDE</td>\n",
              "      <td>Male</td>\n",
              "      <td>0</td>\n",
              "      <td>No</td>\n",
              "      <td>No</td>\n",
              "      <td>34</td>\n",
              "      <td>Yes</td>\n",
              "      <td>No</td>\n",
              "      <td>DSL</td>\n",
              "      <td>Yes</td>\n",
              "      <td>No</td>\n",
              "      <td>Yes</td>\n",
              "      <td>No</td>\n",
              "      <td>No</td>\n",
              "      <td>No</td>\n",
              "      <td>One year</td>\n",
              "      <td>No</td>\n",
              "      <td>Mailed check</td>\n",
              "      <td>56.95</td>\n",
              "      <td>1889.5</td>\n",
              "      <td>No</td>\n",
              "    </tr>\n",
              "    <tr>\n",
              "      <th>2</th>\n",
              "      <td>3668-QPYBK</td>\n",
              "      <td>Male</td>\n",
              "      <td>0</td>\n",
              "      <td>No</td>\n",
              "      <td>No</td>\n",
              "      <td>2</td>\n",
              "      <td>Yes</td>\n",
              "      <td>No</td>\n",
              "      <td>DSL</td>\n",
              "      <td>Yes</td>\n",
              "      <td>Yes</td>\n",
              "      <td>No</td>\n",
              "      <td>No</td>\n",
              "      <td>No</td>\n",
              "      <td>No</td>\n",
              "      <td>Month-to-month</td>\n",
              "      <td>Yes</td>\n",
              "      <td>Mailed check</td>\n",
              "      <td>53.85</td>\n",
              "      <td>108.15</td>\n",
              "      <td>Yes</td>\n",
              "    </tr>\n",
              "    <tr>\n",
              "      <th>3</th>\n",
              "      <td>7795-CFOCW</td>\n",
              "      <td>Male</td>\n",
              "      <td>0</td>\n",
              "      <td>No</td>\n",
              "      <td>No</td>\n",
              "      <td>45</td>\n",
              "      <td>No</td>\n",
              "      <td>No phone service</td>\n",
              "      <td>DSL</td>\n",
              "      <td>Yes</td>\n",
              "      <td>No</td>\n",
              "      <td>Yes</td>\n",
              "      <td>Yes</td>\n",
              "      <td>No</td>\n",
              "      <td>No</td>\n",
              "      <td>One year</td>\n",
              "      <td>No</td>\n",
              "      <td>Bank transfer (automatic)</td>\n",
              "      <td>42.30</td>\n",
              "      <td>1840.75</td>\n",
              "      <td>No</td>\n",
              "    </tr>\n",
              "    <tr>\n",
              "      <th>4</th>\n",
              "      <td>9237-HQITU</td>\n",
              "      <td>Female</td>\n",
              "      <td>0</td>\n",
              "      <td>No</td>\n",
              "      <td>No</td>\n",
              "      <td>2</td>\n",
              "      <td>Yes</td>\n",
              "      <td>No</td>\n",
              "      <td>Fiber optic</td>\n",
              "      <td>No</td>\n",
              "      <td>No</td>\n",
              "      <td>No</td>\n",
              "      <td>No</td>\n",
              "      <td>No</td>\n",
              "      <td>No</td>\n",
              "      <td>Month-to-month</td>\n",
              "      <td>Yes</td>\n",
              "      <td>Electronic check</td>\n",
              "      <td>70.70</td>\n",
              "      <td>151.65</td>\n",
              "      <td>Yes</td>\n",
              "    </tr>\n",
              "  </tbody>\n",
              "</table>\n",
              "</div>"
            ],
            "text/plain": [
              "   customerID  gender  SeniorCitizen Partner Dependents  tenure PhoneService  \\\n",
              "0  7590-VHVEG  Female              0     Yes         No       1           No   \n",
              "1  5575-GNVDE    Male              0      No         No      34          Yes   \n",
              "2  3668-QPYBK    Male              0      No         No       2          Yes   \n",
              "3  7795-CFOCW    Male              0      No         No      45           No   \n",
              "4  9237-HQITU  Female              0      No         No       2          Yes   \n",
              "\n",
              "      MultipleLines InternetService OnlineSecurity OnlineBackup  \\\n",
              "0  No phone service             DSL             No          Yes   \n",
              "1                No             DSL            Yes           No   \n",
              "2                No             DSL            Yes          Yes   \n",
              "3  No phone service             DSL            Yes           No   \n",
              "4                No     Fiber optic             No           No   \n",
              "\n",
              "  DeviceProtection TechSupport StreamingTV StreamingMovies        Contract  \\\n",
              "0               No          No          No              No  Month-to-month   \n",
              "1              Yes          No          No              No        One year   \n",
              "2               No          No          No              No  Month-to-month   \n",
              "3              Yes         Yes          No              No        One year   \n",
              "4               No          No          No              No  Month-to-month   \n",
              "\n",
              "  PaperlessBilling              PaymentMethod  MonthlyCharges TotalCharges  \\\n",
              "0              Yes           Electronic check           29.85        29.85   \n",
              "1               No               Mailed check           56.95       1889.5   \n",
              "2              Yes               Mailed check           53.85       108.15   \n",
              "3               No  Bank transfer (automatic)           42.30      1840.75   \n",
              "4              Yes           Electronic check           70.70       151.65   \n",
              "\n",
              "  Churn  \n",
              "0    No  \n",
              "1    No  \n",
              "2   Yes  \n",
              "3    No  \n",
              "4   Yes  "
            ]
          },
          "execution_count": 2,
          "metadata": {},
          "output_type": "execute_result"
        }
      ],
      "source": [
        "# Data Loading\n",
        "\n",
        "raw_data = pd.read_csv('h8dsft_Milestone1P2_Samuel_Naiborhu.csv')\n",
        "pd.set_option('display.max_columns', None)\n",
        "raw_data.head(5)"
      ]
    },
    {
      "cell_type": "code",
      "execution_count": 3,
      "metadata": {
        "colab": {
          "base_uri": "https://localhost:8080/",
          "height": 339
        },
        "id": "lJv0VWWGDW_4",
        "outputId": "6f1f5541-b6ac-4ce1-da71-2fb9baaccafe"
      },
      "outputs": [
        {
          "data": {
            "text/html": [
              "<div>\n",
              "<style scoped>\n",
              "    .dataframe tbody tr th:only-of-type {\n",
              "        vertical-align: middle;\n",
              "    }\n",
              "\n",
              "    .dataframe tbody tr th {\n",
              "        vertical-align: top;\n",
              "    }\n",
              "\n",
              "    .dataframe thead th {\n",
              "        text-align: right;\n",
              "    }\n",
              "</style>\n",
              "<table border=\"1\" class=\"dataframe\">\n",
              "  <thead>\n",
              "    <tr style=\"text-align: right;\">\n",
              "      <th></th>\n",
              "      <th>customerID</th>\n",
              "      <th>gender</th>\n",
              "      <th>SeniorCitizen</th>\n",
              "      <th>Partner</th>\n",
              "      <th>Dependents</th>\n",
              "      <th>tenure</th>\n",
              "      <th>PhoneService</th>\n",
              "      <th>MultipleLines</th>\n",
              "      <th>InternetService</th>\n",
              "      <th>OnlineSecurity</th>\n",
              "      <th>OnlineBackup</th>\n",
              "      <th>DeviceProtection</th>\n",
              "      <th>TechSupport</th>\n",
              "      <th>StreamingTV</th>\n",
              "      <th>StreamingMovies</th>\n",
              "      <th>Contract</th>\n",
              "      <th>PaperlessBilling</th>\n",
              "      <th>PaymentMethod</th>\n",
              "      <th>MonthlyCharges</th>\n",
              "      <th>TotalCharges</th>\n",
              "      <th>Churn</th>\n",
              "    </tr>\n",
              "  </thead>\n",
              "  <tbody>\n",
              "    <tr>\n",
              "      <th>7038</th>\n",
              "      <td>6840-RESVB</td>\n",
              "      <td>Male</td>\n",
              "      <td>0</td>\n",
              "      <td>Yes</td>\n",
              "      <td>Yes</td>\n",
              "      <td>24</td>\n",
              "      <td>Yes</td>\n",
              "      <td>Yes</td>\n",
              "      <td>DSL</td>\n",
              "      <td>Yes</td>\n",
              "      <td>No</td>\n",
              "      <td>Yes</td>\n",
              "      <td>Yes</td>\n",
              "      <td>Yes</td>\n",
              "      <td>Yes</td>\n",
              "      <td>One year</td>\n",
              "      <td>Yes</td>\n",
              "      <td>Mailed check</td>\n",
              "      <td>84.80</td>\n",
              "      <td>1990.5</td>\n",
              "      <td>No</td>\n",
              "    </tr>\n",
              "    <tr>\n",
              "      <th>7039</th>\n",
              "      <td>2234-XADUH</td>\n",
              "      <td>Female</td>\n",
              "      <td>0</td>\n",
              "      <td>Yes</td>\n",
              "      <td>Yes</td>\n",
              "      <td>72</td>\n",
              "      <td>Yes</td>\n",
              "      <td>Yes</td>\n",
              "      <td>Fiber optic</td>\n",
              "      <td>No</td>\n",
              "      <td>Yes</td>\n",
              "      <td>Yes</td>\n",
              "      <td>No</td>\n",
              "      <td>Yes</td>\n",
              "      <td>Yes</td>\n",
              "      <td>One year</td>\n",
              "      <td>Yes</td>\n",
              "      <td>Credit card (automatic)</td>\n",
              "      <td>103.20</td>\n",
              "      <td>7362.9</td>\n",
              "      <td>No</td>\n",
              "    </tr>\n",
              "    <tr>\n",
              "      <th>7040</th>\n",
              "      <td>4801-JZAZL</td>\n",
              "      <td>Female</td>\n",
              "      <td>0</td>\n",
              "      <td>Yes</td>\n",
              "      <td>Yes</td>\n",
              "      <td>11</td>\n",
              "      <td>No</td>\n",
              "      <td>No phone service</td>\n",
              "      <td>DSL</td>\n",
              "      <td>Yes</td>\n",
              "      <td>No</td>\n",
              "      <td>No</td>\n",
              "      <td>No</td>\n",
              "      <td>No</td>\n",
              "      <td>No</td>\n",
              "      <td>Month-to-month</td>\n",
              "      <td>Yes</td>\n",
              "      <td>Electronic check</td>\n",
              "      <td>29.60</td>\n",
              "      <td>346.45</td>\n",
              "      <td>No</td>\n",
              "    </tr>\n",
              "    <tr>\n",
              "      <th>7041</th>\n",
              "      <td>8361-LTMKD</td>\n",
              "      <td>Male</td>\n",
              "      <td>1</td>\n",
              "      <td>Yes</td>\n",
              "      <td>No</td>\n",
              "      <td>4</td>\n",
              "      <td>Yes</td>\n",
              "      <td>Yes</td>\n",
              "      <td>Fiber optic</td>\n",
              "      <td>No</td>\n",
              "      <td>No</td>\n",
              "      <td>No</td>\n",
              "      <td>No</td>\n",
              "      <td>No</td>\n",
              "      <td>No</td>\n",
              "      <td>Month-to-month</td>\n",
              "      <td>Yes</td>\n",
              "      <td>Mailed check</td>\n",
              "      <td>74.40</td>\n",
              "      <td>306.6</td>\n",
              "      <td>Yes</td>\n",
              "    </tr>\n",
              "    <tr>\n",
              "      <th>7042</th>\n",
              "      <td>3186-AJIEK</td>\n",
              "      <td>Male</td>\n",
              "      <td>0</td>\n",
              "      <td>No</td>\n",
              "      <td>No</td>\n",
              "      <td>66</td>\n",
              "      <td>Yes</td>\n",
              "      <td>No</td>\n",
              "      <td>Fiber optic</td>\n",
              "      <td>Yes</td>\n",
              "      <td>No</td>\n",
              "      <td>Yes</td>\n",
              "      <td>Yes</td>\n",
              "      <td>Yes</td>\n",
              "      <td>Yes</td>\n",
              "      <td>Two year</td>\n",
              "      <td>Yes</td>\n",
              "      <td>Bank transfer (automatic)</td>\n",
              "      <td>105.65</td>\n",
              "      <td>6844.5</td>\n",
              "      <td>No</td>\n",
              "    </tr>\n",
              "  </tbody>\n",
              "</table>\n",
              "</div>"
            ],
            "text/plain": [
              "      customerID  gender  SeniorCitizen Partner Dependents  tenure  \\\n",
              "7038  6840-RESVB    Male              0     Yes        Yes      24   \n",
              "7039  2234-XADUH  Female              0     Yes        Yes      72   \n",
              "7040  4801-JZAZL  Female              0     Yes        Yes      11   \n",
              "7041  8361-LTMKD    Male              1     Yes         No       4   \n",
              "7042  3186-AJIEK    Male              0      No         No      66   \n",
              "\n",
              "     PhoneService     MultipleLines InternetService OnlineSecurity  \\\n",
              "7038          Yes               Yes             DSL            Yes   \n",
              "7039          Yes               Yes     Fiber optic             No   \n",
              "7040           No  No phone service             DSL            Yes   \n",
              "7041          Yes               Yes     Fiber optic             No   \n",
              "7042          Yes                No     Fiber optic            Yes   \n",
              "\n",
              "     OnlineBackup DeviceProtection TechSupport StreamingTV StreamingMovies  \\\n",
              "7038           No              Yes         Yes         Yes             Yes   \n",
              "7039          Yes              Yes          No         Yes             Yes   \n",
              "7040           No               No          No          No              No   \n",
              "7041           No               No          No          No              No   \n",
              "7042           No              Yes         Yes         Yes             Yes   \n",
              "\n",
              "            Contract PaperlessBilling              PaymentMethod  \\\n",
              "7038        One year              Yes               Mailed check   \n",
              "7039        One year              Yes    Credit card (automatic)   \n",
              "7040  Month-to-month              Yes           Electronic check   \n",
              "7041  Month-to-month              Yes               Mailed check   \n",
              "7042        Two year              Yes  Bank transfer (automatic)   \n",
              "\n",
              "      MonthlyCharges TotalCharges Churn  \n",
              "7038           84.80       1990.5    No  \n",
              "7039          103.20       7362.9    No  \n",
              "7040           29.60       346.45    No  \n",
              "7041           74.40        306.6   Yes  \n",
              "7042          105.65       6844.5    No  "
            ]
          },
          "execution_count": 3,
          "metadata": {},
          "output_type": "execute_result"
        }
      ],
      "source": [
        "raw_data.tail(5)"
      ]
    },
    {
      "cell_type": "markdown",
      "metadata": {
        "id": "QguMhDuXDT0P"
      },
      "source": [
        "# IV. Exploratory Data Analysis"
      ]
    },
    {
      "cell_type": "code",
      "execution_count": 4,
      "metadata": {
        "colab": {
          "base_uri": "https://localhost:8080/",
          "height": 300
        },
        "id": "dyZU7b8HDiz5",
        "outputId": "a64c1efe-eda3-4eb6-fcb9-a3cde18277e1"
      },
      "outputs": [
        {
          "data": {
            "text/html": [
              "<div>\n",
              "<style scoped>\n",
              "    .dataframe tbody tr th:only-of-type {\n",
              "        vertical-align: middle;\n",
              "    }\n",
              "\n",
              "    .dataframe tbody tr th {\n",
              "        vertical-align: top;\n",
              "    }\n",
              "\n",
              "    .dataframe thead th {\n",
              "        text-align: right;\n",
              "    }\n",
              "</style>\n",
              "<table border=\"1\" class=\"dataframe\">\n",
              "  <thead>\n",
              "    <tr style=\"text-align: right;\">\n",
              "      <th></th>\n",
              "      <th>SeniorCitizen</th>\n",
              "      <th>tenure</th>\n",
              "      <th>MonthlyCharges</th>\n",
              "    </tr>\n",
              "  </thead>\n",
              "  <tbody>\n",
              "    <tr>\n",
              "      <th>count</th>\n",
              "      <td>7043.000000</td>\n",
              "      <td>7043.000000</td>\n",
              "      <td>7043.000000</td>\n",
              "    </tr>\n",
              "    <tr>\n",
              "      <th>mean</th>\n",
              "      <td>0.162147</td>\n",
              "      <td>32.371149</td>\n",
              "      <td>64.761692</td>\n",
              "    </tr>\n",
              "    <tr>\n",
              "      <th>std</th>\n",
              "      <td>0.368612</td>\n",
              "      <td>24.559481</td>\n",
              "      <td>30.090047</td>\n",
              "    </tr>\n",
              "    <tr>\n",
              "      <th>min</th>\n",
              "      <td>0.000000</td>\n",
              "      <td>0.000000</td>\n",
              "      <td>18.250000</td>\n",
              "    </tr>\n",
              "    <tr>\n",
              "      <th>25%</th>\n",
              "      <td>0.000000</td>\n",
              "      <td>9.000000</td>\n",
              "      <td>35.500000</td>\n",
              "    </tr>\n",
              "    <tr>\n",
              "      <th>50%</th>\n",
              "      <td>0.000000</td>\n",
              "      <td>29.000000</td>\n",
              "      <td>70.350000</td>\n",
              "    </tr>\n",
              "    <tr>\n",
              "      <th>75%</th>\n",
              "      <td>0.000000</td>\n",
              "      <td>55.000000</td>\n",
              "      <td>89.850000</td>\n",
              "    </tr>\n",
              "    <tr>\n",
              "      <th>max</th>\n",
              "      <td>1.000000</td>\n",
              "      <td>72.000000</td>\n",
              "      <td>118.750000</td>\n",
              "    </tr>\n",
              "  </tbody>\n",
              "</table>\n",
              "</div>"
            ],
            "text/plain": [
              "       SeniorCitizen       tenure  MonthlyCharges\n",
              "count    7043.000000  7043.000000     7043.000000\n",
              "mean        0.162147    32.371149       64.761692\n",
              "std         0.368612    24.559481       30.090047\n",
              "min         0.000000     0.000000       18.250000\n",
              "25%         0.000000     9.000000       35.500000\n",
              "50%         0.000000    29.000000       70.350000\n",
              "75%         0.000000    55.000000       89.850000\n",
              "max         1.000000    72.000000      118.750000"
            ]
          },
          "execution_count": 4,
          "metadata": {},
          "output_type": "execute_result"
        }
      ],
      "source": [
        "raw_data.describe()"
      ]
    },
    {
      "cell_type": "code",
      "execution_count": 5,
      "metadata": {
        "colab": {
          "base_uri": "https://localhost:8080/"
        },
        "id": "n7wSS35dOjw1",
        "outputId": "8bbf6758-b83a-4e12-8f16-44a7dd988e25"
      },
      "outputs": [
        {
          "data": {
            "text/plain": [
              "17.979133226324237"
            ]
          },
          "execution_count": 5,
          "metadata": {},
          "output_type": "execute_result"
        }
      ],
      "source": [
        "# view the average tenure of customers churn\n",
        "raw_data[raw_data['Churn'] == 'Yes']['tenure'].mean()"
      ]
    },
    {
      "cell_type": "code",
      "execution_count": 6,
      "metadata": {
        "colab": {
          "base_uri": "https://localhost:8080/"
        },
        "id": "MS4TTIETOzxA",
        "outputId": "5f36fd90-1d29-4c87-e6f4-eeba148c21d3"
      },
      "outputs": [
        {
          "data": {
            "text/plain": [
              "37.56996521066873"
            ]
          },
          "execution_count": 6,
          "metadata": {},
          "output_type": "execute_result"
        }
      ],
      "source": [
        "# view the average tenure of staying customers\n",
        "raw_data[raw_data['Churn'] == 'No']['tenure'].mean()"
      ]
    },
    {
      "cell_type": "code",
      "execution_count": 7,
      "metadata": {
        "colab": {
          "base_uri": "https://localhost:8080/",
          "height": 355
        },
        "id": "bdJ19E7fLOIc",
        "outputId": "e9d45dd2-fd9e-497e-de78-7f2c12c8ff23"
      },
      "outputs": [
        {
          "data": {
            "image/png": "[encoded data removed]",
            "text/plain": [
              "<Figure size 576x360 with 1 Axes>"
            ]
          },
          "metadata": {},
          "output_type": "display_data"
        }
      ],
      "source": [
        "# Create plots\n",
        "\n",
        "plt.figure(figsize=(8, 5))\n",
        "\n",
        "# plt.subplot(1,2,1)\n",
        "sns.barplot(x=raw_data['Churn'],y=raw_data['tenure'], palette='hls')\n",
        "plt.title('barplot Churn vs tenure')\n",
        "\n",
        "plt.show()\n"
      ]
    },
    {
      "cell_type": "markdown",
      "metadata": {
        "id": "jxqZ-yE3UjQI"
      },
      "source": [
        "From the query we've done, and the chart above, we found that on average the tenure of customer who left(churn=Yes)(on average 17.979 months) is far lower than the customer who stays(churn=No) (on average 37.57 months)"
      ]
    },
    {
      "cell_type": "code",
      "execution_count": 8,
      "metadata": {
        "colab": {
          "base_uri": "https://localhost:8080/"
        },
        "id": "wr7DZHTsPfFU",
        "outputId": "c1113040-3a23-4d48-ac2f-593ac7eb91ba"
      },
      "outputs": [
        {
          "data": {
            "text/plain": [
              "74.4413322632423"
            ]
          },
          "execution_count": 8,
          "metadata": {},
          "output_type": "execute_result"
        }
      ],
      "source": [
        "# view the average MonthlyCharges of customers churn\n",
        "raw_data[raw_data['Churn'] == 'Yes']['MonthlyCharges'].mean()"
      ]
    },
    {
      "cell_type": "code",
      "execution_count": 9,
      "metadata": {
        "colab": {
          "base_uri": "https://localhost:8080/"
        },
        "id": "240_yCdDPhlM",
        "outputId": "e9352928-17ba-40a3-ab07-9743f9eb29a9"
      },
      "outputs": [
        {
          "data": {
            "text/plain": [
              "61.2651236953999"
            ]
          },
          "execution_count": 9,
          "metadata": {},
          "output_type": "execute_result"
        }
      ],
      "source": [
        "# view the average MonthlyCharges of staying customers\n",
        "raw_data[raw_data['Churn'] == 'No']['MonthlyCharges'].mean()"
      ]
    },
    {
      "cell_type": "code",
      "execution_count": 10,
      "metadata": {
        "colab": {
          "base_uri": "https://localhost:8080/",
          "height": 355
        },
        "id": "SrVyccPqNQHe",
        "outputId": "2ccbdb2a-e6bb-4e14-8e7f-cabf33fe2d45"
      },
      "outputs": [
        {
          "data": {
            "image/png": "[encoded data removed]",
            "text/plain": [
              "<Figure size 576x360 with 1 Axes>"
            ]
          },
          "metadata": {},
          "output_type": "display_data"
        }
      ],
      "source": [
        "# Create plots\n",
        "\n",
        "plt.figure(figsize=(8, 5))\n",
        "\n",
        "# plt.subplot(1,2,1)\n",
        "sns.barplot(x=raw_data['Churn'],y=raw_data['MonthlyCharges'], palette='hls')\n",
        "plt.title('barplot Churn vs MonthlyCharges')\n",
        "\n",
        "plt.show()\n"
      ]
    },
    {
      "cell_type": "markdown",
      "metadata": {
        "id": "D-lUzd_VWC--"
      },
      "source": [
        "From the query we've done, and the chart above, we found that on average the MonthlyCharges of Customer churn(churn=Yes)(on average \\$ 74.441 ) is higher than the average MonthlyCharges of staying customer(churn=No) (on average \\$ 61.265 )"
      ]
    },
    {
      "cell_type": "code",
      "execution_count": 11,
      "metadata": {
        "colab": {
          "base_uri": "https://localhost:8080/",
          "height": 355
        },
        "id": "41fv4CXcNaG0",
        "outputId": "3532f395-212d-41b6-e451-5ed7079ecf10"
      },
      "outputs": [
        {
          "data": {
            "image/png": "[encoded data removed]",
            "text/plain": [
              "<Figure size 576x360 with 1 Axes>"
            ]
          },
          "metadata": {},
          "output_type": "display_data"
        }
      ],
      "source": [
        "# Create plots\n",
        "\n",
        "plt.figure(figsize=(8, 5))\n",
        "\n",
        "# plt.subplot(1,2,1)\n",
        "sns.countplot(x=raw_data['Churn'],hue=raw_data['TechSupport'], palette='hls')\n",
        "plt.title('countplot Churn grouped by TechSupport')\n",
        "\n",
        "plt.show()\n"
      ]
    },
    {
      "cell_type": "markdown",
      "metadata": {
        "id": "RAs8EvKaXvYK"
      },
      "source": [
        "from the chart above, we found the customer churn(churn=Yes), compared to staying customer(churn=No) are less willing to ask help from tech support. It seems the customers who churn, when something went wrong, rather than asking for help, they cancelled instead."
      ]
    },
    {
      "cell_type": "code",
      "execution_count": 12,
      "metadata": {},
      "outputs": [
        {
          "data": {
            "text/plain": [
              "No                     3088\n",
              "Yes                    2429\n",
              "No internet service    1526\n",
              "Name: OnlineBackup, dtype: int64"
            ]
          },
          "execution_count": 12,
          "metadata": {},
          "output_type": "execute_result"
        }
      ],
      "source": [
        "raw_data['OnlineBackup'].value_counts()"
      ]
    },
    {
      "cell_type": "code",
      "execution_count": 14,
      "metadata": {
        "colab": {
          "base_uri": "https://localhost:8080/",
          "height": 355
        },
        "id": "TcscZ_CbSN3g",
        "outputId": "da6724ff-2dad-47b3-8695-86f8c8189365"
      },
      "outputs": [
        {
          "data": {
            "image/png": "[encoded data removed]",
            "text/plain": [
              "<Figure size 576x360 with 1 Axes>"
            ]
          },
          "metadata": {},
          "output_type": "display_data"
        }
      ],
      "source": [
        "# Create plots\n",
        "\n",
        "plt.figure(figsize=(8, 5))\n",
        "\n",
        "# plt.subplot(1,2,1)\n",
        "sns.countplot(x=raw_data['Churn'],hue=raw_data['Contract'], palette='hls')\n",
        "plt.title('countplot Churn grouped by Contract')\n",
        "\n",
        "plt.show()\n",
        "\n"
      ]
    },
    {
      "cell_type": "markdown",
      "metadata": {
        "id": "ZHQbXbU_Ycr0"
      },
      "source": [
        "from the chart above, we found the customer churn(churn = Yes), almost all of them had monthly contract. While the staying customer(churn = No), are a bit diverse. The reason why customers stay, could be caused by the contract themselves, the long term contract(1 year and 2 year on not churned group) cant cancel easily, because if they want to cancel, they will get a huge penalty for the cancelations.\n"
      ]
    },
    {
      "cell_type": "markdown",
      "metadata": {
        "id": "B0P9OEkawUAl"
      },
      "source": [
        "# V. Data Preprocessing"
      ]
    },
    {
      "cell_type": "markdown",
      "metadata": {
        "id": "VvhHt0z3yZqh"
      },
      "source": [
        "## V.I. Split data for inference"
      ]
    },
    {
      "cell_type": "code",
      "execution_count": 13,
      "metadata": {
        "colab": {
          "base_uri": "https://localhost:8080/"
        },
        "id": "6zMomXL1cPbt",
        "outputId": "a368b498-633e-4d86-8900-f359e560d922"
      },
      "outputs": [
        {
          "data": {
            "text/plain": [
              "211"
            ]
          },
          "execution_count": 13,
          "metadata": {},
          "output_type": "execute_result"
        }
      ],
      "source": [
        "# Get inference count for 3 percent data\n",
        "inf_count =  round(raw_data.shape[0]*0.03)\n",
        "inf_count"
      ]
    },
    {
      "cell_type": "code",
      "execution_count": 14,
      "metadata": {
        "colab": {
          "base_uri": "https://localhost:8080/",
          "height": 357
        },
        "id": "O2IZnvD2yAZc",
        "outputId": "4b47f8aa-bbe1-4428-cea6-6ea55f285d61"
      },
      "outputs": [
        {
          "data": {
            "text/html": [
              "\n",
              "  <div id=\"df-bbeeaf09-adbb-4d1d-9b40-389ecbe23c50\">\n",
              "    <div class=\"colab-df-container\">\n",
              "      <div>\n",
              "<style scoped>\n",
              "    .dataframe tbody tr th:only-of-type {\n",
              "        vertical-align: middle;\n",
              "    }\n",
              "\n",
              "    .dataframe tbody tr th {\n",
              "        vertical-align: top;\n",
              "    }\n",
              "\n",
              "    .dataframe thead th {\n",
              "        text-align: right;\n",
              "    }\n",
              "</style>\n",
              "<table border=\"1\" class=\"dataframe\">\n",
              "  <thead>\n",
              "    <tr style=\"text-align: right;\">\n",
              "      <th></th>\n",
              "      <th>customerID</th>\n",
              "      <th>gender</th>\n",
              "      <th>SeniorCitizen</th>\n",
              "      <th>Partner</th>\n",
              "      <th>Dependents</th>\n",
              "      <th>tenure</th>\n",
              "      <th>PhoneService</th>\n",
              "      <th>MultipleLines</th>\n",
              "      <th>InternetService</th>\n",
              "      <th>OnlineSecurity</th>\n",
              "      <th>OnlineBackup</th>\n",
              "      <th>DeviceProtection</th>\n",
              "      <th>TechSupport</th>\n",
              "      <th>StreamingTV</th>\n",
              "      <th>StreamingMovies</th>\n",
              "      <th>Contract</th>\n",
              "      <th>PaperlessBilling</th>\n",
              "      <th>PaymentMethod</th>\n",
              "      <th>MonthlyCharges</th>\n",
              "      <th>TotalCharges</th>\n",
              "      <th>Churn</th>\n",
              "    </tr>\n",
              "  </thead>\n",
              "  <tbody>\n",
              "    <tr>\n",
              "      <th>2471</th>\n",
              "      <td>1323-OOEPC</td>\n",
              "      <td>Female</td>\n",
              "      <td>0</td>\n",
              "      <td>Yes</td>\n",
              "      <td>No</td>\n",
              "      <td>53</td>\n",
              "      <td>Yes</td>\n",
              "      <td>Yes</td>\n",
              "      <td>Fiber optic</td>\n",
              "      <td>No</td>\n",
              "      <td>Yes</td>\n",
              "      <td>No</td>\n",
              "      <td>No</td>\n",
              "      <td>Yes</td>\n",
              "      <td>Yes</td>\n",
              "      <td>Month-to-month</td>\n",
              "      <td>Yes</td>\n",
              "      <td>Credit card (automatic)</td>\n",
              "      <td>98.4</td>\n",
              "      <td>5149.5</td>\n",
              "      <td>Yes</td>\n",
              "    </tr>\n",
              "    <tr>\n",
              "      <th>2572</th>\n",
              "      <td>9153-BTBVV</td>\n",
              "      <td>Female</td>\n",
              "      <td>0</td>\n",
              "      <td>Yes</td>\n",
              "      <td>No</td>\n",
              "      <td>71</td>\n",
              "      <td>Yes</td>\n",
              "      <td>Yes</td>\n",
              "      <td>No</td>\n",
              "      <td>No internet service</td>\n",
              "      <td>No internet service</td>\n",
              "      <td>No internet service</td>\n",
              "      <td>No internet service</td>\n",
              "      <td>No internet service</td>\n",
              "      <td>No internet service</td>\n",
              "      <td>Two year</td>\n",
              "      <td>No</td>\n",
              "      <td>Bank transfer (automatic)</td>\n",
              "      <td>25.0</td>\n",
              "      <td>1753</td>\n",
              "      <td>No</td>\n",
              "    </tr>\n",
              "    <tr>\n",
              "      <th>1369</th>\n",
              "      <td>5478-JJVZK</td>\n",
              "      <td>Female</td>\n",
              "      <td>0</td>\n",
              "      <td>No</td>\n",
              "      <td>No</td>\n",
              "      <td>33</td>\n",
              "      <td>Yes</td>\n",
              "      <td>Yes</td>\n",
              "      <td>DSL</td>\n",
              "      <td>Yes</td>\n",
              "      <td>Yes</td>\n",
              "      <td>No</td>\n",
              "      <td>No</td>\n",
              "      <td>No</td>\n",
              "      <td>No</td>\n",
              "      <td>Month-to-month</td>\n",
              "      <td>Yes</td>\n",
              "      <td>Mailed check</td>\n",
              "      <td>60.9</td>\n",
              "      <td>2033.85</td>\n",
              "      <td>No</td>\n",
              "    </tr>\n",
              "    <tr>\n",
              "      <th>5623</th>\n",
              "      <td>9115-YQHGA</td>\n",
              "      <td>Male</td>\n",
              "      <td>0</td>\n",
              "      <td>No</td>\n",
              "      <td>No</td>\n",
              "      <td>40</td>\n",
              "      <td>Yes</td>\n",
              "      <td>No</td>\n",
              "      <td>DSL</td>\n",
              "      <td>No</td>\n",
              "      <td>No</td>\n",
              "      <td>No</td>\n",
              "      <td>Yes</td>\n",
              "      <td>No</td>\n",
              "      <td>No</td>\n",
              "      <td>Month-to-month</td>\n",
              "      <td>Yes</td>\n",
              "      <td>Electronic check</td>\n",
              "      <td>51.1</td>\n",
              "      <td>2092.9</td>\n",
              "      <td>No</td>\n",
              "    </tr>\n",
              "    <tr>\n",
              "      <th>4989</th>\n",
              "      <td>0909-SDHNU</td>\n",
              "      <td>Female</td>\n",
              "      <td>0</td>\n",
              "      <td>No</td>\n",
              "      <td>Yes</td>\n",
              "      <td>7</td>\n",
              "      <td>No</td>\n",
              "      <td>No phone service</td>\n",
              "      <td>DSL</td>\n",
              "      <td>Yes</td>\n",
              "      <td>No</td>\n",
              "      <td>No</td>\n",
              "      <td>No</td>\n",
              "      <td>No</td>\n",
              "      <td>No</td>\n",
              "      <td>Month-to-month</td>\n",
              "      <td>No</td>\n",
              "      <td>Mailed check</td>\n",
              "      <td>29.8</td>\n",
              "      <td>201.95</td>\n",
              "      <td>No</td>\n",
              "    </tr>\n",
              "  </tbody>\n",
              "</table>\n",
              "</div>\n",
              "      <button class=\"colab-df-convert\" onclick=\"convertToInteractive('df-bbeeaf09-adbb-4d1d-9b40-389ecbe23c50')\"\n",
              "              title=\"Convert this dataframe to an interactive table.\"\n",
              "              style=\"display:none;\">\n",
              "        \n",
              "  <svg xmlns=\"http://www.w3.org/2000/svg\" height=\"24px\"viewBox=\"0 0 24 24\"\n",
              "       width=\"24px\">\n",
              "    <path d=\"M0 0h24v24H0V0z\" fill=\"none\"/>\n",
              "    <path d=\"M18.56 5.44l.94 2.06.94-2.06 2.06-.94-2.06-.94-.94-2.06-.94 2.06-2.06.94zm-11 1L8.5 8.5l.94-2.06 2.06-.94-2.06-.94L8.5 2.5l-.94 2.06-2.06.94zm10 10l.94 2.06.94-2.06 2.06-.94-2.06-.94-.94-2.06-.94 2.06-2.06.94z\"/><path d=\"M17.41 7.96l-1.37-1.37c-.4-.4-.92-.59-1.43-.59-.52 0-1.04.2-1.43.59L10.3 9.45l-7.72 7.72c-.78.78-.78 2.05 0 2.83L4 21.41c.39.39.9.59 1.41.59.51 0 1.02-.2 1.41-.59l7.78-7.78 2.81-2.81c.8-.78.8-2.07 0-2.86zM5.41 20L4 18.59l7.72-7.72 1.47 1.35L5.41 20z\"/>\n",
              "  </svg>\n",
              "      </button>\n",
              "      \n",
              "  <style>\n",
              "    .colab-df-container {\n",
              "      display:flex;\n",
              "      flex-wrap:wrap;\n",
              "      gap: 12px;\n",
              "    }\n",
              "\n",
              "    .colab-df-convert {\n",
              "      background-color: #E8F0FE;\n",
              "      border: none;\n",
              "      border-radius: 50%;\n",
              "      cursor: pointer;\n",
              "      display: none;\n",
              "      fill: #1967D2;\n",
              "      height: 32px;\n",
              "      padding: 0 0 0 0;\n",
              "      width: 32px;\n",
              "    }\n",
              "\n",
              "    .colab-df-convert:hover {\n",
              "      background-color: #E2EBFA;\n",
              "      box-shadow: 0px 1px 2px rgba(60, 64, 67, 0.3), 0px 1px 3px 1px rgba(60, 64, 67, 0.15);\n",
              "      fill: #174EA6;\n",
              "    }\n",
              "\n",
              "    [theme=dark] .colab-df-convert {\n",
              "      background-color: #3B4455;\n",
              "      fill: #D2E3FC;\n",
              "    }\n",
              "\n",
              "    [theme=dark] .colab-df-convert:hover {\n",
              "      background-color: #434B5C;\n",
              "      box-shadow: 0px 1px 3px 1px rgba(0, 0, 0, 0.15);\n",
              "      filter: drop-shadow(0px 1px 2px rgba(0, 0, 0, 0.3));\n",
              "      fill: #FFFFFF;\n",
              "    }\n",
              "  </style>\n",
              "\n",
              "      <script>\n",
              "        const buttonEl =\n",
              "          document.querySelector('#df-bbeeaf09-adbb-4d1d-9b40-389ecbe23c50 button.colab-df-convert');\n",
              "        buttonEl.style.display =\n",
              "          google.colab.kernel.accessAllowed ? 'block' : 'none';\n",
              "\n",
              "        async function convertToInteractive(key) {\n",
              "          const element = document.querySelector('#df-bbeeaf09-adbb-4d1d-9b40-389ecbe23c50');\n",
              "          const dataTable =\n",
              "            await google.colab.kernel.invokeFunction('convertToInteractive',\n",
              "                                                     [key], {});\n",
              "          if (!dataTable) return;\n",
              "\n",
              "          const docLinkHtml = 'Like what you see? Visit the ' +\n",
              "            '<a target=\"_blank\" href=https://colab.research.google.com/notebooks/data_table.ipynb>data table notebook</a>'\n",
              "            + ' to learn more about interactive tables.';\n",
              "          element.innerHTML = '';\n",
              "          dataTable['output_type'] = 'display_data';\n",
              "          await google.colab.output.renderOutput(dataTable, element);\n",
              "          const docLink = document.createElement('div');\n",
              "          docLink.innerHTML = docLinkHtml;\n",
              "          element.appendChild(docLink);\n",
              "        }\n",
              "      </script>\n",
              "    </div>\n",
              "  </div>\n",
              "  "
            ],
            "text/plain": [
              "      customerID  gender  SeniorCitizen Partner Dependents  tenure  \\\n",
              "2471  1323-OOEPC  Female              0     Yes         No      53   \n",
              "2572  9153-BTBVV  Female              0     Yes         No      71   \n",
              "1369  5478-JJVZK  Female              0      No         No      33   \n",
              "5623  9115-YQHGA    Male              0      No         No      40   \n",
              "4989  0909-SDHNU  Female              0      No        Yes       7   \n",
              "\n",
              "     PhoneService     MultipleLines InternetService       OnlineSecurity  \\\n",
              "2471          Yes               Yes     Fiber optic                   No   \n",
              "2572          Yes               Yes              No  No internet service   \n",
              "1369          Yes               Yes             DSL                  Yes   \n",
              "5623          Yes                No             DSL                   No   \n",
              "4989           No  No phone service             DSL                  Yes   \n",
              "\n",
              "             OnlineBackup     DeviceProtection          TechSupport  \\\n",
              "2471                  Yes                   No                   No   \n",
              "2572  No internet service  No internet service  No internet service   \n",
              "1369                  Yes                   No                   No   \n",
              "5623                   No                   No                  Yes   \n",
              "4989                   No                   No                   No   \n",
              "\n",
              "              StreamingTV      StreamingMovies        Contract  \\\n",
              "2471                  Yes                  Yes  Month-to-month   \n",
              "2572  No internet service  No internet service        Two year   \n",
              "1369                   No                   No  Month-to-month   \n",
              "5623                   No                   No  Month-to-month   \n",
              "4989                   No                   No  Month-to-month   \n",
              "\n",
              "     PaperlessBilling              PaymentMethod  MonthlyCharges TotalCharges  \\\n",
              "2471              Yes    Credit card (automatic)            98.4       5149.5   \n",
              "2572               No  Bank transfer (automatic)            25.0         1753   \n",
              "1369              Yes               Mailed check            60.9      2033.85   \n",
              "5623              Yes           Electronic check            51.1       2092.9   \n",
              "4989               No               Mailed check            29.8       201.95   \n",
              "\n",
              "     Churn  \n",
              "2471   Yes  \n",
              "2572    No  \n",
              "1369    No  \n",
              "5623    No  \n",
              "4989    No  "
            ]
          },
          "execution_count": 14,
          "metadata": {},
          "output_type": "execute_result"
        }
      ],
      "source": [
        "# Get Data for model inference\n",
        "data_inf = raw_data.sample(inf_count, random_state=33)\n",
        "data_inf.sample(5)"
      ]
    },
    {
      "cell_type": "code",
      "execution_count": 15,
      "metadata": {
        "colab": {
          "base_uri": "https://localhost:8080/"
        },
        "id": "AJ5LpPm-yK40",
        "outputId": "097e2e07-3bea-407e-a912-05ce36e52a2b"
      },
      "outputs": [
        {
          "name": "stdout",
          "output_type": "stream",
          "text": [
            "old data size: 7043\n",
            "new data size: 6832\n"
          ]
        }
      ],
      "source": [
        "# drop data_inf from main dataframe\n",
        "raw_data_1 = raw_data.drop(data_inf.index)\n",
        "print(f'old data size: {raw_data.shape[0]}')\n",
        "print(f'new data size: {raw_data_1.shape[0]}')"
      ]
    },
    {
      "cell_type": "code",
      "execution_count": 16,
      "metadata": {
        "id": "ofqnnMMG4Slj"
      },
      "outputs": [],
      "source": [
        "raw_data_2 = raw_data_1.copy()"
      ]
    },
    {
      "cell_type": "code",
      "execution_count": 17,
      "metadata": {
        "colab": {
          "base_uri": "https://localhost:8080/"
        },
        "id": "Q--L09pL4VbF",
        "outputId": "2f2963d3-e4be-42c7-c19f-85f38408733f"
      },
      "outputs": [
        {
          "data": {
            "text/plain": [
              "5832    1470.95\n",
              "6754           \n",
              "126      2135.5\n",
              "6930     216.75\n",
              "4200     3921.1\n",
              "         ...   \n",
              "6235      880.2\n",
              "2292       4965\n",
              "2083      20.15\n",
              "2358    1140.05\n",
              "600      1170.5\n",
              "Name: TotalCharges, Length: 211, dtype: object"
            ]
          },
          "execution_count": 17,
          "metadata": {},
          "output_type": "execute_result"
        }
      ],
      "source": [
        "data_inf['TotalCharges']"
      ]
    },
    {
      "cell_type": "code",
      "execution_count": 18,
      "metadata": {
        "id": "6Ru9TWGRz06H"
      },
      "outputs": [],
      "source": [
        "# Reset Index\n",
        "\n",
        "raw_data_1.reset_index(drop=True, inplace=True)\n",
        "data_inf.reset_index(drop=True, inplace=True)"
      ]
    },
    {
      "cell_type": "code",
      "execution_count": 19,
      "metadata": {
        "colab": {
          "base_uri": "https://localhost:8080/",
          "height": 259
        },
        "id": "yWEbmE_pz6Gc",
        "outputId": "ab38e9ce-c830-43f7-de00-8fdf022d778e"
      },
      "outputs": [
        {
          "data": {
            "text/html": [
              "\n",
              "  <div id=\"df-910b4b90-1dcb-4852-b039-f0f84cd4ce09\">\n",
              "    <div class=\"colab-df-container\">\n",
              "      <div>\n",
              "<style scoped>\n",
              "    .dataframe tbody tr th:only-of-type {\n",
              "        vertical-align: middle;\n",
              "    }\n",
              "\n",
              "    .dataframe tbody tr th {\n",
              "        vertical-align: top;\n",
              "    }\n",
              "\n",
              "    .dataframe thead th {\n",
              "        text-align: right;\n",
              "    }\n",
              "</style>\n",
              "<table border=\"1\" class=\"dataframe\">\n",
              "  <thead>\n",
              "    <tr style=\"text-align: right;\">\n",
              "      <th></th>\n",
              "      <th>customerID</th>\n",
              "      <th>gender</th>\n",
              "      <th>SeniorCitizen</th>\n",
              "      <th>Partner</th>\n",
              "      <th>Dependents</th>\n",
              "      <th>tenure</th>\n",
              "      <th>PhoneService</th>\n",
              "      <th>MultipleLines</th>\n",
              "      <th>InternetService</th>\n",
              "      <th>OnlineSecurity</th>\n",
              "      <th>OnlineBackup</th>\n",
              "      <th>DeviceProtection</th>\n",
              "      <th>TechSupport</th>\n",
              "      <th>StreamingTV</th>\n",
              "      <th>StreamingMovies</th>\n",
              "      <th>Contract</th>\n",
              "      <th>PaperlessBilling</th>\n",
              "      <th>PaymentMethod</th>\n",
              "      <th>MonthlyCharges</th>\n",
              "      <th>TotalCharges</th>\n",
              "      <th>Churn</th>\n",
              "    </tr>\n",
              "  </thead>\n",
              "  <tbody>\n",
              "    <tr>\n",
              "      <th>0</th>\n",
              "      <td>6017-PPLPX</td>\n",
              "      <td>Male</td>\n",
              "      <td>0</td>\n",
              "      <td>Yes</td>\n",
              "      <td>Yes</td>\n",
              "      <td>20</td>\n",
              "      <td>Yes</td>\n",
              "      <td>No</td>\n",
              "      <td>Fiber optic</td>\n",
              "      <td>No</td>\n",
              "      <td>No</td>\n",
              "      <td>No</td>\n",
              "      <td>No</td>\n",
              "      <td>No</td>\n",
              "      <td>No</td>\n",
              "      <td>Month-to-month</td>\n",
              "      <td>Yes</td>\n",
              "      <td>Electronic check</td>\n",
              "      <td>70.45</td>\n",
              "      <td>1470.95</td>\n",
              "      <td>Yes</td>\n",
              "    </tr>\n",
              "    <tr>\n",
              "      <th>1</th>\n",
              "      <td>2775-SEFEE</td>\n",
              "      <td>Male</td>\n",
              "      <td>0</td>\n",
              "      <td>No</td>\n",
              "      <td>Yes</td>\n",
              "      <td>0</td>\n",
              "      <td>Yes</td>\n",
              "      <td>Yes</td>\n",
              "      <td>DSL</td>\n",
              "      <td>Yes</td>\n",
              "      <td>Yes</td>\n",
              "      <td>No</td>\n",
              "      <td>Yes</td>\n",
              "      <td>No</td>\n",
              "      <td>No</td>\n",
              "      <td>Two year</td>\n",
              "      <td>Yes</td>\n",
              "      <td>Bank transfer (automatic)</td>\n",
              "      <td>61.90</td>\n",
              "      <td></td>\n",
              "      <td>No</td>\n",
              "    </tr>\n",
              "    <tr>\n",
              "      <th>2</th>\n",
              "      <td>4412-YLTKF</td>\n",
              "      <td>Female</td>\n",
              "      <td>1</td>\n",
              "      <td>No</td>\n",
              "      <td>No</td>\n",
              "      <td>27</td>\n",
              "      <td>Yes</td>\n",
              "      <td>Yes</td>\n",
              "      <td>Fiber optic</td>\n",
              "      <td>No</td>\n",
              "      <td>No</td>\n",
              "      <td>Yes</td>\n",
              "      <td>No</td>\n",
              "      <td>No</td>\n",
              "      <td>No</td>\n",
              "      <td>Month-to-month</td>\n",
              "      <td>Yes</td>\n",
              "      <td>Electronic check</td>\n",
              "      <td>78.05</td>\n",
              "      <td>2135.5</td>\n",
              "      <td>Yes</td>\n",
              "    </tr>\n",
              "  </tbody>\n",
              "</table>\n",
              "</div>\n",
              "      <button class=\"colab-df-convert\" onclick=\"convertToInteractive('df-910b4b90-1dcb-4852-b039-f0f84cd4ce09')\"\n",
              "              title=\"Convert this dataframe to an interactive table.\"\n",
              "              style=\"display:none;\">\n",
              "        \n",
              "  <svg xmlns=\"http://www.w3.org/2000/svg\" height=\"24px\"viewBox=\"0 0 24 24\"\n",
              "       width=\"24px\">\n",
              "    <path d=\"M0 0h24v24H0V0z\" fill=\"none\"/>\n",
              "    <path d=\"M18.56 5.44l.94 2.06.94-2.06 2.06-.94-2.06-.94-.94-2.06-.94 2.06-2.06.94zm-11 1L8.5 8.5l.94-2.06 2.06-.94-2.06-.94L8.5 2.5l-.94 2.06-2.06.94zm10 10l.94 2.06.94-2.06 2.06-.94-2.06-.94-.94-2.06-.94 2.06-2.06.94z\"/><path d=\"M17.41 7.96l-1.37-1.37c-.4-.4-.92-.59-1.43-.59-.52 0-1.04.2-1.43.59L10.3 9.45l-7.72 7.72c-.78.78-.78 2.05 0 2.83L4 21.41c.39.39.9.59 1.41.59.51 0 1.02-.2 1.41-.59l7.78-7.78 2.81-2.81c.8-.78.8-2.07 0-2.86zM5.41 20L4 18.59l7.72-7.72 1.47 1.35L5.41 20z\"/>\n",
              "  </svg>\n",
              "      </button>\n",
              "      \n",
              "  <style>\n",
              "    .colab-df-container {\n",
              "      display:flex;\n",
              "      flex-wrap:wrap;\n",
              "      gap: 12px;\n",
              "    }\n",
              "\n",
              "    .colab-df-convert {\n",
              "      background-color: #E8F0FE;\n",
              "      border: none;\n",
              "      border-radius: 50%;\n",
              "      cursor: pointer;\n",
              "      display: none;\n",
              "      fill: #1967D2;\n",
              "      height: 32px;\n",
              "      padding: 0 0 0 0;\n",
              "      width: 32px;\n",
              "    }\n",
              "\n",
              "    .colab-df-convert:hover {\n",
              "      background-color: #E2EBFA;\n",
              "      box-shadow: 0px 1px 2px rgba(60, 64, 67, 0.3), 0px 1px 3px 1px rgba(60, 64, 67, 0.15);\n",
              "      fill: #174EA6;\n",
              "    }\n",
              "\n",
              "    [theme=dark] .colab-df-convert {\n",
              "      background-color: #3B4455;\n",
              "      fill: #D2E3FC;\n",
              "    }\n",
              "\n",
              "    [theme=dark] .colab-df-convert:hover {\n",
              "      background-color: #434B5C;\n",
              "      box-shadow: 0px 1px 3px 1px rgba(0, 0, 0, 0.15);\n",
              "      filter: drop-shadow(0px 1px 2px rgba(0, 0, 0, 0.3));\n",
              "      fill: #FFFFFF;\n",
              "    }\n",
              "  </style>\n",
              "\n",
              "      <script>\n",
              "        const buttonEl =\n",
              "          document.querySelector('#df-910b4b90-1dcb-4852-b039-f0f84cd4ce09 button.colab-df-convert');\n",
              "        buttonEl.style.display =\n",
              "          google.colab.kernel.accessAllowed ? 'block' : 'none';\n",
              "\n",
              "        async function convertToInteractive(key) {\n",
              "          const element = document.querySelector('#df-910b4b90-1dcb-4852-b039-f0f84cd4ce09');\n",
              "          const dataTable =\n",
              "            await google.colab.kernel.invokeFunction('convertToInteractive',\n",
              "                                                     [key], {});\n",
              "          if (!dataTable) return;\n",
              "\n",
              "          const docLinkHtml = 'Like what you see? Visit the ' +\n",
              "            '<a target=\"_blank\" href=https://colab.research.google.com/notebooks/data_table.ipynb>data table notebook</a>'\n",
              "            + ' to learn more about interactive tables.';\n",
              "          element.innerHTML = '';\n",
              "          dataTable['output_type'] = 'display_data';\n",
              "          await google.colab.output.renderOutput(dataTable, element);\n",
              "          const docLink = document.createElement('div');\n",
              "          docLink.innerHTML = docLinkHtml;\n",
              "          element.appendChild(docLink);\n",
              "        }\n",
              "      </script>\n",
              "    </div>\n",
              "  </div>\n",
              "  "
            ],
            "text/plain": [
              "   customerID  gender  SeniorCitizen Partner Dependents  tenure PhoneService  \\\n",
              "0  6017-PPLPX    Male              0     Yes        Yes      20          Yes   \n",
              "1  2775-SEFEE    Male              0      No        Yes       0          Yes   \n",
              "2  4412-YLTKF  Female              1      No         No      27          Yes   \n",
              "\n",
              "  MultipleLines InternetService OnlineSecurity OnlineBackup DeviceProtection  \\\n",
              "0            No     Fiber optic             No           No               No   \n",
              "1           Yes             DSL            Yes          Yes               No   \n",
              "2           Yes     Fiber optic             No           No              Yes   \n",
              "\n",
              "  TechSupport StreamingTV StreamingMovies        Contract PaperlessBilling  \\\n",
              "0          No          No              No  Month-to-month              Yes   \n",
              "1         Yes          No              No        Two year              Yes   \n",
              "2          No          No              No  Month-to-month              Yes   \n",
              "\n",
              "               PaymentMethod  MonthlyCharges TotalCharges Churn  \n",
              "0           Electronic check           70.45      1470.95   Yes  \n",
              "1  Bank transfer (automatic)           61.90                 No  \n",
              "2           Electronic check           78.05       2135.5   Yes  "
            ]
          },
          "execution_count": 19,
          "metadata": {},
          "output_type": "execute_result"
        }
      ],
      "source": [
        "data_inf.head(3)"
      ]
    },
    {
      "cell_type": "markdown",
      "metadata": {
        "id": "99gaPRDHyO9_"
      },
      "source": [
        "## V.II. Split train test dataset"
      ]
    },
    {
      "cell_type": "code",
      "execution_count": 20,
      "metadata": {
        "id": "CW0egQgryOEr"
      },
      "outputs": [],
      "source": [
        "# define features variable as X\n",
        "X = raw_data_1.drop('Churn', axis=1)"
      ]
    },
    {
      "cell_type": "code",
      "execution_count": 21,
      "metadata": {
        "colab": {
          "base_uri": "https://localhost:8080/"
        },
        "id": "miYo8bgoyiAG",
        "outputId": "7e92d35f-8165-4dac-debe-ae652be6b6f8"
      },
      "outputs": [
        {
          "data": {
            "text/plain": [
              "4946     No\n",
              "5248    Yes\n",
              "1098     No\n",
              "1799     No\n",
              "4424     No\n",
              "Name: Churn, dtype: object"
            ]
          },
          "execution_count": 21,
          "metadata": {},
          "output_type": "execute_result"
        }
      ],
      "source": [
        "# define target variable as y\n",
        "y = raw_data_1['Churn']\n",
        "y.sample(5)"
      ]
    },
    {
      "cell_type": "code",
      "execution_count": 22,
      "metadata": {
        "colab": {
          "base_uri": "https://localhost:8080/"
        },
        "id": "h5yzzF-bzmT5",
        "outputId": "e995f658-38f4-405a-89dd-b8bb4a2b70d4"
      },
      "outputs": [
        {
          "name": "stdout",
          "output_type": "stream",
          "text": [
            "Train Size :  (5533, 20)\n",
            "Val Size :  (615, 20)\n",
            "Test Size :  (684, 20)\n"
          ]
        }
      ],
      "source": [
        "# Split between Train-Set, Val-Set, and Test-Set\n",
        "\n",
        "X_train_val, X_test, y_train_val, y_test = train_test_split(X, y, test_size=0.1, random_state=33)\n",
        "X_train, X_val, y_train, y_val = train_test_split(X_train_val, y_train_val, test_size=0.1, random_state=33)\n",
        "\n",
        "print('Train Size : ', X_train.shape)\n",
        "print('Val Size : ', X_val.shape)\n",
        "print('Test Size : ', X_test.shape)"
      ]
    },
    {
      "cell_type": "markdown",
      "metadata": {
        "id": "6_J0HUzB0MSH"
      },
      "source": [
        "## V.III. Handling Missing values"
      ]
    },
    {
      "cell_type": "code",
      "execution_count": 23,
      "metadata": {
        "colab": {
          "base_uri": "https://localhost:8080/"
        },
        "id": "EYmXe1nH0J7M",
        "outputId": "3016aebb-b5c1-42b3-9e5c-dd1747bffc6c"
      },
      "outputs": [
        {
          "data": {
            "text/plain": [
              "customerID          0\n",
              "gender              0\n",
              "SeniorCitizen       0\n",
              "Partner             0\n",
              "Dependents          0\n",
              "tenure              0\n",
              "PhoneService        0\n",
              "MultipleLines       0\n",
              "InternetService     0\n",
              "OnlineSecurity      0\n",
              "OnlineBackup        0\n",
              "DeviceProtection    0\n",
              "TechSupport         0\n",
              "StreamingTV         0\n",
              "StreamingMovies     0\n",
              "Contract            0\n",
              "PaperlessBilling    0\n",
              "PaymentMethod       0\n",
              "MonthlyCharges      0\n",
              "TotalCharges        0\n",
              "dtype: int64"
            ]
          },
          "execution_count": 23,
          "metadata": {},
          "output_type": "execute_result"
        }
      ],
      "source": [
        "# Check Missing Values on X_train\n",
        "\n",
        "X_train.isnull().sum()"
      ]
    },
    {
      "cell_type": "markdown",
      "metadata": {
        "id": "6c_UJCnj0SjS"
      },
      "source": [
        "Since there are no missing values, we can skip this step"
      ]
    },
    {
      "cell_type": "markdown",
      "metadata": {
        "id": "a-ZRE-gK2BPg"
      },
      "source": [
        "## V.IV. Handling Outlier"
      ]
    },
    {
      "cell_type": "code",
      "execution_count": 24,
      "metadata": {
        "id": "zorqGAHc0QXS"
      },
      "outputs": [],
      "source": [
        "# make plot for outlier\n",
        "\n",
        "def outlier_plot(features):\n",
        "    # Define figure size\n",
        "    plt.figure(figsize=(16, 6))\n",
        "\n",
        "    # Histogram\n",
        "    plt.subplot(1, 2, 1)\n",
        "    sns.histplot(features, bins=30, kde=True)\n",
        "    plt.title('Histogram')\n",
        "\n",
        "    # Boxplot\n",
        "    plt.subplot(1, 2, 2)\n",
        "    sns.boxplot(y=features)\n",
        "    plt.title('Boxplot')\n",
        "\n",
        "    plt.show()"
      ]
    },
    {
      "cell_type": "code",
      "execution_count": 25,
      "metadata": {
        "id": "huMPTKfx2LQF"
      },
      "outputs": [],
      "source": [
        "# make boundary function\n",
        "def iqr_calc(feature):\n",
        "    skew_value = feature.skew()\n",
        "    if -0.5 > skew_value < 0.5:\n",
        "        upper_boundary = feature.mean() + 3 * feature.std()\n",
        "        lower_boundary = feature.mean() - 3 * feature.std()\n",
        "    else:\n",
        "        IQR= feature.quantile(0.75) - feature.quantile(0.25)\n",
        "        lower_boundary= feature.quantile(0.25)-(IQR*1.5)\n",
        "        upper_boundary= feature.quantile(0.75)+(IQR*1.5)\n",
        "    return lower_boundary, upper_boundary"
      ]
    },
    {
      "cell_type": "code",
      "execution_count": 26,
      "metadata": {
        "id": "_H_eWkcY2MhD"
      },
      "outputs": [],
      "source": [
        "# make capping function\n",
        "def capping_data(dataset, column):\n",
        "  lower_bound, upper_bound = iqr_calc(dataset[column])\n",
        "  dataset.loc[dataset[column] > upper_bound, column] = upper_bound\n",
        "  dataset.loc[dataset[column] < lower_bound, column] = lower_bound\n",
        "  return dataset"
      ]
    },
    {
      "cell_type": "code",
      "execution_count": 27,
      "metadata": {
        "colab": {
          "base_uri": "https://localhost:8080/"
        },
        "id": "WrUvMFIn2NfZ",
        "outputId": "926c1e7d-1490-4a63-e33f-7a918c32f6f0"
      },
      "outputs": [
        {
          "name": "stdout",
          "output_type": "stream",
          "text": [
            "Numerical Columns   :  ['SeniorCitizen', 'tenure', 'MonthlyCharges']\n",
            "Categorical Columns :  ['customerID', 'gender', 'Partner', 'Dependents', 'PhoneService', 'MultipleLines', 'InternetService', 'OnlineSecurity', 'OnlineBackup', 'DeviceProtection', 'TechSupport', 'StreamingTV', 'StreamingMovies', 'Contract', 'PaperlessBilling', 'PaymentMethod', 'TotalCharges']\n"
          ]
        }
      ],
      "source": [
        "# Get Numerical Columns and Categorical Columns\n",
        "\n",
        "num_columns = X_train.select_dtypes(include=np.number).columns.tolist()\n",
        "cat_columns = X_train.select_dtypes(include=['object']).columns.tolist()\n",
        "\n",
        "print('Numerical Columns   : ', num_columns)\n",
        "print('Categorical Columns : ', cat_columns)"
      ]
    },
    {
      "cell_type": "code",
      "execution_count": 28,
      "metadata": {
        "id": "Otowu31RBPCe"
      },
      "outputs": [],
      "source": [
        "# remove customerID because its not needed for modelling\n",
        "cat_columns.remove('customerID')\n",
        "cat_columns.remove('TotalCharges')"
      ]
    },
    {
      "cell_type": "code",
      "execution_count": 29,
      "metadata": {
        "colab": {
          "base_uri": "https://localhost:8080/",
          "height": 1000
        },
        "id": "bd_RR-4o2Ri3",
        "outputId": "fe692a4a-759b-49cd-b2f1-b671e9cc97d6"
      },
      "outputs": [
        {
          "data": {
            "image/png": "[encoded data removed]",
            "text/plain": [
              "<Figure size 1152x432 with 2 Axes>"
            ]
          },
          "metadata": {},
          "output_type": "display_data"
        },
        {
          "data": {
            "image/png": "[encoded data removed]",
            "text/plain": [
              "<Figure size 1152x432 with 2 Axes>"
            ]
          },
          "metadata": {},
          "output_type": "display_data"
        },
        {
          "data": {
            "image/png": "[encoded data removed]",
            "text/plain": [
              "<Figure size 1152x432 with 2 Axes>"
            ]
          },
          "metadata": {},
          "output_type": "display_data"
        }
      ],
      "source": [
        "# plotting for numerical columns\n",
        "for i in num_columns:\n",
        "  outlier_plot(X_train[i])"
      ]
    },
    {
      "cell_type": "code",
      "execution_count": 30,
      "metadata": {
        "id": "eRntAclA2UdB"
      },
      "outputs": [],
      "source": [
        "# Capping numerical columns\n",
        "X_train_2 = X_train.copy()\n",
        "for i in num_columns:\n",
        "    capping_data(X_train_2, i)"
      ]
    },
    {
      "cell_type": "code",
      "execution_count": 31,
      "metadata": {
        "colab": {
          "base_uri": "https://localhost:8080/",
          "height": 1000
        },
        "id": "w6WViC132W1G",
        "outputId": "ef477d93-c7d2-4465-b8b8-d399c9c14fb3"
      },
      "outputs": [
        {
          "data": {
            "image/png": "[encoded data removed]",
            "text/plain": [
              "<Figure size 1152x432 with 2 Axes>"
            ]
          },
          "metadata": {},
          "output_type": "display_data"
        },
        {
          "data": {
            "image/png": "[encoded data removed]",
            "text/plain": [
              "<Figure size 1152x432 with 2 Axes>"
            ]
          },
          "metadata": {},
          "output_type": "display_data"
        },
        {
          "data": {
            "image/png": "[encoded data removed]",
            "text/plain": [
              "<Figure size 1152x432 with 2 Axes>"
            ]
          },
          "metadata": {},
          "output_type": "display_data"
        }
      ],
      "source": [
        "# recheck for outlier_list\n",
        "for i in num_columns:\n",
        "  outlier_plot(X_train_2[i])"
      ]
    },
    {
      "cell_type": "markdown",
      "metadata": {
        "id": "9B2OBb5u8XbV"
      },
      "source": [
        "## V.V. Feature selection"
      ]
    },
    {
      "cell_type": "code",
      "execution_count": 32,
      "metadata": {
        "id": "xELpXNV08aps"
      },
      "outputs": [],
      "source": [
        "# find corelation between features\n",
        "X_train_cor = X_train_2.corr() "
      ]
    },
    {
      "cell_type": "code",
      "execution_count": 33,
      "metadata": {
        "colab": {
          "base_uri": "https://localhost:8080/",
          "height": 143
        },
        "id": "Fe-Xby_f8uTH",
        "outputId": "76af9037-4cda-4707-e60c-7b2b737d4d8a"
      },
      "outputs": [
        {
          "data": {
            "text/html": [
              "\n",
              "  <div id=\"df-a1295440-f9b2-4e0f-89e9-fe15bdf500a5\">\n",
              "    <div class=\"colab-df-container\">\n",
              "      <div>\n",
              "<style scoped>\n",
              "    .dataframe tbody tr th:only-of-type {\n",
              "        vertical-align: middle;\n",
              "    }\n",
              "\n",
              "    .dataframe tbody tr th {\n",
              "        vertical-align: top;\n",
              "    }\n",
              "\n",
              "    .dataframe thead th {\n",
              "        text-align: right;\n",
              "    }\n",
              "</style>\n",
              "<table border=\"1\" class=\"dataframe\">\n",
              "  <thead>\n",
              "    <tr style=\"text-align: right;\">\n",
              "      <th></th>\n",
              "      <th>SeniorCitizen</th>\n",
              "      <th>tenure</th>\n",
              "      <th>MonthlyCharges</th>\n",
              "    </tr>\n",
              "  </thead>\n",
              "  <tbody>\n",
              "    <tr>\n",
              "      <th>SeniorCitizen</th>\n",
              "      <td>NaN</td>\n",
              "      <td>NaN</td>\n",
              "      <td>NaN</td>\n",
              "    </tr>\n",
              "    <tr>\n",
              "      <th>tenure</th>\n",
              "      <td>NaN</td>\n",
              "      <td>1.000000</td>\n",
              "      <td>0.245284</td>\n",
              "    </tr>\n",
              "    <tr>\n",
              "      <th>MonthlyCharges</th>\n",
              "      <td>NaN</td>\n",
              "      <td>0.245284</td>\n",
              "      <td>1.000000</td>\n",
              "    </tr>\n",
              "  </tbody>\n",
              "</table>\n",
              "</div>\n",
              "      <button class=\"colab-df-convert\" onclick=\"convertToInteractive('df-a1295440-f9b2-4e0f-89e9-fe15bdf500a5')\"\n",
              "              title=\"Convert this dataframe to an interactive table.\"\n",
              "              style=\"display:none;\">\n",
              "        \n",
              "  <svg xmlns=\"http://www.w3.org/2000/svg\" height=\"24px\"viewBox=\"0 0 24 24\"\n",
              "       width=\"24px\">\n",
              "    <path d=\"M0 0h24v24H0V0z\" fill=\"none\"/>\n",
              "    <path d=\"M18.56 5.44l.94 2.06.94-2.06 2.06-.94-2.06-.94-.94-2.06-.94 2.06-2.06.94zm-11 1L8.5 8.5l.94-2.06 2.06-.94-2.06-.94L8.5 2.5l-.94 2.06-2.06.94zm10 10l.94 2.06.94-2.06 2.06-.94-2.06-.94-.94-2.06-.94 2.06-2.06.94z\"/><path d=\"M17.41 7.96l-1.37-1.37c-.4-.4-.92-.59-1.43-.59-.52 0-1.04.2-1.43.59L10.3 9.45l-7.72 7.72c-.78.78-.78 2.05 0 2.83L4 21.41c.39.39.9.59 1.41.59.51 0 1.02-.2 1.41-.59l7.78-7.78 2.81-2.81c.8-.78.8-2.07 0-2.86zM5.41 20L4 18.59l7.72-7.72 1.47 1.35L5.41 20z\"/>\n",
              "  </svg>\n",
              "      </button>\n",
              "      \n",
              "  <style>\n",
              "    .colab-df-container {\n",
              "      display:flex;\n",
              "      flex-wrap:wrap;\n",
              "      gap: 12px;\n",
              "    }\n",
              "\n",
              "    .colab-df-convert {\n",
              "      background-color: #E8F0FE;\n",
              "      border: none;\n",
              "      border-radius: 50%;\n",
              "      cursor: pointer;\n",
              "      display: none;\n",
              "      fill: #1967D2;\n",
              "      height: 32px;\n",
              "      padding: 0 0 0 0;\n",
              "      width: 32px;\n",
              "    }\n",
              "\n",
              "    .colab-df-convert:hover {\n",
              "      background-color: #E2EBFA;\n",
              "      box-shadow: 0px 1px 2px rgba(60, 64, 67, 0.3), 0px 1px 3px 1px rgba(60, 64, 67, 0.15);\n",
              "      fill: #174EA6;\n",
              "    }\n",
              "\n",
              "    [theme=dark] .colab-df-convert {\n",
              "      background-color: #3B4455;\n",
              "      fill: #D2E3FC;\n",
              "    }\n",
              "\n",
              "    [theme=dark] .colab-df-convert:hover {\n",
              "      background-color: #434B5C;\n",
              "      box-shadow: 0px 1px 3px 1px rgba(0, 0, 0, 0.15);\n",
              "      filter: drop-shadow(0px 1px 2px rgba(0, 0, 0, 0.3));\n",
              "      fill: #FFFFFF;\n",
              "    }\n",
              "  </style>\n",
              "\n",
              "      <script>\n",
              "        const buttonEl =\n",
              "          document.querySelector('#df-a1295440-f9b2-4e0f-89e9-fe15bdf500a5 button.colab-df-convert');\n",
              "        buttonEl.style.display =\n",
              "          google.colab.kernel.accessAllowed ? 'block' : 'none';\n",
              "\n",
              "        async function convertToInteractive(key) {\n",
              "          const element = document.querySelector('#df-a1295440-f9b2-4e0f-89e9-fe15bdf500a5');\n",
              "          const dataTable =\n",
              "            await google.colab.kernel.invokeFunction('convertToInteractive',\n",
              "                                                     [key], {});\n",
              "          if (!dataTable) return;\n",
              "\n",
              "          const docLinkHtml = 'Like what you see? Visit the ' +\n",
              "            '<a target=\"_blank\" href=https://colab.research.google.com/notebooks/data_table.ipynb>data table notebook</a>'\n",
              "            + ' to learn more about interactive tables.';\n",
              "          element.innerHTML = '';\n",
              "          dataTable['output_type'] = 'display_data';\n",
              "          await google.colab.output.renderOutput(dataTable, element);\n",
              "          const docLink = document.createElement('div');\n",
              "          docLink.innerHTML = docLinkHtml;\n",
              "          element.appendChild(docLink);\n",
              "        }\n",
              "      </script>\n",
              "    </div>\n",
              "  </div>\n",
              "  "
            ],
            "text/plain": [
              "                SeniorCitizen    tenure  MonthlyCharges\n",
              "SeniorCitizen             NaN       NaN             NaN\n",
              "tenure                    NaN  1.000000        0.245284\n",
              "MonthlyCharges            NaN  0.245284        1.000000"
            ]
          },
          "execution_count": 33,
          "metadata": {},
          "output_type": "execute_result"
        }
      ],
      "source": [
        "# summarize correlation between features\n",
        "X_train_cor"
      ]
    },
    {
      "cell_type": "markdown",
      "metadata": {
        "id": "swFEhYX19HBM"
      },
      "source": [
        "There are no correlation whatsoever between the features. We're not going to remove any feature."
      ]
    },
    {
      "cell_type": "markdown",
      "metadata": {
        "id": "dOsobNIXlaJb"
      },
      "source": [
        "## V.VI. Encoding"
      ]
    },
    {
      "cell_type": "code",
      "execution_count": 34,
      "metadata": {
        "id": "_HQR7yFBlfgm"
      },
      "outputs": [],
      "source": [
        "# encode using one hot encoding\n",
        "# Creating instance of one_hot encoder\n",
        "encoder = OneHotEncoder(sparse=False)\n",
        "encoder_2 = LabelEncoder()\n",
        "\n",
        "# perform one-hot encoding on categorical column\n",
        "encoder_cat_train = encoder.fit_transform(X_train_2[cat_columns])\n",
        "encoder_cat_test = encoder.fit_transform(X_test[cat_columns])\n",
        "encoder_cat_val = encoder.fit_transform(X_val[cat_columns])\n",
        "\n",
        "# perform one-hot encoding on target column\n",
        "encoder_2.fit(y_train)\n",
        "\n",
        "y_train_final = encoder_2.transform(y_train)\n",
        "y_test_final = encoder_2.transform(y_test)\n",
        "y_val_final = encoder_2.transform(y_val)"
      ]
    },
    {
      "cell_type": "code",
      "execution_count": 35,
      "metadata": {
        "colab": {
          "base_uri": "https://localhost:8080/"
        },
        "id": "VgI1wGvdgVsa",
        "outputId": "8141ae18-c54b-4892-c08e-579805bf49dd"
      },
      "outputs": [
        {
          "data": {
            "text/plain": [
              "array([[1., 0., 0., ..., 1., 0., 0.],\n",
              "       [0., 1., 0., ..., 1., 0., 0.],\n",
              "       [1., 0., 1., ..., 0., 1., 0.],\n",
              "       ...,\n",
              "       [0., 1., 0., ..., 0., 0., 1.],\n",
              "       [1., 0., 0., ..., 0., 0., 0.],\n",
              "       [1., 0., 1., ..., 0., 1., 0.]])"
            ]
          },
          "execution_count": 35,
          "metadata": {},
          "output_type": "execute_result"
        }
      ],
      "source": [
        "encoder_cat_val"
      ]
    },
    {
      "cell_type": "markdown",
      "metadata": {
        "id": "QaGcefNvFYu1"
      },
      "source": [
        "## V.VII. Scaling"
      ]
    },
    {
      "cell_type": "code",
      "execution_count": 36,
      "metadata": {
        "id": "DVfYAP_YFcgy"
      },
      "outputs": [],
      "source": [
        "X_train_num = X_train_2[num_columns]\n",
        "X_test_num = X_test[num_columns]\n",
        "X_val_num = X_val[num_columns]"
      ]
    },
    {
      "cell_type": "code",
      "execution_count": 37,
      "metadata": {
        "id": "7a5AyNnkGXVL"
      },
      "outputs": [],
      "source": [
        "# Define scaler\n",
        "scaler = MinMaxScaler()\n",
        "\n",
        "scaler.fit(X_train_num)\n",
        "\n",
        "X_train_num_scaled = scaler.transform(X_train_num)\n",
        "X_test_num_scaled = scaler.transform(X_test_num)\n",
        "X_val_num_scaled = scaler.transform(X_val_num)"
      ]
    },
    {
      "cell_type": "code",
      "execution_count": 38,
      "metadata": {
        "colab": {
          "base_uri": "https://localhost:8080/"
        },
        "id": "k4s45k_JHdrG",
        "outputId": "585c58cc-f71b-491f-e62e-b3d2da7cc3ac"
      },
      "outputs": [
        {
          "data": {
            "text/plain": [
              "array([[0.        , 0.09722222, 0.59940209, ..., 0.        , 0.        ,\n",
              "        0.        ],\n",
              "       [0.        , 0.01388889, 0.5630294 , ..., 0.        , 1.        ,\n",
              "        0.        ],\n",
              "       [0.        , 0.06944444, 0.02242152, ..., 0.        , 0.        ,\n",
              "        0.        ],\n",
              "       ...,\n",
              "       [1.        , 0.01388889, 0.67414051, ..., 0.        , 1.        ,\n",
              "        0.        ],\n",
              "       [0.        , 0.19444444, 0.01295466, ..., 0.        , 0.        ,\n",
              "        1.        ],\n",
              "       [0.        , 0.01388889, 0.51519681, ..., 0.        , 1.        ,\n",
              "        0.        ]])"
            ]
          },
          "execution_count": 38,
          "metadata": {},
          "output_type": "execute_result"
        }
      ],
      "source": [
        "# concate columns\n",
        "\n",
        "x_train_final = np.concatenate([X_train_num_scaled, encoder_cat_train], axis=1)\n",
        "x_test_final = np.concatenate([X_test_num_scaled, encoder_cat_test], axis=1)\n",
        "x_val_final = np.concatenate([X_val_num_scaled, encoder_cat_val], axis=1)\n",
        "\n",
        "x_test_final"
      ]
    },
    {
      "cell_type": "markdown",
      "metadata": {
        "id": "VMtYKyjygTLC"
      },
      "source": [
        "# VI. Modelling"
      ]
    },
    {
      "cell_type": "markdown",
      "metadata": {
        "id": "Jkat2M2pDtsz"
      },
      "source": [
        "## VI.I. Sequential API\n"
      ]
    },
    {
      "cell_type": "markdown",
      "metadata": {
        "id": "dV3Vg0vHNW_Q"
      },
      "source": [
        "### VI.I.I Define Model"
      ]
    },
    {
      "cell_type": "code",
      "execution_count": 39,
      "metadata": {
        "colab": {
          "base_uri": "https://localhost:8080/"
        },
        "id": "2VrXAQQf1nJG",
        "outputId": "b27e7f78-8f0e-4251-8575-feeb8d5ee2fa"
      },
      "outputs": [
        {
          "name": "stdout",
          "output_type": "stream",
          "text": [
            "Model: \"sequential\"\n",
            "_________________________________________________________________\n",
            " Layer (type)                Output Shape              Param #   \n",
            "=================================================================\n",
            " dense (Dense)               (None, 5)                 225       \n",
            "                                                                 \n",
            " dense_1 (Dense)             (None, 1)                 6         \n",
            "                                                                 \n",
            "=================================================================\n",
            "Total params: 231\n",
            "Trainable params: 231\n",
            "Non-trainable params: 0\n",
            "_________________________________________________________________\n"
          ]
        }
      ],
      "source": [
        "# Create Sequential API\n",
        "\n",
        "model_sequential = Sequential()\n",
        "model_sequential.add(Dense(5, activation='relu', input_shape=(44,))) # Hidden Layer 1\n",
        "model_sequential.add(Dense(1, activation='sigmoid'))  # Output Layer\n",
        "\n",
        "# Compile\n",
        "model_sequential.compile(loss='binary_crossentropy',\n",
        "                         optimizer='Adam',\n",
        "                         metrics=['accuracy'])\n",
        "\n",
        "model_sequential.summary()"
      ]
    },
    {
      "cell_type": "markdown",
      "metadata": {
        "id": "yw41NuhsNbOn"
      },
      "source": [
        "### VI.I.II Train and evaluate Model using pipeline"
      ]
    },
    {
      "cell_type": "code",
      "execution_count": 40,
      "metadata": {
        "colab": {
          "base_uri": "https://localhost:8080/"
        },
        "id": "TkC0asiywwCF",
        "outputId": "1d0b5232-7a20-4a28-9226-b962dfc5b12f"
      },
      "outputs": [
        {
          "name": "stdout",
          "output_type": "stream",
          "text": [
            "Epoch 1/30\n",
            "44/44 [==============================] - 4s 6ms/step - loss: 0.7639 - accuracy: 0.4864 - val_loss: 0.6319 - val_accuracy: 0.6537\n",
            "Epoch 2/30\n",
            "44/44 [==============================] - 0s 4ms/step - loss: 0.5824 - accuracy: 0.7141 - val_loss: 0.5554 - val_accuracy: 0.7447\n",
            "Epoch 3/30\n",
            "44/44 [==============================] - 0s 3ms/step - loss: 0.5228 - accuracy: 0.7553 - val_loss: 0.5145 - val_accuracy: 0.7724\n",
            "Epoch 4/30\n",
            "44/44 [==============================] - 0s 4ms/step - loss: 0.4850 - accuracy: 0.7743 - val_loss: 0.4885 - val_accuracy: 0.7772\n",
            "Epoch 5/30\n",
            "44/44 [==============================] - 0s 3ms/step - loss: 0.4608 - accuracy: 0.7828 - val_loss: 0.4731 - val_accuracy: 0.7740\n",
            "Epoch 6/30\n",
            "44/44 [==============================] - 0s 3ms/step - loss: 0.4456 - accuracy: 0.7893 - val_loss: 0.4652 - val_accuracy: 0.7756\n",
            "Epoch 7/30\n",
            "44/44 [==============================] - 0s 3ms/step - loss: 0.4369 - accuracy: 0.7943 - val_loss: 0.4606 - val_accuracy: 0.7789\n",
            "Epoch 8/30\n",
            "44/44 [==============================] - 0s 4ms/step - loss: 0.4314 - accuracy: 0.7954 - val_loss: 0.4582 - val_accuracy: 0.7854\n",
            "Epoch 9/30\n",
            "44/44 [==============================] - 0s 3ms/step - loss: 0.4280 - accuracy: 0.7956 - val_loss: 0.4570 - val_accuracy: 0.7854\n",
            "Epoch 10/30\n",
            "44/44 [==============================] - 0s 3ms/step - loss: 0.4255 - accuracy: 0.7974 - val_loss: 0.4557 - val_accuracy: 0.7870\n",
            "Epoch 11/30\n",
            "44/44 [==============================] - 0s 3ms/step - loss: 0.4237 - accuracy: 0.7987 - val_loss: 0.4546 - val_accuracy: 0.7870\n",
            "Epoch 12/30\n",
            "44/44 [==============================] - 0s 4ms/step - loss: 0.4220 - accuracy: 0.7996 - val_loss: 0.4540 - val_accuracy: 0.7902\n",
            "Epoch 13/30\n",
            "44/44 [==============================] - 0s 3ms/step - loss: 0.4207 - accuracy: 0.8007 - val_loss: 0.4534 - val_accuracy: 0.7935\n",
            "Epoch 14/30\n",
            "44/44 [==============================] - 0s 3ms/step - loss: 0.4199 - accuracy: 0.8008 - val_loss: 0.4526 - val_accuracy: 0.7984\n",
            "Epoch 15/30\n",
            "44/44 [==============================] - 0s 3ms/step - loss: 0.4191 - accuracy: 0.8001 - val_loss: 0.4521 - val_accuracy: 0.7967\n",
            "Epoch 16/30\n",
            "44/44 [==============================] - 0s 3ms/step - loss: 0.4186 - accuracy: 0.8007 - val_loss: 0.4518 - val_accuracy: 0.7984\n",
            "Epoch 17/30\n",
            "44/44 [==============================] - 0s 4ms/step - loss: 0.4178 - accuracy: 0.8023 - val_loss: 0.4509 - val_accuracy: 0.8000\n",
            "Epoch 18/30\n",
            "44/44 [==============================] - 0s 3ms/step - loss: 0.4171 - accuracy: 0.8017 - val_loss: 0.4503 - val_accuracy: 0.8098\n",
            "Epoch 19/30\n",
            "44/44 [==============================] - 0s 3ms/step - loss: 0.4165 - accuracy: 0.8023 - val_loss: 0.4500 - val_accuracy: 0.8049\n",
            "Epoch 20/30\n",
            "44/44 [==============================] - 0s 4ms/step - loss: 0.4163 - accuracy: 0.8026 - val_loss: 0.4499 - val_accuracy: 0.8033\n",
            "Epoch 21/30\n",
            "44/44 [==============================] - 0s 3ms/step - loss: 0.4160 - accuracy: 0.8039 - val_loss: 0.4496 - val_accuracy: 0.8049\n",
            "Epoch 22/30\n",
            "44/44 [==============================] - 0s 3ms/step - loss: 0.4154 - accuracy: 0.8032 - val_loss: 0.4496 - val_accuracy: 0.8065\n",
            "Epoch 23/30\n",
            "44/44 [==============================] - 0s 3ms/step - loss: 0.4154 - accuracy: 0.7988 - val_loss: 0.4498 - val_accuracy: 0.8033\n",
            "Epoch 24/30\n",
            "44/44 [==============================] - 0s 3ms/step - loss: 0.4156 - accuracy: 0.8012 - val_loss: 0.4486 - val_accuracy: 0.8049\n",
            "Epoch 25/30\n",
            "44/44 [==============================] - 0s 3ms/step - loss: 0.4146 - accuracy: 0.8023 - val_loss: 0.4487 - val_accuracy: 0.8016\n",
            "Epoch 26/30\n",
            "44/44 [==============================] - 0s 3ms/step - loss: 0.4149 - accuracy: 0.8028 - val_loss: 0.4484 - val_accuracy: 0.8000\n",
            "Epoch 27/30\n",
            "44/44 [==============================] - 0s 3ms/step - loss: 0.4145 - accuracy: 0.8053 - val_loss: 0.4478 - val_accuracy: 0.8065\n",
            "Epoch 28/30\n",
            "44/44 [==============================] - 0s 3ms/step - loss: 0.4139 - accuracy: 0.8026 - val_loss: 0.4476 - val_accuracy: 0.8033\n",
            "Epoch 29/30\n",
            "44/44 [==============================] - 0s 3ms/step - loss: 0.4140 - accuracy: 0.8039 - val_loss: 0.4473 - val_accuracy: 0.8033\n",
            "Epoch 30/30\n",
            "44/44 [==============================] - 0s 3ms/step - loss: 0.4134 - accuracy: 0.8028 - val_loss: 0.4473 - val_accuracy: 0.8000\n",
            "\n",
            "Evaluate on test data\n",
            "11/11 [==============================] - 0s 2ms/step - loss: 0.4335 - accuracy: 0.7822\n",
            "Test - Loss     :  0.43351271748542786\n",
            "Test - Accuracy :  0.7821637392044067\n",
            "\n"
          ]
        }
      ],
      "source": [
        "# create training dataset instance\n",
        "train_dataset = tf.data.Dataset.from_tensor_slices((x_train_final, y_train_final))\n",
        "\n",
        "# shuffle and slice train dataset\n",
        "train_dataset = train_dataset.shuffle(buffer_size=1024).batch(128)\n",
        "\n",
        "# create validation dataset instance\n",
        "val_dataset = tf.data.Dataset.from_tensor_slices((x_val_final, y_val_final))\n",
        "val_dataset = val_dataset.batch(64)\n",
        "\n",
        "# create test dataset instance\n",
        "test_dataset = tf.data.Dataset.from_tensor_slices((x_test_final, y_test_final))\n",
        "test_dataset = test_dataset.batch(64)\n",
        "\n",
        "## Train model\n",
        "history_seq = model_sequential.fit(train_dataset, epochs=30, validation_data=val_dataset)\n",
        "\n",
        "## Evaluate on validat dataset.\n",
        "print(\"\\nEvaluate on test data\")\n",
        "result = model_sequential.evaluate(test_dataset)\n",
        "print('Test - Loss     : ', result[0])\n",
        "print('Test - Accuracy : ', result[1])\n",
        "print('')\n",
        "\n"
      ]
    },
    {
      "cell_type": "code",
      "execution_count": 41,
      "metadata": {
        "colab": {
          "base_uri": "https://localhost:8080/",
          "height": 989
        },
        "id": "Qici1BjseFRv",
        "outputId": "36d436bd-beb8-431b-ab15-873a5427496a"
      },
      "outputs": [
        {
          "data": {
            "text/html": [
              "\n",
              "  <div id=\"df-eeb4680b-145a-415d-a1c9-189ca509556a\">\n",
              "    <div class=\"colab-df-container\">\n",
              "      <div>\n",
              "<style scoped>\n",
              "    .dataframe tbody tr th:only-of-type {\n",
              "        vertical-align: middle;\n",
              "    }\n",
              "\n",
              "    .dataframe tbody tr th {\n",
              "        vertical-align: top;\n",
              "    }\n",
              "\n",
              "    .dataframe thead th {\n",
              "        text-align: right;\n",
              "    }\n",
              "</style>\n",
              "<table border=\"1\" class=\"dataframe\">\n",
              "  <thead>\n",
              "    <tr style=\"text-align: right;\">\n",
              "      <th></th>\n",
              "      <th>loss</th>\n",
              "      <th>accuracy</th>\n",
              "      <th>val_loss</th>\n",
              "      <th>val_accuracy</th>\n",
              "    </tr>\n",
              "  </thead>\n",
              "  <tbody>\n",
              "    <tr>\n",
              "      <th>0</th>\n",
              "      <td>0.763949</td>\n",
              "      <td>0.486355</td>\n",
              "      <td>0.631862</td>\n",
              "      <td>0.653659</td>\n",
              "    </tr>\n",
              "    <tr>\n",
              "      <th>1</th>\n",
              "      <td>0.582355</td>\n",
              "      <td>0.714079</td>\n",
              "      <td>0.555396</td>\n",
              "      <td>0.744715</td>\n",
              "    </tr>\n",
              "    <tr>\n",
              "      <th>2</th>\n",
              "      <td>0.522804</td>\n",
              "      <td>0.755286</td>\n",
              "      <td>0.514526</td>\n",
              "      <td>0.772358</td>\n",
              "    </tr>\n",
              "    <tr>\n",
              "      <th>3</th>\n",
              "      <td>0.485047</td>\n",
              "      <td>0.774264</td>\n",
              "      <td>0.488522</td>\n",
              "      <td>0.777236</td>\n",
              "    </tr>\n",
              "    <tr>\n",
              "      <th>4</th>\n",
              "      <td>0.460802</td>\n",
              "      <td>0.782758</td>\n",
              "      <td>0.473115</td>\n",
              "      <td>0.773984</td>\n",
              "    </tr>\n",
              "    <tr>\n",
              "      <th>5</th>\n",
              "      <td>0.445597</td>\n",
              "      <td>0.789264</td>\n",
              "      <td>0.465188</td>\n",
              "      <td>0.775610</td>\n",
              "    </tr>\n",
              "    <tr>\n",
              "      <th>6</th>\n",
              "      <td>0.436859</td>\n",
              "      <td>0.794325</td>\n",
              "      <td>0.460641</td>\n",
              "      <td>0.778862</td>\n",
              "    </tr>\n",
              "    <tr>\n",
              "      <th>7</th>\n",
              "      <td>0.431435</td>\n",
              "      <td>0.795409</td>\n",
              "      <td>0.458166</td>\n",
              "      <td>0.785366</td>\n",
              "    </tr>\n",
              "    <tr>\n",
              "      <th>8</th>\n",
              "      <td>0.427979</td>\n",
              "      <td>0.795590</td>\n",
              "      <td>0.456956</td>\n",
              "      <td>0.785366</td>\n",
              "    </tr>\n",
              "    <tr>\n",
              "      <th>9</th>\n",
              "      <td>0.425481</td>\n",
              "      <td>0.797397</td>\n",
              "      <td>0.455656</td>\n",
              "      <td>0.786992</td>\n",
              "    </tr>\n",
              "    <tr>\n",
              "      <th>10</th>\n",
              "      <td>0.423697</td>\n",
              "      <td>0.798663</td>\n",
              "      <td>0.454584</td>\n",
              "      <td>0.786992</td>\n",
              "    </tr>\n",
              "    <tr>\n",
              "      <th>11</th>\n",
              "      <td>0.422042</td>\n",
              "      <td>0.799566</td>\n",
              "      <td>0.453992</td>\n",
              "      <td>0.790244</td>\n",
              "    </tr>\n",
              "    <tr>\n",
              "      <th>12</th>\n",
              "      <td>0.420720</td>\n",
              "      <td>0.800651</td>\n",
              "      <td>0.453430</td>\n",
              "      <td>0.793496</td>\n",
              "    </tr>\n",
              "    <tr>\n",
              "      <th>13</th>\n",
              "      <td>0.419852</td>\n",
              "      <td>0.800831</td>\n",
              "      <td>0.452597</td>\n",
              "      <td>0.798374</td>\n",
              "    </tr>\n",
              "    <tr>\n",
              "      <th>14</th>\n",
              "      <td>0.419131</td>\n",
              "      <td>0.800108</td>\n",
              "      <td>0.452077</td>\n",
              "      <td>0.796748</td>\n",
              "    </tr>\n",
              "    <tr>\n",
              "      <th>15</th>\n",
              "      <td>0.418576</td>\n",
              "      <td>0.800651</td>\n",
              "      <td>0.451797</td>\n",
              "      <td>0.798374</td>\n",
              "    </tr>\n",
              "    <tr>\n",
              "      <th>16</th>\n",
              "      <td>0.417834</td>\n",
              "      <td>0.802277</td>\n",
              "      <td>0.450871</td>\n",
              "      <td>0.800000</td>\n",
              "    </tr>\n",
              "    <tr>\n",
              "      <th>17</th>\n",
              "      <td>0.417097</td>\n",
              "      <td>0.801735</td>\n",
              "      <td>0.450271</td>\n",
              "      <td>0.809756</td>\n",
              "    </tr>\n",
              "    <tr>\n",
              "      <th>18</th>\n",
              "      <td>0.416481</td>\n",
              "      <td>0.802277</td>\n",
              "      <td>0.450036</td>\n",
              "      <td>0.804878</td>\n",
              "    </tr>\n",
              "    <tr>\n",
              "      <th>19</th>\n",
              "      <td>0.416322</td>\n",
              "      <td>0.802639</td>\n",
              "      <td>0.449910</td>\n",
              "      <td>0.803252</td>\n",
              "    </tr>\n",
              "    <tr>\n",
              "      <th>20</th>\n",
              "      <td>0.415971</td>\n",
              "      <td>0.803904</td>\n",
              "      <td>0.449555</td>\n",
              "      <td>0.804878</td>\n",
              "    </tr>\n",
              "    <tr>\n",
              "      <th>21</th>\n",
              "      <td>0.415399</td>\n",
              "      <td>0.803181</td>\n",
              "      <td>0.449595</td>\n",
              "      <td>0.806504</td>\n",
              "    </tr>\n",
              "    <tr>\n",
              "      <th>22</th>\n",
              "      <td>0.415398</td>\n",
              "      <td>0.798843</td>\n",
              "      <td>0.449804</td>\n",
              "      <td>0.803252</td>\n",
              "    </tr>\n",
              "    <tr>\n",
              "      <th>23</th>\n",
              "      <td>0.415585</td>\n",
              "      <td>0.801193</td>\n",
              "      <td>0.448591</td>\n",
              "      <td>0.804878</td>\n",
              "    </tr>\n",
              "    <tr>\n",
              "      <th>24</th>\n",
              "      <td>0.414559</td>\n",
              "      <td>0.802277</td>\n",
              "      <td>0.448680</td>\n",
              "      <td>0.801626</td>\n",
              "    </tr>\n",
              "    <tr>\n",
              "      <th>25</th>\n",
              "      <td>0.414878</td>\n",
              "      <td>0.802819</td>\n",
              "      <td>0.448379</td>\n",
              "      <td>0.800000</td>\n",
              "    </tr>\n",
              "    <tr>\n",
              "      <th>26</th>\n",
              "      <td>0.414545</td>\n",
              "      <td>0.805350</td>\n",
              "      <td>0.447779</td>\n",
              "      <td>0.806504</td>\n",
              "    </tr>\n",
              "    <tr>\n",
              "      <th>27</th>\n",
              "      <td>0.413930</td>\n",
              "      <td>0.802639</td>\n",
              "      <td>0.447560</td>\n",
              "      <td>0.803252</td>\n",
              "    </tr>\n",
              "    <tr>\n",
              "      <th>28</th>\n",
              "      <td>0.413991</td>\n",
              "      <td>0.803904</td>\n",
              "      <td>0.447297</td>\n",
              "      <td>0.803252</td>\n",
              "    </tr>\n",
              "    <tr>\n",
              "      <th>29</th>\n",
              "      <td>0.413350</td>\n",
              "      <td>0.802819</td>\n",
              "      <td>0.447320</td>\n",
              "      <td>0.800000</td>\n",
              "    </tr>\n",
              "  </tbody>\n",
              "</table>\n",
              "</div>\n",
              "      <button class=\"colab-df-convert\" onclick=\"convertToInteractive('df-eeb4680b-145a-415d-a1c9-189ca509556a')\"\n",
              "              title=\"Convert this dataframe to an interactive table.\"\n",
              "              style=\"display:none;\">\n",
              "        \n",
              "  <svg xmlns=\"http://www.w3.org/2000/svg\" height=\"24px\"viewBox=\"0 0 24 24\"\n",
              "       width=\"24px\">\n",
              "    <path d=\"M0 0h24v24H0V0z\" fill=\"none\"/>\n",
              "    <path d=\"M18.56 5.44l.94 2.06.94-2.06 2.06-.94-2.06-.94-.94-2.06-.94 2.06-2.06.94zm-11 1L8.5 8.5l.94-2.06 2.06-.94-2.06-.94L8.5 2.5l-.94 2.06-2.06.94zm10 10l.94 2.06.94-2.06 2.06-.94-2.06-.94-.94-2.06-.94 2.06-2.06.94z\"/><path d=\"M17.41 7.96l-1.37-1.37c-.4-.4-.92-.59-1.43-.59-.52 0-1.04.2-1.43.59L10.3 9.45l-7.72 7.72c-.78.78-.78 2.05 0 2.83L4 21.41c.39.39.9.59 1.41.59.51 0 1.02-.2 1.41-.59l7.78-7.78 2.81-2.81c.8-.78.8-2.07 0-2.86zM5.41 20L4 18.59l7.72-7.72 1.47 1.35L5.41 20z\"/>\n",
              "  </svg>\n",
              "      </button>\n",
              "      \n",
              "  <style>\n",
              "    .colab-df-container {\n",
              "      display:flex;\n",
              "      flex-wrap:wrap;\n",
              "      gap: 12px;\n",
              "    }\n",
              "\n",
              "    .colab-df-convert {\n",
              "      background-color: #E8F0FE;\n",
              "      border: none;\n",
              "      border-radius: 50%;\n",
              "      cursor: pointer;\n",
              "      display: none;\n",
              "      fill: #1967D2;\n",
              "      height: 32px;\n",
              "      padding: 0 0 0 0;\n",
              "      width: 32px;\n",
              "    }\n",
              "\n",
              "    .colab-df-convert:hover {\n",
              "      background-color: #E2EBFA;\n",
              "      box-shadow: 0px 1px 2px rgba(60, 64, 67, 0.3), 0px 1px 3px 1px rgba(60, 64, 67, 0.15);\n",
              "      fill: #174EA6;\n",
              "    }\n",
              "\n",
              "    [theme=dark] .colab-df-convert {\n",
              "      background-color: #3B4455;\n",
              "      fill: #D2E3FC;\n",
              "    }\n",
              "\n",
              "    [theme=dark] .colab-df-convert:hover {\n",
              "      background-color: #434B5C;\n",
              "      box-shadow: 0px 1px 3px 1px rgba(0, 0, 0, 0.15);\n",
              "      filter: drop-shadow(0px 1px 2px rgba(0, 0, 0, 0.3));\n",
              "      fill: #FFFFFF;\n",
              "    }\n",
              "  </style>\n",
              "\n",
              "      <script>\n",
              "        const buttonEl =\n",
              "          document.querySelector('#df-eeb4680b-145a-415d-a1c9-189ca509556a button.colab-df-convert');\n",
              "        buttonEl.style.display =\n",
              "          google.colab.kernel.accessAllowed ? 'block' : 'none';\n",
              "\n",
              "        async function convertToInteractive(key) {\n",
              "          const element = document.querySelector('#df-eeb4680b-145a-415d-a1c9-189ca509556a');\n",
              "          const dataTable =\n",
              "            await google.colab.kernel.invokeFunction('convertToInteractive',\n",
              "                                                     [key], {});\n",
              "          if (!dataTable) return;\n",
              "\n",
              "          const docLinkHtml = 'Like what you see? Visit the ' +\n",
              "            '<a target=\"_blank\" href=https://colab.research.google.com/notebooks/data_table.ipynb>data table notebook</a>'\n",
              "            + ' to learn more about interactive tables.';\n",
              "          element.innerHTML = '';\n",
              "          dataTable['output_type'] = 'display_data';\n",
              "          await google.colab.output.renderOutput(dataTable, element);\n",
              "          const docLink = document.createElement('div');\n",
              "          docLink.innerHTML = docLinkHtml;\n",
              "          element.appendChild(docLink);\n",
              "        }\n",
              "      </script>\n",
              "    </div>\n",
              "  </div>\n",
              "  "
            ],
            "text/plain": [
              "        loss  accuracy  val_loss  val_accuracy\n",
              "0   0.763949  0.486355  0.631862      0.653659\n",
              "1   0.582355  0.714079  0.555396      0.744715\n",
              "2   0.522804  0.755286  0.514526      0.772358\n",
              "3   0.485047  0.774264  0.488522      0.777236\n",
              "4   0.460802  0.782758  0.473115      0.773984\n",
              "5   0.445597  0.789264  0.465188      0.775610\n",
              "6   0.436859  0.794325  0.460641      0.778862\n",
              "7   0.431435  0.795409  0.458166      0.785366\n",
              "8   0.427979  0.795590  0.456956      0.785366\n",
              "9   0.425481  0.797397  0.455656      0.786992\n",
              "10  0.423697  0.798663  0.454584      0.786992\n",
              "11  0.422042  0.799566  0.453992      0.790244\n",
              "12  0.420720  0.800651  0.453430      0.793496\n",
              "13  0.419852  0.800831  0.452597      0.798374\n",
              "14  0.419131  0.800108  0.452077      0.796748\n",
              "15  0.418576  0.800651  0.451797      0.798374\n",
              "16  0.417834  0.802277  0.450871      0.800000\n",
              "17  0.417097  0.801735  0.450271      0.809756\n",
              "18  0.416481  0.802277  0.450036      0.804878\n",
              "19  0.416322  0.802639  0.449910      0.803252\n",
              "20  0.415971  0.803904  0.449555      0.804878\n",
              "21  0.415399  0.803181  0.449595      0.806504\n",
              "22  0.415398  0.798843  0.449804      0.803252\n",
              "23  0.415585  0.801193  0.448591      0.804878\n",
              "24  0.414559  0.802277  0.448680      0.801626\n",
              "25  0.414878  0.802819  0.448379      0.800000\n",
              "26  0.414545  0.805350  0.447779      0.806504\n",
              "27  0.413930  0.802639  0.447560      0.803252\n",
              "28  0.413991  0.803904  0.447297      0.803252\n",
              "29  0.413350  0.802819  0.447320      0.800000"
            ]
          },
          "execution_count": 41,
          "metadata": {},
          "output_type": "execute_result"
        }
      ],
      "source": [
        "# Create Dataframe\n",
        "\n",
        "history_seq_df = pd.DataFrame(history_seq.history)\n",
        "history_seq_df"
      ]
    },
    {
      "cell_type": "code",
      "execution_count": 42,
      "metadata": {
        "colab": {
          "base_uri": "https://localhost:8080/",
          "height": 285
        },
        "id": "Su21R6lAeO52",
        "outputId": "12e351f9-cb97-41e1-9d69-aa31516a7659"
      },
      "outputs": [
        {
          "data": {
            "text/plain": [
              "<matplotlib.axes._subplots.AxesSubplot at 0x7fc1b0223a50>"
            ]
          },
          "execution_count": 42,
          "metadata": {},
          "output_type": "execute_result"
        },
        {
          "data": {
            "image/png": "[encoded data removed]",
            "text/plain": [
              "<Figure size 432x288 with 1 Axes>"
            ]
          },
          "metadata": {},
          "output_type": "display_data"
        }
      ],
      "source": [
        "# Plot between Accuracy and val_accuracy\n",
        "\n",
        "history_seq_df[['accuracy', 'val_accuracy']].plot()"
      ]
    },
    {
      "cell_type": "code",
      "execution_count": 43,
      "metadata": {
        "colab": {
          "base_uri": "https://localhost:8080/",
          "height": 285
        },
        "id": "MIDPKOxheQRA",
        "outputId": "7d5401e4-0205-4be8-e1fc-d76b2190c17d"
      },
      "outputs": [
        {
          "data": {
            "text/plain": [
              "<matplotlib.axes._subplots.AxesSubplot at 0x7fc1b010c750>"
            ]
          },
          "execution_count": 43,
          "metadata": {},
          "output_type": "execute_result"
        },
        {
          "data": {
            "image/png": "[encoded data removed]",
            "text/plain": [
              "<Figure size 432x288 with 1 Axes>"
            ]
          },
          "metadata": {},
          "output_type": "display_data"
        }
      ],
      "source": [
        "# Plot between loss and val_loss\n",
        "\n",
        "history_seq_df[['loss', 'val_loss']].plot()"
      ]
    },
    {
      "cell_type": "code",
      "execution_count": 44,
      "metadata": {
        "colab": {
          "base_uri": "https://localhost:8080/"
        },
        "id": "pouf0v8ueWFG",
        "outputId": "fcb97b69-46f3-4246-c7b2-36ba1d171bd2"
      },
      "outputs": [
        {
          "name": "stdout",
          "output_type": "stream",
          "text": [
            "              precision    recall  f1-score   support\n",
            "\n",
            "           0       0.84      0.86      0.85       497\n",
            "           1       0.61      0.57      0.59       187\n",
            "\n",
            "    accuracy                           0.78       684\n",
            "   macro avg       0.73      0.72      0.72       684\n",
            "weighted avg       0.78      0.78      0.78       684\n",
            "\n"
          ]
        }
      ],
      "source": [
        "# Model Evaluation using Classification Report\n",
        "\n",
        "y_pred_seq = model_sequential.predict(x_test_final)\n",
        "y_pred_seq = np.where(y_pred_seq >= 0.5, 1, 0)\n",
        "\n",
        "print(classification_report(y_test_final, y_pred_seq))"
      ]
    },
    {
      "cell_type": "markdown",
      "metadata": {
        "id": "JmyCVSlE-78r"
      },
      "source": [
        "### Model Analysis\n",
        "\n",
        "from the sequential model, if we want to predict a customers that stays(churn=0) the model can predict 84(true positive) out of 100 customers that predicted customer will stay(all positives),correctly(precision score). \n",
        "\n",
        "while predictions of customers that left(churn=1) can only predict 61(true positive) out of 100 customers that predicted customer will leave(all positives), correctly(precision score).\n",
        "\n"
      ]
    },
    {
      "cell_type": "markdown",
      "metadata": {
        "id": "pX0jh5EBdBGu"
      },
      "source": [
        "## VI.II. Modelling Functional\n"
      ]
    },
    {
      "cell_type": "markdown",
      "metadata": {
        "id": "E4T5mtJVgXQk"
      },
      "source": [
        "### VI.II.I Define Model\n"
      ]
    },
    {
      "cell_type": "code",
      "execution_count": 45,
      "metadata": {
        "colab": {
          "base_uri": "https://localhost:8080/"
        },
        "id": "Ru3plJPHdH4n",
        "outputId": "8b2fbb8d-0f04-4cd0-ed91-1fd8fe25da80"
      },
      "outputs": [
        {
          "name": "stdout",
          "output_type": "stream",
          "text": [
            "Model: \"model\"\n",
            "_________________________________________________________________\n",
            " Layer (type)                Output Shape              Param #   \n",
            "=================================================================\n",
            " input_1 (InputLayer)        [(None, 44)]              0         \n",
            "                                                                 \n",
            " dense_2 (Dense)             (None, 4)                 180       \n",
            "                                                                 \n",
            " dense_3 (Dense)             (None, 1)                 5         \n",
            "                                                                 \n",
            "=================================================================\n",
            "Total params: 185\n",
            "Trainable params: 185\n",
            "Non-trainable params: 0\n",
            "_________________________________________________________________\n"
          ]
        }
      ],
      "source": [
        "# Create Functional Model\n",
        "input_layer = Input(shape=(44,))\n",
        "hidden_layer = Dense(4, activation='relu')(input_layer)\n",
        "output_layer = Dense(1, activation='sigmoid')(hidden_layer)\n",
        "\n",
        "model_functional = Model(inputs=input_layer, outputs=output_layer)\n",
        "\n",
        "# Model Compile\n",
        "model_functional.compile(loss='binary_crossentropy', \n",
        "                         optimizer='Adam',\n",
        "                         metrics=['accuracy'])\n",
        "\n",
        "model_functional.summary()"
      ]
    },
    {
      "cell_type": "markdown",
      "metadata": {
        "id": "peaCtacv7pVd"
      },
      "source": [
        "### VI.II.II Train and evaluate Model using pipeline"
      ]
    },
    {
      "cell_type": "code",
      "execution_count": 46,
      "metadata": {
        "colab": {
          "base_uri": "https://localhost:8080/"
        },
        "id": "Yncqp8g9QH7Y",
        "outputId": "fc070c83-8cea-41c7-e928-9e556c517534"
      },
      "outputs": [
        {
          "name": "stdout",
          "output_type": "stream",
          "text": [
            "Epoch 1/30\n",
            "44/44 [==============================] - 1s 6ms/step - loss: 0.6895 - accuracy: 0.5637 - val_loss: 0.6672 - val_accuracy: 0.7496\n",
            "Epoch 2/30\n",
            "44/44 [==============================] - 0s 3ms/step - loss: 0.6201 - accuracy: 0.7546 - val_loss: 0.5686 - val_accuracy: 0.7593\n",
            "Epoch 3/30\n",
            "44/44 [==============================] - 0s 3ms/step - loss: 0.5337 - accuracy: 0.7535 - val_loss: 0.5131 - val_accuracy: 0.7496\n",
            "Epoch 4/30\n",
            "44/44 [==============================] - 0s 3ms/step - loss: 0.4876 - accuracy: 0.7723 - val_loss: 0.4880 - val_accuracy: 0.7626\n",
            "Epoch 5/30\n",
            "44/44 [==============================] - 0s 3ms/step - loss: 0.4639 - accuracy: 0.7844 - val_loss: 0.4766 - val_accuracy: 0.7659\n",
            "Epoch 6/30\n",
            "44/44 [==============================] - 0s 3ms/step - loss: 0.4511 - accuracy: 0.7876 - val_loss: 0.4715 - val_accuracy: 0.7675\n",
            "Epoch 7/30\n",
            "44/44 [==============================] - 0s 6ms/step - loss: 0.4437 - accuracy: 0.7905 - val_loss: 0.4691 - val_accuracy: 0.7740\n",
            "Epoch 8/30\n",
            "44/44 [==============================] - 0s 6ms/step - loss: 0.4390 - accuracy: 0.7903 - val_loss: 0.4674 - val_accuracy: 0.7740\n",
            "Epoch 9/30\n",
            "44/44 [==============================] - 0s 6ms/step - loss: 0.4356 - accuracy: 0.7941 - val_loss: 0.4662 - val_accuracy: 0.7772\n",
            "Epoch 10/30\n",
            "44/44 [==============================] - 0s 6ms/step - loss: 0.4326 - accuracy: 0.7949 - val_loss: 0.4645 - val_accuracy: 0.7805\n",
            "Epoch 11/30\n",
            "44/44 [==============================] - 0s 6ms/step - loss: 0.4287 - accuracy: 0.7969 - val_loss: 0.4627 - val_accuracy: 0.7886\n",
            "Epoch 12/30\n",
            "44/44 [==============================] - 0s 6ms/step - loss: 0.4259 - accuracy: 0.7994 - val_loss: 0.4612 - val_accuracy: 0.7886\n",
            "Epoch 13/30\n",
            "44/44 [==============================] - 0s 7ms/step - loss: 0.4241 - accuracy: 0.7983 - val_loss: 0.4601 - val_accuracy: 0.7919\n",
            "Epoch 14/30\n",
            "44/44 [==============================] - 0s 5ms/step - loss: 0.4228 - accuracy: 0.7988 - val_loss: 0.4593 - val_accuracy: 0.7935\n",
            "Epoch 15/30\n",
            "44/44 [==============================] - 0s 7ms/step - loss: 0.4213 - accuracy: 0.8012 - val_loss: 0.4583 - val_accuracy: 0.7886\n",
            "Epoch 16/30\n",
            "44/44 [==============================] - 0s 7ms/step - loss: 0.4206 - accuracy: 0.7994 - val_loss: 0.4577 - val_accuracy: 0.7919\n",
            "Epoch 17/30\n",
            "44/44 [==============================] - 0s 5ms/step - loss: 0.4202 - accuracy: 0.7985 - val_loss: 0.4564 - val_accuracy: 0.7935\n",
            "Epoch 18/30\n",
            "44/44 [==============================] - 0s 6ms/step - loss: 0.4196 - accuracy: 0.8008 - val_loss: 0.4555 - val_accuracy: 0.7935\n",
            "Epoch 19/30\n",
            "44/44 [==============================] - 0s 6ms/step - loss: 0.4183 - accuracy: 0.8030 - val_loss: 0.4548 - val_accuracy: 0.7984\n",
            "Epoch 20/30\n",
            "44/44 [==============================] - 0s 6ms/step - loss: 0.4176 - accuracy: 0.8010 - val_loss: 0.4538 - val_accuracy: 0.7984\n",
            "Epoch 21/30\n",
            "44/44 [==============================] - 0s 8ms/step - loss: 0.4178 - accuracy: 0.8010 - val_loss: 0.4536 - val_accuracy: 0.7951\n",
            "Epoch 22/30\n",
            "44/44 [==============================] - 0s 6ms/step - loss: 0.4169 - accuracy: 0.8007 - val_loss: 0.4526 - val_accuracy: 0.8016\n",
            "Epoch 23/30\n",
            "44/44 [==============================] - 0s 8ms/step - loss: 0.4163 - accuracy: 0.8025 - val_loss: 0.4518 - val_accuracy: 0.8065\n",
            "Epoch 24/30\n",
            "44/44 [==============================] - 0s 8ms/step - loss: 0.4160 - accuracy: 0.8014 - val_loss: 0.4510 - val_accuracy: 0.8049\n",
            "Epoch 25/30\n",
            "44/44 [==============================] - 0s 7ms/step - loss: 0.4160 - accuracy: 0.8023 - val_loss: 0.4504 - val_accuracy: 0.8033\n",
            "Epoch 26/30\n",
            "44/44 [==============================] - 0s 6ms/step - loss: 0.4152 - accuracy: 0.8016 - val_loss: 0.4500 - val_accuracy: 0.8000\n",
            "Epoch 27/30\n",
            "44/44 [==============================] - 0s 5ms/step - loss: 0.4151 - accuracy: 0.8044 - val_loss: 0.4495 - val_accuracy: 0.8081\n",
            "Epoch 28/30\n",
            "44/44 [==============================] - 0s 6ms/step - loss: 0.4146 - accuracy: 0.8019 - val_loss: 0.4488 - val_accuracy: 0.8081\n",
            "Epoch 29/30\n",
            "44/44 [==============================] - 0s 6ms/step - loss: 0.4143 - accuracy: 0.8012 - val_loss: 0.4489 - val_accuracy: 0.8016\n",
            "Epoch 30/30\n",
            "44/44 [==============================] - 0s 8ms/step - loss: 0.4142 - accuracy: 0.8035 - val_loss: 0.4483 - val_accuracy: 0.8081\n",
            "\n",
            "Evaluate on test data\n",
            "11/11 [==============================] - 0s 6ms/step - loss: 0.4346 - accuracy: 0.7822\n",
            "Test - Loss     :  0.4346294403076172\n",
            "Test - Accuracy :  0.7821637392044067\n",
            "\n"
          ]
        }
      ],
      "source": [
        "# create training dataset instance\n",
        "train_dataset = tf.data.Dataset.from_tensor_slices((x_train_final, y_train_final))\n",
        "\n",
        "# shuffle and slice train dataset\n",
        "train_dataset = train_dataset.shuffle(buffer_size=1024).batch(128)\n",
        "\n",
        "# create validation dataset instance\n",
        "val_dataset = tf.data.Dataset.from_tensor_slices((x_val_final, y_val_final))\n",
        "val_dataset = val_dataset.batch(64)\n",
        "\n",
        "# create test dataset instance\n",
        "test_dataset = tf.data.Dataset.from_tensor_slices((x_test_final, y_test_final))\n",
        "test_dataset = test_dataset.batch(64)\n",
        "\n",
        "## Train model\n",
        "history_func = model_functional.fit(train_dataset, epochs=30, validation_data=val_dataset)\n",
        "\n",
        "## Evaluate on validat dataset.\n",
        "print(\"\\nEvaluate on test data\")\n",
        "result = model_functional.evaluate(test_dataset)\n",
        "print('Test - Loss     : ', result[0])\n",
        "print('Test - Accuracy : ', result[1])\n",
        "print('')\n",
        "\n"
      ]
    },
    {
      "cell_type": "code",
      "execution_count": 47,
      "metadata": {
        "colab": {
          "base_uri": "https://localhost:8080/",
          "height": 989
        },
        "id": "Na-1Cr1B7yDb",
        "outputId": "47ad2132-3cc6-461f-ecc1-f6da73129002"
      },
      "outputs": [
        {
          "data": {
            "text/html": [
              "\n",
              "  <div id=\"df-88ba98fc-9e0d-4afb-8f1b-5c3f3166a789\">\n",
              "    <div class=\"colab-df-container\">\n",
              "      <div>\n",
              "<style scoped>\n",
              "    .dataframe tbody tr th:only-of-type {\n",
              "        vertical-align: middle;\n",
              "    }\n",
              "\n",
              "    .dataframe tbody tr th {\n",
              "        vertical-align: top;\n",
              "    }\n",
              "\n",
              "    .dataframe thead th {\n",
              "        text-align: right;\n",
              "    }\n",
              "</style>\n",
              "<table border=\"1\" class=\"dataframe\">\n",
              "  <thead>\n",
              "    <tr style=\"text-align: right;\">\n",
              "      <th></th>\n",
              "      <th>loss</th>\n",
              "      <th>accuracy</th>\n",
              "      <th>val_loss</th>\n",
              "      <th>val_accuracy</th>\n",
              "    </tr>\n",
              "  </thead>\n",
              "  <tbody>\n",
              "    <tr>\n",
              "      <th>0</th>\n",
              "      <td>0.689541</td>\n",
              "      <td>0.563709</td>\n",
              "      <td>0.667165</td>\n",
              "      <td>0.749593</td>\n",
              "    </tr>\n",
              "    <tr>\n",
              "      <th>1</th>\n",
              "      <td>0.620055</td>\n",
              "      <td>0.754564</td>\n",
              "      <td>0.568637</td>\n",
              "      <td>0.759350</td>\n",
              "    </tr>\n",
              "    <tr>\n",
              "      <th>2</th>\n",
              "      <td>0.533696</td>\n",
              "      <td>0.753479</td>\n",
              "      <td>0.513055</td>\n",
              "      <td>0.749593</td>\n",
              "    </tr>\n",
              "    <tr>\n",
              "      <th>3</th>\n",
              "      <td>0.487575</td>\n",
              "      <td>0.772275</td>\n",
              "      <td>0.487985</td>\n",
              "      <td>0.762602</td>\n",
              "    </tr>\n",
              "    <tr>\n",
              "      <th>4</th>\n",
              "      <td>0.463906</td>\n",
              "      <td>0.784385</td>\n",
              "      <td>0.476566</td>\n",
              "      <td>0.765854</td>\n",
              "    </tr>\n",
              "    <tr>\n",
              "      <th>5</th>\n",
              "      <td>0.451072</td>\n",
              "      <td>0.787638</td>\n",
              "      <td>0.471496</td>\n",
              "      <td>0.767480</td>\n",
              "    </tr>\n",
              "    <tr>\n",
              "      <th>6</th>\n",
              "      <td>0.443686</td>\n",
              "      <td>0.790530</td>\n",
              "      <td>0.469143</td>\n",
              "      <td>0.773984</td>\n",
              "    </tr>\n",
              "    <tr>\n",
              "      <th>7</th>\n",
              "      <td>0.438963</td>\n",
              "      <td>0.790349</td>\n",
              "      <td>0.467449</td>\n",
              "      <td>0.773984</td>\n",
              "    </tr>\n",
              "    <tr>\n",
              "      <th>8</th>\n",
              "      <td>0.435571</td>\n",
              "      <td>0.794144</td>\n",
              "      <td>0.466186</td>\n",
              "      <td>0.777236</td>\n",
              "    </tr>\n",
              "    <tr>\n",
              "      <th>9</th>\n",
              "      <td>0.432554</td>\n",
              "      <td>0.794867</td>\n",
              "      <td>0.464478</td>\n",
              "      <td>0.780488</td>\n",
              "    </tr>\n",
              "    <tr>\n",
              "      <th>10</th>\n",
              "      <td>0.428694</td>\n",
              "      <td>0.796855</td>\n",
              "      <td>0.462655</td>\n",
              "      <td>0.788618</td>\n",
              "    </tr>\n",
              "    <tr>\n",
              "      <th>11</th>\n",
              "      <td>0.425859</td>\n",
              "      <td>0.799385</td>\n",
              "      <td>0.461184</td>\n",
              "      <td>0.788618</td>\n",
              "    </tr>\n",
              "    <tr>\n",
              "      <th>12</th>\n",
              "      <td>0.424113</td>\n",
              "      <td>0.798301</td>\n",
              "      <td>0.460134</td>\n",
              "      <td>0.791870</td>\n",
              "    </tr>\n",
              "    <tr>\n",
              "      <th>13</th>\n",
              "      <td>0.422821</td>\n",
              "      <td>0.798843</td>\n",
              "      <td>0.459316</td>\n",
              "      <td>0.793496</td>\n",
              "    </tr>\n",
              "    <tr>\n",
              "      <th>14</th>\n",
              "      <td>0.421292</td>\n",
              "      <td>0.801193</td>\n",
              "      <td>0.458343</td>\n",
              "      <td>0.788618</td>\n",
              "    </tr>\n",
              "    <tr>\n",
              "      <th>15</th>\n",
              "      <td>0.420644</td>\n",
              "      <td>0.799385</td>\n",
              "      <td>0.457690</td>\n",
              "      <td>0.791870</td>\n",
              "    </tr>\n",
              "    <tr>\n",
              "      <th>16</th>\n",
              "      <td>0.420186</td>\n",
              "      <td>0.798482</td>\n",
              "      <td>0.456440</td>\n",
              "      <td>0.793496</td>\n",
              "    </tr>\n",
              "    <tr>\n",
              "      <th>17</th>\n",
              "      <td>0.419642</td>\n",
              "      <td>0.800831</td>\n",
              "      <td>0.455519</td>\n",
              "      <td>0.793496</td>\n",
              "    </tr>\n",
              "    <tr>\n",
              "      <th>18</th>\n",
              "      <td>0.418324</td>\n",
              "      <td>0.803000</td>\n",
              "      <td>0.454849</td>\n",
              "      <td>0.798374</td>\n",
              "    </tr>\n",
              "    <tr>\n",
              "      <th>19</th>\n",
              "      <td>0.417612</td>\n",
              "      <td>0.801012</td>\n",
              "      <td>0.453783</td>\n",
              "      <td>0.798374</td>\n",
              "    </tr>\n",
              "    <tr>\n",
              "      <th>20</th>\n",
              "      <td>0.417814</td>\n",
              "      <td>0.801012</td>\n",
              "      <td>0.453567</td>\n",
              "      <td>0.795122</td>\n",
              "    </tr>\n",
              "    <tr>\n",
              "      <th>21</th>\n",
              "      <td>0.416876</td>\n",
              "      <td>0.800651</td>\n",
              "      <td>0.452636</td>\n",
              "      <td>0.801626</td>\n",
              "    </tr>\n",
              "    <tr>\n",
              "      <th>22</th>\n",
              "      <td>0.416255</td>\n",
              "      <td>0.802458</td>\n",
              "      <td>0.451803</td>\n",
              "      <td>0.806504</td>\n",
              "    </tr>\n",
              "    <tr>\n",
              "      <th>23</th>\n",
              "      <td>0.416044</td>\n",
              "      <td>0.801374</td>\n",
              "      <td>0.451034</td>\n",
              "      <td>0.804878</td>\n",
              "    </tr>\n",
              "    <tr>\n",
              "      <th>24</th>\n",
              "      <td>0.415953</td>\n",
              "      <td>0.802277</td>\n",
              "      <td>0.450360</td>\n",
              "      <td>0.803252</td>\n",
              "    </tr>\n",
              "    <tr>\n",
              "      <th>25</th>\n",
              "      <td>0.415207</td>\n",
              "      <td>0.801554</td>\n",
              "      <td>0.449953</td>\n",
              "      <td>0.800000</td>\n",
              "    </tr>\n",
              "    <tr>\n",
              "      <th>26</th>\n",
              "      <td>0.415085</td>\n",
              "      <td>0.804446</td>\n",
              "      <td>0.449485</td>\n",
              "      <td>0.808130</td>\n",
              "    </tr>\n",
              "    <tr>\n",
              "      <th>27</th>\n",
              "      <td>0.414554</td>\n",
              "      <td>0.801916</td>\n",
              "      <td>0.448846</td>\n",
              "      <td>0.808130</td>\n",
              "    </tr>\n",
              "    <tr>\n",
              "      <th>28</th>\n",
              "      <td>0.414335</td>\n",
              "      <td>0.801193</td>\n",
              "      <td>0.448930</td>\n",
              "      <td>0.801626</td>\n",
              "    </tr>\n",
              "    <tr>\n",
              "      <th>29</th>\n",
              "      <td>0.414180</td>\n",
              "      <td>0.803542</td>\n",
              "      <td>0.448290</td>\n",
              "      <td>0.808130</td>\n",
              "    </tr>\n",
              "  </tbody>\n",
              "</table>\n",
              "</div>\n",
              "      <button class=\"colab-df-convert\" onclick=\"convertToInteractive('df-88ba98fc-9e0d-4afb-8f1b-5c3f3166a789')\"\n",
              "              title=\"Convert this dataframe to an interactive table.\"\n",
              "              style=\"display:none;\">\n",
              "        \n",
              "  <svg xmlns=\"http://www.w3.org/2000/svg\" height=\"24px\"viewBox=\"0 0 24 24\"\n",
              "       width=\"24px\">\n",
              "    <path d=\"M0 0h24v24H0V0z\" fill=\"none\"/>\n",
              "    <path d=\"M18.56 5.44l.94 2.06.94-2.06 2.06-.94-2.06-.94-.94-2.06-.94 2.06-2.06.94zm-11 1L8.5 8.5l.94-2.06 2.06-.94-2.06-.94L8.5 2.5l-.94 2.06-2.06.94zm10 10l.94 2.06.94-2.06 2.06-.94-2.06-.94-.94-2.06-.94 2.06-2.06.94z\"/><path d=\"M17.41 7.96l-1.37-1.37c-.4-.4-.92-.59-1.43-.59-.52 0-1.04.2-1.43.59L10.3 9.45l-7.72 7.72c-.78.78-.78 2.05 0 2.83L4 21.41c.39.39.9.59 1.41.59.51 0 1.02-.2 1.41-.59l7.78-7.78 2.81-2.81c.8-.78.8-2.07 0-2.86zM5.41 20L4 18.59l7.72-7.72 1.47 1.35L5.41 20z\"/>\n",
              "  </svg>\n",
              "      </button>\n",
              "      \n",
              "  <style>\n",
              "    .colab-df-container {\n",
              "      display:flex;\n",
              "      flex-wrap:wrap;\n",
              "      gap: 12px;\n",
              "    }\n",
              "\n",
              "    .colab-df-convert {\n",
              "      background-color: #E8F0FE;\n",
              "      border: none;\n",
              "      border-radius: 50%;\n",
              "      cursor: pointer;\n",
              "      display: none;\n",
              "      fill: #1967D2;\n",
              "      height: 32px;\n",
              "      padding: 0 0 0 0;\n",
              "      width: 32px;\n",
              "    }\n",
              "\n",
              "    .colab-df-convert:hover {\n",
              "      background-color: #E2EBFA;\n",
              "      box-shadow: 0px 1px 2px rgba(60, 64, 67, 0.3), 0px 1px 3px 1px rgba(60, 64, 67, 0.15);\n",
              "      fill: #174EA6;\n",
              "    }\n",
              "\n",
              "    [theme=dark] .colab-df-convert {\n",
              "      background-color: #3B4455;\n",
              "      fill: #D2E3FC;\n",
              "    }\n",
              "\n",
              "    [theme=dark] .colab-df-convert:hover {\n",
              "      background-color: #434B5C;\n",
              "      box-shadow: 0px 1px 3px 1px rgba(0, 0, 0, 0.15);\n",
              "      filter: drop-shadow(0px 1px 2px rgba(0, 0, 0, 0.3));\n",
              "      fill: #FFFFFF;\n",
              "    }\n",
              "  </style>\n",
              "\n",
              "      <script>\n",
              "        const buttonEl =\n",
              "          document.querySelector('#df-88ba98fc-9e0d-4afb-8f1b-5c3f3166a789 button.colab-df-convert');\n",
              "        buttonEl.style.display =\n",
              "          google.colab.kernel.accessAllowed ? 'block' : 'none';\n",
              "\n",
              "        async function convertToInteractive(key) {\n",
              "          const element = document.querySelector('#df-88ba98fc-9e0d-4afb-8f1b-5c3f3166a789');\n",
              "          const dataTable =\n",
              "            await google.colab.kernel.invokeFunction('convertToInteractive',\n",
              "                                                     [key], {});\n",
              "          if (!dataTable) return;\n",
              "\n",
              "          const docLinkHtml = 'Like what you see? Visit the ' +\n",
              "            '<a target=\"_blank\" href=https://colab.research.google.com/notebooks/data_table.ipynb>data table notebook</a>'\n",
              "            + ' to learn more about interactive tables.';\n",
              "          element.innerHTML = '';\n",
              "          dataTable['output_type'] = 'display_data';\n",
              "          await google.colab.output.renderOutput(dataTable, element);\n",
              "          const docLink = document.createElement('div');\n",
              "          docLink.innerHTML = docLinkHtml;\n",
              "          element.appendChild(docLink);\n",
              "        }\n",
              "      </script>\n",
              "    </div>\n",
              "  </div>\n",
              "  "
            ],
            "text/plain": [
              "        loss  accuracy  val_loss  val_accuracy\n",
              "0   0.689541  0.563709  0.667165      0.749593\n",
              "1   0.620055  0.754564  0.568637      0.759350\n",
              "2   0.533696  0.753479  0.513055      0.749593\n",
              "3   0.487575  0.772275  0.487985      0.762602\n",
              "4   0.463906  0.784385  0.476566      0.765854\n",
              "5   0.451072  0.787638  0.471496      0.767480\n",
              "6   0.443686  0.790530  0.469143      0.773984\n",
              "7   0.438963  0.790349  0.467449      0.773984\n",
              "8   0.435571  0.794144  0.466186      0.777236\n",
              "9   0.432554  0.794867  0.464478      0.780488\n",
              "10  0.428694  0.796855  0.462655      0.788618\n",
              "11  0.425859  0.799385  0.461184      0.788618\n",
              "12  0.424113  0.798301  0.460134      0.791870\n",
              "13  0.422821  0.798843  0.459316      0.793496\n",
              "14  0.421292  0.801193  0.458343      0.788618\n",
              "15  0.420644  0.799385  0.457690      0.791870\n",
              "16  0.420186  0.798482  0.456440      0.793496\n",
              "17  0.419642  0.800831  0.455519      0.793496\n",
              "18  0.418324  0.803000  0.454849      0.798374\n",
              "19  0.417612  0.801012  0.453783      0.798374\n",
              "20  0.417814  0.801012  0.453567      0.795122\n",
              "21  0.416876  0.800651  0.452636      0.801626\n",
              "22  0.416255  0.802458  0.451803      0.806504\n",
              "23  0.416044  0.801374  0.451034      0.804878\n",
              "24  0.415953  0.802277  0.450360      0.803252\n",
              "25  0.415207  0.801554  0.449953      0.800000\n",
              "26  0.415085  0.804446  0.449485      0.808130\n",
              "27  0.414554  0.801916  0.448846      0.808130\n",
              "28  0.414335  0.801193  0.448930      0.801626\n",
              "29  0.414180  0.803542  0.448290      0.808130"
            ]
          },
          "execution_count": 47,
          "metadata": {},
          "output_type": "execute_result"
        }
      ],
      "source": [
        "# Create Dataframe\n",
        "\n",
        "history_func_df = pd.DataFrame(history_func.history)\n",
        "history_func_df"
      ]
    },
    {
      "cell_type": "code",
      "execution_count": 48,
      "metadata": {
        "colab": {
          "base_uri": "https://localhost:8080/",
          "height": 285
        },
        "id": "2BcAayRs79Ls",
        "outputId": "53689cd8-0cb2-477a-958c-062a098e0d5a"
      },
      "outputs": [
        {
          "data": {
            "text/plain": [
              "<matplotlib.axes._subplots.AxesSubplot at 0x7fc1605e6710>"
            ]
          },
          "execution_count": 48,
          "metadata": {},
          "output_type": "execute_result"
        },
        {
          "data": {
            "image/png": "[encoded data removed]",
            "text/plain": [
              "<Figure size 432x288 with 1 Axes>"
            ]
          },
          "metadata": {},
          "output_type": "display_data"
        }
      ],
      "source": [
        "# Plot between Accuracy and val_accuracy\n",
        "\n",
        "history_func_df[['accuracy', 'val_accuracy']].plot()"
      ]
    },
    {
      "cell_type": "code",
      "execution_count": 49,
      "metadata": {
        "colab": {
          "base_uri": "https://localhost:8080/",
          "height": 286
        },
        "id": "3nk71zA48V7U",
        "outputId": "a967a7ca-419a-437e-f6e4-19d8c3677767"
      },
      "outputs": [
        {
          "data": {
            "text/plain": [
              "<matplotlib.axes._subplots.AxesSubplot at 0x7fc1604ce990>"
            ]
          },
          "execution_count": 49,
          "metadata": {},
          "output_type": "execute_result"
        },
        {
          "data": {
            "image/png": "[encoded data removed]",
            "text/plain": [
              "<Figure size 432x288 with 1 Axes>"
            ]
          },
          "metadata": {},
          "output_type": "display_data"
        }
      ],
      "source": [
        "history_func_df[['loss', 'val_loss']].plot()"
      ]
    },
    {
      "cell_type": "code",
      "execution_count": 50,
      "metadata": {
        "colab": {
          "base_uri": "https://localhost:8080/"
        },
        "id": "f28frkDH8aBI",
        "outputId": "e3ffbb8c-e484-44e6-af0d-30e42de66329"
      },
      "outputs": [
        {
          "name": "stdout",
          "output_type": "stream",
          "text": [
            "              precision    recall  f1-score   support\n",
            "\n",
            "           0       0.83      0.87      0.85       497\n",
            "           1       0.62      0.54      0.58       187\n",
            "\n",
            "    accuracy                           0.78       684\n",
            "   macro avg       0.73      0.71      0.71       684\n",
            "weighted avg       0.77      0.78      0.78       684\n",
            "\n"
          ]
        }
      ],
      "source": [
        "# Model Evaluation using Classification Report\n",
        "\n",
        "y_pred_func = model_functional.predict(x_test_final)\n",
        "y_pred_func = np.where(y_pred_func >= 0.5, 1, 0)\n",
        "\n",
        "print(classification_report(y_test_final, y_pred_func))"
      ]
    },
    {
      "cell_type": "markdown",
      "metadata": {
        "id": "bSWrnOWMrB2Z"
      },
      "source": [
        "### Model Analysis\n",
        "\n",
        "from the functional model, if we want to predict a customers that stays(churn=0) the model can predict 83(true positive) out of 100 customers that predicted customer will stay(all positives),correctly(precision score). \n",
        "\n",
        "while predictions of customers that left(churn=1) can only predict 61(true positive) out of 100 customers that predicted customer will leave(all positives), correctly(precision score).\n",
        "\n",
        "from both functional model and sequantial model, with little to no tuning, the results are almost identical."
      ]
    },
    {
      "cell_type": "markdown",
      "metadata": {
        "id": "MCAhKrJk_nZW"
      },
      "source": [
        "# VII. Model Improvements"
      ]
    },
    {
      "cell_type": "markdown",
      "metadata": {
        "id": "2w9rXU-1UkiN"
      },
      "source": [
        "## VII.I. Sequential API\n"
      ]
    },
    {
      "cell_type": "code",
      "execution_count": 51,
      "metadata": {
        "colab": {
          "base_uri": "https://localhost:8080/"
        },
        "id": "6JD7jaP_UjWq",
        "outputId": "d1488a92-f1e7-4e7b-b9ce-b59ee8b7b795"
      },
      "outputs": [
        {
          "name": "stdout",
          "output_type": "stream",
          "text": [
            "Model: \"sequential_1\"\n",
            "_________________________________________________________________\n",
            " Layer (type)                Output Shape              Param #   \n",
            "=================================================================\n",
            " dense_4 (Dense)             (None, 42)                1890      \n",
            "                                                                 \n",
            " dense_5 (Dense)             (None, 36)                1548      \n",
            "                                                                 \n",
            " dense_6 (Dense)             (None, 10)                370       \n",
            "                                                                 \n",
            " dense_7 (Dense)             (None, 1)                 11        \n",
            "                                                                 \n",
            "=================================================================\n",
            "Total params: 3,819\n",
            "Trainable params: 3,819\n",
            "Non-trainable params: 0\n",
            "_________________________________________________________________\n"
          ]
        }
      ],
      "source": [
        "# Create Sequential API\n",
        "\n",
        "model_sequential = Sequential()\n",
        "model_sequential.add(Dense(42, activation='relu', input_shape=(44,))) # Hidden Layer 1\n",
        "model_sequential.add(Dense(36, activation='relu')) # Hidden Layer 2\n",
        "model_sequential.add(Dense(10, activation='relu')) # Hidden Layer 3\n",
        "model_sequential.add(Dense(1, activation='sigmoid'))  # Output Layer\n",
        "\n",
        "# Compile\n",
        "tf.keras.optimizers.Adamax(learning_rate = 0.0075)\n",
        "model_sequential.compile(loss='binary_crossentropy',\n",
        "                         optimizer='AdaMax',\n",
        "                         metrics=['accuracy'])\n",
        "\n",
        "model_sequential.summary()"
      ]
    },
    {
      "cell_type": "code",
      "execution_count": 52,
      "metadata": {
        "colab": {
          "base_uri": "https://localhost:8080/"
        },
        "id": "6MZxQ2vZUz1j",
        "outputId": "8b32b5ef-b87c-4e25-8285-5c7b0dab3933"
      },
      "outputs": [
        {
          "name": "stdout",
          "output_type": "stream",
          "text": [
            "Epoch 1/100\n",
            "44/44 [==============================] - 1s 11ms/step - loss: 0.5784 - accuracy: 0.7358 - val_loss: 0.5255 - val_accuracy: 0.7431\n",
            "Epoch 2/100\n",
            "44/44 [==============================] - 0s 6ms/step - loss: 0.4958 - accuracy: 0.7365 - val_loss: 0.4800 - val_accuracy: 0.7496\n",
            "Epoch 3/100\n",
            "44/44 [==============================] - 0s 6ms/step - loss: 0.4509 - accuracy: 0.7797 - val_loss: 0.4645 - val_accuracy: 0.7772\n",
            "Epoch 4/100\n",
            "44/44 [==============================] - 0s 8ms/step - loss: 0.4371 - accuracy: 0.7871 - val_loss: 0.4631 - val_accuracy: 0.7837\n",
            "Epoch 5/100\n",
            "44/44 [==============================] - 0s 6ms/step - loss: 0.4312 - accuracy: 0.7909 - val_loss: 0.4614 - val_accuracy: 0.7886\n",
            "Epoch 6/100\n",
            "44/44 [==============================] - 0s 7ms/step - loss: 0.4278 - accuracy: 0.7932 - val_loss: 0.4604 - val_accuracy: 0.7935\n",
            "Epoch 7/100\n",
            "44/44 [==============================] - 0s 8ms/step - loss: 0.4249 - accuracy: 0.7925 - val_loss: 0.4592 - val_accuracy: 0.7902\n",
            "Epoch 8/100\n",
            "44/44 [==============================] - 0s 7ms/step - loss: 0.4237 - accuracy: 0.7936 - val_loss: 0.4591 - val_accuracy: 0.7935\n",
            "Epoch 9/100\n",
            "44/44 [==============================] - 0s 7ms/step - loss: 0.4216 - accuracy: 0.7965 - val_loss: 0.4580 - val_accuracy: 0.7902\n",
            "Epoch 10/100\n",
            "44/44 [==============================] - 0s 7ms/step - loss: 0.4201 - accuracy: 0.7952 - val_loss: 0.4584 - val_accuracy: 0.7967\n",
            "Epoch 11/100\n",
            "44/44 [==============================] - 0s 9ms/step - loss: 0.4191 - accuracy: 0.7970 - val_loss: 0.4570 - val_accuracy: 0.7951\n",
            "Epoch 12/100\n",
            "44/44 [==============================] - 0s 7ms/step - loss: 0.4177 - accuracy: 0.7961 - val_loss: 0.4578 - val_accuracy: 0.7919\n",
            "Epoch 13/100\n",
            "44/44 [==============================] - 0s 7ms/step - loss: 0.4163 - accuracy: 0.8005 - val_loss: 0.4556 - val_accuracy: 0.7935\n",
            "Epoch 14/100\n",
            "44/44 [==============================] - 0s 8ms/step - loss: 0.4155 - accuracy: 0.8007 - val_loss: 0.4553 - val_accuracy: 0.7951\n",
            "Epoch 15/100\n",
            "44/44 [==============================] - 0s 7ms/step - loss: 0.4150 - accuracy: 0.8021 - val_loss: 0.4542 - val_accuracy: 0.7935\n",
            "Epoch 16/100\n",
            "44/44 [==============================] - 0s 6ms/step - loss: 0.4137 - accuracy: 0.8028 - val_loss: 0.4537 - val_accuracy: 0.7935\n",
            "Epoch 17/100\n",
            "44/44 [==============================] - 0s 7ms/step - loss: 0.4138 - accuracy: 0.8005 - val_loss: 0.4519 - val_accuracy: 0.7854\n",
            "Epoch 18/100\n",
            "44/44 [==============================] - 0s 7ms/step - loss: 0.4126 - accuracy: 0.8012 - val_loss: 0.4523 - val_accuracy: 0.7870\n",
            "Epoch 19/100\n",
            "44/44 [==============================] - 0s 6ms/step - loss: 0.4118 - accuracy: 0.8032 - val_loss: 0.4526 - val_accuracy: 0.7902\n",
            "Epoch 20/100\n",
            "44/44 [==============================] - 0s 9ms/step - loss: 0.4111 - accuracy: 0.8030 - val_loss: 0.4509 - val_accuracy: 0.7854\n",
            "Epoch 21/100\n",
            "44/44 [==============================] - 0s 9ms/step - loss: 0.4112 - accuracy: 0.8025 - val_loss: 0.4511 - val_accuracy: 0.7854\n",
            "Epoch 22/100\n",
            "44/44 [==============================] - 0s 7ms/step - loss: 0.4100 - accuracy: 0.8035 - val_loss: 0.4502 - val_accuracy: 0.7821\n",
            "Epoch 23/100\n",
            "44/44 [==============================] - 0s 7ms/step - loss: 0.4096 - accuracy: 0.8043 - val_loss: 0.4496 - val_accuracy: 0.7886\n",
            "Epoch 24/100\n",
            "44/44 [==============================] - 0s 5ms/step - loss: 0.4086 - accuracy: 0.8055 - val_loss: 0.4491 - val_accuracy: 0.7886\n",
            "Epoch 25/100\n",
            "44/44 [==============================] - 0s 4ms/step - loss: 0.4083 - accuracy: 0.8052 - val_loss: 0.4494 - val_accuracy: 0.7935\n",
            "Epoch 26/100\n",
            "44/44 [==============================] - 0s 4ms/step - loss: 0.4076 - accuracy: 0.8061 - val_loss: 0.4485 - val_accuracy: 0.7902\n",
            "Epoch 27/100\n",
            "44/44 [==============================] - 0s 4ms/step - loss: 0.4069 - accuracy: 0.8066 - val_loss: 0.4482 - val_accuracy: 0.7870\n",
            "Epoch 28/100\n",
            "44/44 [==============================] - 0s 4ms/step - loss: 0.4064 - accuracy: 0.8048 - val_loss: 0.4476 - val_accuracy: 0.7854\n",
            "Epoch 29/100\n",
            "44/44 [==============================] - 0s 4ms/step - loss: 0.4063 - accuracy: 0.8061 - val_loss: 0.4493 - val_accuracy: 0.7919\n",
            "Epoch 30/100\n",
            "44/44 [==============================] - 0s 4ms/step - loss: 0.4049 - accuracy: 0.8061 - val_loss: 0.4470 - val_accuracy: 0.7870\n",
            "Epoch 31/100\n",
            "44/44 [==============================] - 0s 4ms/step - loss: 0.4050 - accuracy: 0.8072 - val_loss: 0.4480 - val_accuracy: 0.7935\n",
            "Epoch 32/100\n",
            "44/44 [==============================] - 0s 4ms/step - loss: 0.4048 - accuracy: 0.8068 - val_loss: 0.4471 - val_accuracy: 0.7902\n",
            "Epoch 33/100\n",
            "44/44 [==============================] - 0s 4ms/step - loss: 0.4035 - accuracy: 0.8077 - val_loss: 0.4454 - val_accuracy: 0.7854\n",
            "Epoch 34/100\n",
            "44/44 [==============================] - 0s 4ms/step - loss: 0.4037 - accuracy: 0.8061 - val_loss: 0.4466 - val_accuracy: 0.7951\n",
            "Epoch 35/100\n",
            "44/44 [==============================] - 0s 4ms/step - loss: 0.4023 - accuracy: 0.8073 - val_loss: 0.4457 - val_accuracy: 0.7886\n",
            "Epoch 36/100\n",
            "44/44 [==============================] - 0s 4ms/step - loss: 0.4022 - accuracy: 0.8104 - val_loss: 0.4453 - val_accuracy: 0.7886\n",
            "Epoch 37/100\n",
            "44/44 [==============================] - 0s 4ms/step - loss: 0.4023 - accuracy: 0.8059 - val_loss: 0.4449 - val_accuracy: 0.7870\n",
            "Epoch 38/100\n",
            "44/44 [==============================] - 0s 4ms/step - loss: 0.4011 - accuracy: 0.8088 - val_loss: 0.4452 - val_accuracy: 0.7886\n",
            "Epoch 39/100\n",
            "44/44 [==============================] - 0s 4ms/step - loss: 0.4014 - accuracy: 0.8079 - val_loss: 0.4461 - val_accuracy: 0.7935\n",
            "Epoch 40/100\n",
            "44/44 [==============================] - 0s 4ms/step - loss: 0.4000 - accuracy: 0.8106 - val_loss: 0.4446 - val_accuracy: 0.7886\n",
            "Epoch 41/100\n",
            "44/44 [==============================] - 0s 4ms/step - loss: 0.4002 - accuracy: 0.8084 - val_loss: 0.4446 - val_accuracy: 0.7935\n",
            "Epoch 42/100\n",
            "44/44 [==============================] - 0s 4ms/step - loss: 0.4000 - accuracy: 0.8095 - val_loss: 0.4456 - val_accuracy: 0.7984\n",
            "Epoch 43/100\n",
            "44/44 [==============================] - 0s 4ms/step - loss: 0.3982 - accuracy: 0.8124 - val_loss: 0.4445 - val_accuracy: 0.7919\n",
            "Epoch 44/100\n",
            "44/44 [==============================] - 0s 4ms/step - loss: 0.3990 - accuracy: 0.8077 - val_loss: 0.4446 - val_accuracy: 0.7935\n",
            "Epoch 45/100\n",
            "44/44 [==============================] - 0s 4ms/step - loss: 0.3980 - accuracy: 0.8108 - val_loss: 0.4448 - val_accuracy: 0.7902\n",
            "Epoch 46/100\n",
            "44/44 [==============================] - 0s 4ms/step - loss: 0.3976 - accuracy: 0.8077 - val_loss: 0.4452 - val_accuracy: 0.7870\n",
            "Epoch 47/100\n",
            "44/44 [==============================] - 0s 4ms/step - loss: 0.3972 - accuracy: 0.8095 - val_loss: 0.4455 - val_accuracy: 0.7935\n",
            "Epoch 48/100\n",
            "44/44 [==============================] - 0s 4ms/step - loss: 0.3959 - accuracy: 0.8124 - val_loss: 0.4449 - val_accuracy: 0.7886\n",
            "Epoch 49/100\n",
            "44/44 [==============================] - 0s 4ms/step - loss: 0.3960 - accuracy: 0.8119 - val_loss: 0.4445 - val_accuracy: 0.7935\n",
            "Epoch 50/100\n",
            "44/44 [==============================] - 0s 9ms/step - loss: 0.3956 - accuracy: 0.8111 - val_loss: 0.4451 - val_accuracy: 0.7919\n",
            "Epoch 51/100\n",
            "44/44 [==============================] - 0s 8ms/step - loss: 0.3947 - accuracy: 0.8124 - val_loss: 0.4456 - val_accuracy: 0.7935\n",
            "Epoch 52/100\n",
            "44/44 [==============================] - 0s 7ms/step - loss: 0.3950 - accuracy: 0.8131 - val_loss: 0.4442 - val_accuracy: 0.7935\n",
            "Epoch 53/100\n",
            "44/44 [==============================] - 0s 7ms/step - loss: 0.3943 - accuracy: 0.8113 - val_loss: 0.4461 - val_accuracy: 0.7935\n",
            "Epoch 54/100\n",
            "44/44 [==============================] - 1s 12ms/step - loss: 0.3935 - accuracy: 0.8135 - val_loss: 0.4446 - val_accuracy: 0.7902\n",
            "Epoch 55/100\n",
            "44/44 [==============================] - 0s 8ms/step - loss: 0.3935 - accuracy: 0.8093 - val_loss: 0.4449 - val_accuracy: 0.7951\n",
            "Epoch 56/100\n",
            "44/44 [==============================] - 0s 7ms/step - loss: 0.3931 - accuracy: 0.8140 - val_loss: 0.4458 - val_accuracy: 0.7886\n",
            "Epoch 57/100\n",
            "44/44 [==============================] - 0s 6ms/step - loss: 0.3921 - accuracy: 0.8122 - val_loss: 0.4469 - val_accuracy: 0.7967\n",
            "Epoch 58/100\n",
            "44/44 [==============================] - 0s 8ms/step - loss: 0.3917 - accuracy: 0.8155 - val_loss: 0.4452 - val_accuracy: 0.7935\n",
            "Epoch 59/100\n",
            "44/44 [==============================] - 0s 8ms/step - loss: 0.3917 - accuracy: 0.8133 - val_loss: 0.4459 - val_accuracy: 0.7919\n",
            "Epoch 60/100\n",
            "44/44 [==============================] - 0s 6ms/step - loss: 0.3915 - accuracy: 0.8153 - val_loss: 0.4459 - val_accuracy: 0.7919\n",
            "Epoch 61/100\n",
            "44/44 [==============================] - 0s 6ms/step - loss: 0.3911 - accuracy: 0.8140 - val_loss: 0.4478 - val_accuracy: 0.7967\n",
            "Epoch 62/100\n",
            "44/44 [==============================] - 0s 7ms/step - loss: 0.3906 - accuracy: 0.8151 - val_loss: 0.4505 - val_accuracy: 0.7967\n",
            "Epoch 63/100\n",
            "44/44 [==============================] - 0s 7ms/step - loss: 0.3902 - accuracy: 0.8160 - val_loss: 0.4471 - val_accuracy: 0.7886\n",
            "Epoch 64/100\n",
            "44/44 [==============================] - 0s 6ms/step - loss: 0.3895 - accuracy: 0.8149 - val_loss: 0.4469 - val_accuracy: 0.7935\n",
            "Epoch 65/100\n",
            "44/44 [==============================] - 0s 7ms/step - loss: 0.3892 - accuracy: 0.8122 - val_loss: 0.4475 - val_accuracy: 0.7902\n",
            "Epoch 66/100\n",
            "44/44 [==============================] - 0s 7ms/step - loss: 0.3888 - accuracy: 0.8149 - val_loss: 0.4479 - val_accuracy: 0.7886\n",
            "Epoch 67/100\n",
            "44/44 [==============================] - 0s 6ms/step - loss: 0.3887 - accuracy: 0.8158 - val_loss: 0.4476 - val_accuracy: 0.7935\n",
            "Epoch 68/100\n",
            "44/44 [==============================] - 0s 7ms/step - loss: 0.3882 - accuracy: 0.8158 - val_loss: 0.4483 - val_accuracy: 0.7902\n",
            "Epoch 69/100\n",
            "44/44 [==============================] - 0s 6ms/step - loss: 0.3876 - accuracy: 0.8162 - val_loss: 0.4492 - val_accuracy: 0.7935\n",
            "Epoch 70/100\n",
            "44/44 [==============================] - 0s 6ms/step - loss: 0.3869 - accuracy: 0.8158 - val_loss: 0.4480 - val_accuracy: 0.7886\n",
            "Epoch 71/100\n",
            "44/44 [==============================] - 0s 9ms/step - loss: 0.3873 - accuracy: 0.8176 - val_loss: 0.4495 - val_accuracy: 0.7935\n",
            "Epoch 72/100\n",
            "44/44 [==============================] - 0s 10ms/step - loss: 0.3864 - accuracy: 0.8158 - val_loss: 0.4490 - val_accuracy: 0.7870\n",
            "Epoch 73/100\n",
            "44/44 [==============================] - 0s 8ms/step - loss: 0.3861 - accuracy: 0.8187 - val_loss: 0.4494 - val_accuracy: 0.7886\n",
            "Epoch 74/100\n",
            "44/44 [==============================] - 0s 6ms/step - loss: 0.3857 - accuracy: 0.8162 - val_loss: 0.4494 - val_accuracy: 0.7951\n",
            "Epoch 75/100\n",
            "44/44 [==============================] - 0s 7ms/step - loss: 0.3862 - accuracy: 0.8182 - val_loss: 0.4497 - val_accuracy: 0.7935\n",
            "Epoch 76/100\n",
            "44/44 [==============================] - 0s 7ms/step - loss: 0.3850 - accuracy: 0.8158 - val_loss: 0.4499 - val_accuracy: 0.7886\n",
            "Epoch 77/100\n",
            "44/44 [==============================] - 0s 6ms/step - loss: 0.3847 - accuracy: 0.8196 - val_loss: 0.4498 - val_accuracy: 0.7870\n",
            "Epoch 78/100\n",
            "44/44 [==============================] - 0s 8ms/step - loss: 0.3849 - accuracy: 0.8185 - val_loss: 0.4495 - val_accuracy: 0.7902\n",
            "Epoch 79/100\n",
            "44/44 [==============================] - 0s 8ms/step - loss: 0.3842 - accuracy: 0.8175 - val_loss: 0.4501 - val_accuracy: 0.7935\n",
            "Epoch 80/100\n",
            "44/44 [==============================] - 0s 8ms/step - loss: 0.3840 - accuracy: 0.8149 - val_loss: 0.4503 - val_accuracy: 0.7870\n",
            "Epoch 81/100\n",
            "44/44 [==============================] - 0s 7ms/step - loss: 0.3833 - accuracy: 0.8214 - val_loss: 0.4505 - val_accuracy: 0.7854\n",
            "Epoch 82/100\n",
            "44/44 [==============================] - 0s 7ms/step - loss: 0.3833 - accuracy: 0.8162 - val_loss: 0.4516 - val_accuracy: 0.7935\n",
            "Epoch 83/100\n",
            "44/44 [==============================] - 0s 7ms/step - loss: 0.3826 - accuracy: 0.8167 - val_loss: 0.4515 - val_accuracy: 0.7870\n",
            "Epoch 84/100\n",
            "44/44 [==============================] - 0s 10ms/step - loss: 0.3825 - accuracy: 0.8189 - val_loss: 0.4527 - val_accuracy: 0.7935\n",
            "Epoch 85/100\n",
            "44/44 [==============================] - 0s 7ms/step - loss: 0.3820 - accuracy: 0.8185 - val_loss: 0.4529 - val_accuracy: 0.7919\n",
            "Epoch 86/100\n",
            "44/44 [==============================] - 0s 7ms/step - loss: 0.3814 - accuracy: 0.8205 - val_loss: 0.4538 - val_accuracy: 0.7935\n",
            "Epoch 87/100\n",
            "44/44 [==============================] - 0s 8ms/step - loss: 0.3810 - accuracy: 0.8222 - val_loss: 0.4529 - val_accuracy: 0.7870\n",
            "Epoch 88/100\n",
            "44/44 [==============================] - 0s 7ms/step - loss: 0.3811 - accuracy: 0.8191 - val_loss: 0.4532 - val_accuracy: 0.7886\n",
            "Epoch 89/100\n",
            "44/44 [==============================] - 0s 7ms/step - loss: 0.3811 - accuracy: 0.8182 - val_loss: 0.4549 - val_accuracy: 0.7935\n",
            "Epoch 90/100\n",
            "44/44 [==============================] - 0s 8ms/step - loss: 0.3800 - accuracy: 0.8241 - val_loss: 0.4538 - val_accuracy: 0.7902\n",
            "Epoch 91/100\n",
            "44/44 [==============================] - 0s 4ms/step - loss: 0.3805 - accuracy: 0.8175 - val_loss: 0.4552 - val_accuracy: 0.7919\n",
            "Epoch 92/100\n",
            "44/44 [==============================] - 0s 4ms/step - loss: 0.3804 - accuracy: 0.8204 - val_loss: 0.4541 - val_accuracy: 0.7886\n",
            "Epoch 93/100\n",
            "44/44 [==============================] - 0s 4ms/step - loss: 0.3785 - accuracy: 0.8232 - val_loss: 0.4548 - val_accuracy: 0.7886\n",
            "Epoch 94/100\n",
            "44/44 [==============================] - 0s 4ms/step - loss: 0.3799 - accuracy: 0.8196 - val_loss: 0.4558 - val_accuracy: 0.7935\n",
            "Epoch 95/100\n",
            "44/44 [==============================] - 0s 4ms/step - loss: 0.3787 - accuracy: 0.8194 - val_loss: 0.4590 - val_accuracy: 0.7951\n",
            "Epoch 96/100\n",
            "44/44 [==============================] - 0s 4ms/step - loss: 0.3781 - accuracy: 0.8205 - val_loss: 0.4566 - val_accuracy: 0.7919\n",
            "Epoch 97/100\n",
            "44/44 [==============================] - 0s 4ms/step - loss: 0.3779 - accuracy: 0.8205 - val_loss: 0.4565 - val_accuracy: 0.7902\n",
            "Epoch 98/100\n",
            "44/44 [==============================] - 0s 4ms/step - loss: 0.3776 - accuracy: 0.8193 - val_loss: 0.4570 - val_accuracy: 0.7919\n",
            "Epoch 99/100\n",
            "44/44 [==============================] - 0s 4ms/step - loss: 0.3777 - accuracy: 0.8213 - val_loss: 0.4587 - val_accuracy: 0.7902\n",
            "Epoch 100/100\n",
            "44/44 [==============================] - 0s 4ms/step - loss: 0.3767 - accuracy: 0.8232 - val_loss: 0.4577 - val_accuracy: 0.7919\n",
            "\n",
            "Evaluate on test data\n",
            "11/11 [==============================] - 0s 2ms/step - loss: 0.4441 - accuracy: 0.7880\n",
            "Test - Loss     :  0.44411343336105347\n",
            "Test - Accuracy :  0.7880116701126099\n",
            "\n"
          ]
        }
      ],
      "source": [
        "# create training dataset instance\n",
        "train_dataset = tf.data.Dataset.from_tensor_slices((x_train_final, y_train_final))\n",
        "\n",
        "# shuffle and slice train dataset\n",
        "train_dataset = train_dataset.shuffle(buffer_size=1024).batch(128)\n",
        "\n",
        "# create validation dataset instance\n",
        "val_dataset = tf.data.Dataset.from_tensor_slices((x_val_final, y_val_final))\n",
        "val_dataset = val_dataset.batch(64)\n",
        "\n",
        "# create test dataset instance\n",
        "test_dataset = tf.data.Dataset.from_tensor_slices((x_test_final, y_test_final))\n",
        "test_dataset = test_dataset.batch(64)\n",
        "\n",
        "## Train model\n",
        "history_seq = model_sequential.fit(train_dataset, epochs=100, validation_data=val_dataset)\n",
        "\n",
        "## Evaluate on validat dataset.\n",
        "print(\"\\nEvaluate on test data\")\n",
        "result = model_sequential.evaluate(test_dataset)\n",
        "print('Test - Loss     : ', result[0])\n",
        "print('Test - Accuracy : ', result[1])\n",
        "print('')\n",
        "\n"
      ]
    },
    {
      "cell_type": "code",
      "execution_count": 53,
      "metadata": {
        "colab": {
          "base_uri": "https://localhost:8080/"
        },
        "id": "UKNrkFNSbFv0",
        "outputId": "1017d366-939f-43cc-e847-ce3d648c08a4"
      },
      "outputs": [
        {
          "name": "stdout",
          "output_type": "stream",
          "text": [
            "              precision    recall  f1-score   support\n",
            "\n",
            "           0       0.84      0.88      0.86       497\n",
            "           1       0.63      0.55      0.59       187\n",
            "\n",
            "    accuracy                           0.79       684\n",
            "   macro avg       0.73      0.71      0.72       684\n",
            "weighted avg       0.78      0.79      0.78       684\n",
            "\n"
          ]
        }
      ],
      "source": [
        "# Model Evaluation using Classification Report\n",
        "\n",
        "y_pred_seq = model_sequential.predict(x_test_final)\n",
        "y_pred_seq = np.where(y_pred_seq >= 0.5, 1, 0)\n",
        "\n",
        "print(classification_report(y_test_final, y_pred_seq))"
      ]
    },
    {
      "cell_type": "markdown",
      "metadata": {
        "id": "gmTncqDutuIF"
      },
      "source": [
        "#### Model Analysis\n",
        "\n",
        "after some tuning with sequential api(optimzer changed to adamax, adding more hidden layer and more neurons, lowering the learning rate) the results we got, if we want to predict a customers that stays(churn=0) the model can predict 84(true positive) out of 100 customers that predicted customer will stay(all positives),correctly(precision score). This is the same result before we've done some tuning.\n",
        "\n",
        "while predictions of customers that left(churn=1) can only predict 62(true positive) out of 100 customers that predicted customer will leave(all positives), correctly(precision score). Only increase 1 point from before tuning, which is just a small increment.\n",
        "\n",
        "The tuning we've done is basically useless, for little to no increment.\n",
        "\n"
      ]
    },
    {
      "cell_type": "markdown",
      "metadata": {
        "id": "-pRCR1O1bmPh"
      },
      "source": [
        "## VII.II. Functional API\n"
      ]
    },
    {
      "cell_type": "code",
      "execution_count": 68,
      "metadata": {
        "colab": {
          "base_uri": "https://localhost:8080/"
        },
        "id": "-fGe3_SJboKo",
        "outputId": "9020b739-49f6-41d5-c5e8-f1fa13e99b18"
      },
      "outputs": [
        {
          "name": "stdout",
          "output_type": "stream",
          "text": [
            "Model: \"model_2\"\n",
            "_________________________________________________________________\n",
            " Layer (type)                Output Shape              Param #   \n",
            "=================================================================\n",
            " input_3 (InputLayer)        [(None, 44)]              0         \n",
            "                                                                 \n",
            " dense_13 (Dense)            (None, 43)                1935      \n",
            "                                                                 \n",
            " dense_14 (Dense)            (None, 36)                1584      \n",
            "                                                                 \n",
            " dense_15 (Dense)            (None, 24)                888       \n",
            "                                                                 \n",
            " dense_16 (Dense)            (None, 16)                400       \n",
            "                                                                 \n",
            " dense_17 (Dense)            (None, 1)                 17        \n",
            "                                                                 \n",
            "=================================================================\n",
            "Total params: 4,824\n",
            "Trainable params: 4,824\n",
            "Non-trainable params: 0\n",
            "_________________________________________________________________\n"
          ]
        }
      ],
      "source": [
        "# Create Functional Model\n",
        "input_layer = Input(shape=(44,))\n",
        "hidden_layer = Dense(43, activation='relu')(input_layer)\n",
        "hidden_layer_2 = Dense(36, activation='relu')(hidden_layer)\n",
        "hidden_layer_3 = Dense(24, activation='relu')(hidden_layer_2)\n",
        "hidden_layer_4 = Dense(16, activation='relu')(hidden_layer_3)\n",
        "output_layer = Dense(1, activation='sigmoid')(hidden_layer_4)\n",
        "\n",
        "model_functional = Model(inputs=input_layer, outputs=output_layer)\n",
        "\n",
        "# Model Compile\n",
        "tf.keras.optimizers.Adamax(learning_rate = 0.0075)\n",
        "model_functional.compile(loss='binary_crossentropy', \n",
        "                         optimizer='Adamax',\n",
        "                         metrics=['accuracy'])\n",
        "\n",
        "model_functional.summary()"
      ]
    },
    {
      "cell_type": "code",
      "execution_count": 69,
      "metadata": {
        "colab": {
          "base_uri": "https://localhost:8080/"
        },
        "id": "rhKIynWFbs_z",
        "outputId": "d7c309f3-137e-416c-a93e-797369d647ac"
      },
      "outputs": [
        {
          "name": "stdout",
          "output_type": "stream",
          "text": [
            "Epoch 1/100\n",
            "44/44 [==============================] - 1s 6ms/step - loss: 0.6677 - accuracy: 0.6018 - val_loss: 0.5850 - val_accuracy: 0.7431\n",
            "Epoch 2/100\n",
            "44/44 [==============================] - 0s 4ms/step - loss: 0.5392 - accuracy: 0.7359 - val_loss: 0.4921 - val_accuracy: 0.7431\n",
            "Epoch 3/100\n",
            "44/44 [==============================] - 0s 4ms/step - loss: 0.4620 - accuracy: 0.7641 - val_loss: 0.4648 - val_accuracy: 0.7805\n",
            "Epoch 4/100\n",
            "44/44 [==============================] - 0s 4ms/step - loss: 0.4375 - accuracy: 0.7931 - val_loss: 0.4636 - val_accuracy: 0.7837\n",
            "Epoch 5/100\n",
            "44/44 [==============================] - 0s 4ms/step - loss: 0.4313 - accuracy: 0.7941 - val_loss: 0.4626 - val_accuracy: 0.7854\n",
            "Epoch 6/100\n",
            "44/44 [==============================] - 0s 4ms/step - loss: 0.4267 - accuracy: 0.7976 - val_loss: 0.4613 - val_accuracy: 0.7854\n",
            "Epoch 7/100\n",
            "44/44 [==============================] - 0s 4ms/step - loss: 0.4240 - accuracy: 0.7978 - val_loss: 0.4602 - val_accuracy: 0.7854\n",
            "Epoch 8/100\n",
            "44/44 [==============================] - 0s 4ms/step - loss: 0.4219 - accuracy: 0.7976 - val_loss: 0.4600 - val_accuracy: 0.7870\n",
            "Epoch 9/100\n",
            "44/44 [==============================] - 0s 4ms/step - loss: 0.4204 - accuracy: 0.7985 - val_loss: 0.4592 - val_accuracy: 0.7805\n",
            "Epoch 10/100\n",
            "44/44 [==============================] - 0s 4ms/step - loss: 0.4191 - accuracy: 0.8008 - val_loss: 0.4581 - val_accuracy: 0.7837\n",
            "Epoch 11/100\n",
            "44/44 [==============================] - 0s 4ms/step - loss: 0.4176 - accuracy: 0.8017 - val_loss: 0.4571 - val_accuracy: 0.7854\n",
            "Epoch 12/100\n",
            "44/44 [==============================] - 0s 4ms/step - loss: 0.4163 - accuracy: 0.8019 - val_loss: 0.4569 - val_accuracy: 0.7805\n",
            "Epoch 13/100\n",
            "44/44 [==============================] - 0s 4ms/step - loss: 0.4158 - accuracy: 0.8008 - val_loss: 0.4556 - val_accuracy: 0.7837\n",
            "Epoch 14/100\n",
            "44/44 [==============================] - 0s 4ms/step - loss: 0.4146 - accuracy: 0.8032 - val_loss: 0.4549 - val_accuracy: 0.7870\n",
            "Epoch 15/100\n",
            "44/44 [==============================] - 0s 4ms/step - loss: 0.4140 - accuracy: 0.7999 - val_loss: 0.4546 - val_accuracy: 0.7951\n",
            "Epoch 16/100\n",
            "44/44 [==============================] - 0s 4ms/step - loss: 0.4127 - accuracy: 0.8030 - val_loss: 0.4538 - val_accuracy: 0.7870\n",
            "Epoch 17/100\n",
            "44/44 [==============================] - 0s 4ms/step - loss: 0.4121 - accuracy: 0.8028 - val_loss: 0.4527 - val_accuracy: 0.7919\n",
            "Epoch 18/100\n",
            "44/44 [==============================] - 0s 4ms/step - loss: 0.4116 - accuracy: 0.8034 - val_loss: 0.4525 - val_accuracy: 0.8016\n",
            "Epoch 19/100\n",
            "44/44 [==============================] - 0s 4ms/step - loss: 0.4106 - accuracy: 0.8050 - val_loss: 0.4507 - val_accuracy: 0.8016\n",
            "Epoch 20/100\n",
            "44/44 [==============================] - 0s 4ms/step - loss: 0.4099 - accuracy: 0.8046 - val_loss: 0.4507 - val_accuracy: 0.7935\n",
            "Epoch 21/100\n",
            "44/44 [==============================] - 0s 4ms/step - loss: 0.4092 - accuracy: 0.8037 - val_loss: 0.4499 - val_accuracy: 0.7951\n",
            "Epoch 22/100\n",
            "44/44 [==============================] - 0s 4ms/step - loss: 0.4095 - accuracy: 0.8053 - val_loss: 0.4494 - val_accuracy: 0.7935\n",
            "Epoch 23/100\n",
            "44/44 [==============================] - 0s 4ms/step - loss: 0.4080 - accuracy: 0.8044 - val_loss: 0.4484 - val_accuracy: 0.7951\n",
            "Epoch 24/100\n",
            "44/44 [==============================] - 0s 4ms/step - loss: 0.4072 - accuracy: 0.8066 - val_loss: 0.4482 - val_accuracy: 0.7951\n",
            "Epoch 25/100\n",
            "44/44 [==============================] - 0s 4ms/step - loss: 0.4069 - accuracy: 0.8073 - val_loss: 0.4490 - val_accuracy: 0.7919\n",
            "Epoch 26/100\n",
            "44/44 [==============================] - 0s 4ms/step - loss: 0.4069 - accuracy: 0.8059 - val_loss: 0.4478 - val_accuracy: 0.7967\n",
            "Epoch 27/100\n",
            "44/44 [==============================] - 0s 4ms/step - loss: 0.4057 - accuracy: 0.8055 - val_loss: 0.4472 - val_accuracy: 0.7951\n",
            "Epoch 28/100\n",
            "44/44 [==============================] - 0s 4ms/step - loss: 0.4055 - accuracy: 0.8057 - val_loss: 0.4465 - val_accuracy: 0.7967\n",
            "Epoch 29/100\n",
            "44/44 [==============================] - 0s 4ms/step - loss: 0.4048 - accuracy: 0.8077 - val_loss: 0.4462 - val_accuracy: 0.7967\n",
            "Epoch 30/100\n",
            "44/44 [==============================] - 0s 4ms/step - loss: 0.4052 - accuracy: 0.8072 - val_loss: 0.4458 - val_accuracy: 0.7984\n",
            "Epoch 31/100\n",
            "44/44 [==============================] - 0s 4ms/step - loss: 0.4038 - accuracy: 0.8072 - val_loss: 0.4463 - val_accuracy: 0.8049\n",
            "Epoch 32/100\n",
            "44/44 [==============================] - 0s 4ms/step - loss: 0.4030 - accuracy: 0.8093 - val_loss: 0.4450 - val_accuracy: 0.8049\n",
            "Epoch 33/100\n",
            "44/44 [==============================] - 0s 4ms/step - loss: 0.4026 - accuracy: 0.8099 - val_loss: 0.4458 - val_accuracy: 0.8065\n",
            "Epoch 34/100\n",
            "44/44 [==============================] - 0s 4ms/step - loss: 0.4016 - accuracy: 0.8106 - val_loss: 0.4451 - val_accuracy: 0.8016\n",
            "Epoch 35/100\n",
            "44/44 [==============================] - 0s 4ms/step - loss: 0.4017 - accuracy: 0.8073 - val_loss: 0.4448 - val_accuracy: 0.8065\n",
            "Epoch 36/100\n",
            "44/44 [==============================] - 0s 4ms/step - loss: 0.4017 - accuracy: 0.8082 - val_loss: 0.4455 - val_accuracy: 0.7984\n",
            "Epoch 37/100\n",
            "44/44 [==============================] - 0s 4ms/step - loss: 0.4005 - accuracy: 0.8115 - val_loss: 0.4441 - val_accuracy: 0.8081\n",
            "Epoch 38/100\n",
            "44/44 [==============================] - 0s 4ms/step - loss: 0.4000 - accuracy: 0.8113 - val_loss: 0.4444 - val_accuracy: 0.8033\n",
            "Epoch 39/100\n",
            "44/44 [==============================] - 0s 4ms/step - loss: 0.4000 - accuracy: 0.8111 - val_loss: 0.4441 - val_accuracy: 0.8049\n",
            "Epoch 40/100\n",
            "44/44 [==============================] - 0s 4ms/step - loss: 0.3989 - accuracy: 0.8129 - val_loss: 0.4436 - val_accuracy: 0.8114\n",
            "Epoch 41/100\n",
            "44/44 [==============================] - 0s 4ms/step - loss: 0.3990 - accuracy: 0.8129 - val_loss: 0.4443 - val_accuracy: 0.8065\n",
            "Epoch 42/100\n",
            "44/44 [==============================] - 0s 4ms/step - loss: 0.3978 - accuracy: 0.8144 - val_loss: 0.4443 - val_accuracy: 0.8033\n",
            "Epoch 43/100\n",
            "44/44 [==============================] - 0s 4ms/step - loss: 0.3989 - accuracy: 0.8088 - val_loss: 0.4439 - val_accuracy: 0.8049\n",
            "Epoch 44/100\n",
            "44/44 [==============================] - 0s 4ms/step - loss: 0.3976 - accuracy: 0.8133 - val_loss: 0.4440 - val_accuracy: 0.8049\n",
            "Epoch 45/100\n",
            "44/44 [==============================] - 0s 4ms/step - loss: 0.3979 - accuracy: 0.8140 - val_loss: 0.4436 - val_accuracy: 0.8065\n",
            "Epoch 46/100\n",
            "44/44 [==============================] - 0s 4ms/step - loss: 0.3970 - accuracy: 0.8135 - val_loss: 0.4430 - val_accuracy: 0.8098\n",
            "Epoch 47/100\n",
            "44/44 [==============================] - 0s 4ms/step - loss: 0.3959 - accuracy: 0.8137 - val_loss: 0.4433 - val_accuracy: 0.8081\n",
            "Epoch 48/100\n",
            "44/44 [==============================] - 0s 4ms/step - loss: 0.3965 - accuracy: 0.8144 - val_loss: 0.4430 - val_accuracy: 0.8098\n",
            "Epoch 49/100\n",
            "44/44 [==============================] - 0s 4ms/step - loss: 0.3950 - accuracy: 0.8162 - val_loss: 0.4430 - val_accuracy: 0.8098\n",
            "Epoch 50/100\n",
            "44/44 [==============================] - 0s 4ms/step - loss: 0.3947 - accuracy: 0.8160 - val_loss: 0.4430 - val_accuracy: 0.8065\n",
            "Epoch 51/100\n",
            "44/44 [==============================] - 0s 4ms/step - loss: 0.3939 - accuracy: 0.8166 - val_loss: 0.4437 - val_accuracy: 0.8033\n",
            "Epoch 52/100\n",
            "44/44 [==============================] - 0s 4ms/step - loss: 0.3946 - accuracy: 0.8142 - val_loss: 0.4434 - val_accuracy: 0.8081\n",
            "Epoch 53/100\n",
            "44/44 [==============================] - 0s 4ms/step - loss: 0.3930 - accuracy: 0.8157 - val_loss: 0.4443 - val_accuracy: 0.8016\n",
            "Epoch 54/100\n",
            "44/44 [==============================] - 0s 4ms/step - loss: 0.3940 - accuracy: 0.8162 - val_loss: 0.4436 - val_accuracy: 0.8016\n",
            "Epoch 55/100\n",
            "44/44 [==============================] - 0s 4ms/step - loss: 0.3933 - accuracy: 0.8151 - val_loss: 0.4431 - val_accuracy: 0.8098\n",
            "Epoch 56/100\n",
            "44/44 [==============================] - 0s 4ms/step - loss: 0.3922 - accuracy: 0.8166 - val_loss: 0.4440 - val_accuracy: 0.8065\n",
            "Epoch 57/100\n",
            "44/44 [==============================] - 0s 4ms/step - loss: 0.3924 - accuracy: 0.8158 - val_loss: 0.4449 - val_accuracy: 0.8049\n",
            "Epoch 58/100\n",
            "44/44 [==============================] - 0s 4ms/step - loss: 0.3920 - accuracy: 0.8164 - val_loss: 0.4432 - val_accuracy: 0.8065\n",
            "Epoch 59/100\n",
            "44/44 [==============================] - 0s 4ms/step - loss: 0.3908 - accuracy: 0.8198 - val_loss: 0.4431 - val_accuracy: 0.8065\n",
            "Epoch 60/100\n",
            "44/44 [==============================] - 0s 4ms/step - loss: 0.3905 - accuracy: 0.8175 - val_loss: 0.4437 - val_accuracy: 0.8033\n",
            "Epoch 61/100\n",
            "44/44 [==============================] - 0s 4ms/step - loss: 0.3906 - accuracy: 0.8169 - val_loss: 0.4433 - val_accuracy: 0.8114\n",
            "Epoch 62/100\n",
            "44/44 [==============================] - 0s 4ms/step - loss: 0.3899 - accuracy: 0.8189 - val_loss: 0.4425 - val_accuracy: 0.8146\n",
            "Epoch 63/100\n",
            "44/44 [==============================] - 0s 4ms/step - loss: 0.3887 - accuracy: 0.8184 - val_loss: 0.4434 - val_accuracy: 0.8130\n",
            "Epoch 64/100\n",
            "44/44 [==============================] - 0s 4ms/step - loss: 0.3882 - accuracy: 0.8182 - val_loss: 0.4446 - val_accuracy: 0.8049\n",
            "Epoch 65/100\n",
            "44/44 [==============================] - 0s 4ms/step - loss: 0.3888 - accuracy: 0.8207 - val_loss: 0.4430 - val_accuracy: 0.8114\n",
            "Epoch 66/100\n",
            "44/44 [==============================] - 0s 4ms/step - loss: 0.3874 - accuracy: 0.8205 - val_loss: 0.4437 - val_accuracy: 0.8081\n",
            "Epoch 67/100\n",
            "44/44 [==============================] - 0s 4ms/step - loss: 0.3871 - accuracy: 0.8211 - val_loss: 0.4440 - val_accuracy: 0.8049\n",
            "Epoch 68/100\n",
            "44/44 [==============================] - 0s 4ms/step - loss: 0.3867 - accuracy: 0.8238 - val_loss: 0.4432 - val_accuracy: 0.8114\n",
            "Epoch 69/100\n",
            "44/44 [==============================] - 0s 4ms/step - loss: 0.3860 - accuracy: 0.8214 - val_loss: 0.4439 - val_accuracy: 0.8016\n",
            "Epoch 70/100\n",
            "44/44 [==============================] - 0s 4ms/step - loss: 0.3867 - accuracy: 0.8211 - val_loss: 0.4442 - val_accuracy: 0.8033\n",
            "Epoch 71/100\n",
            "44/44 [==============================] - 0s 4ms/step - loss: 0.3863 - accuracy: 0.8218 - val_loss: 0.4438 - val_accuracy: 0.8065\n",
            "Epoch 72/100\n",
            "44/44 [==============================] - 0s 4ms/step - loss: 0.3863 - accuracy: 0.8204 - val_loss: 0.4455 - val_accuracy: 0.8114\n",
            "Epoch 73/100\n",
            "44/44 [==============================] - 0s 4ms/step - loss: 0.3852 - accuracy: 0.8216 - val_loss: 0.4442 - val_accuracy: 0.8049\n",
            "Epoch 74/100\n",
            "44/44 [==============================] - 0s 4ms/step - loss: 0.3844 - accuracy: 0.8243 - val_loss: 0.4443 - val_accuracy: 0.8065\n",
            "Epoch 75/100\n",
            "44/44 [==============================] - 0s 4ms/step - loss: 0.3835 - accuracy: 0.8236 - val_loss: 0.4445 - val_accuracy: 0.8049\n",
            "Epoch 76/100\n",
            "44/44 [==============================] - 0s 4ms/step - loss: 0.3830 - accuracy: 0.8223 - val_loss: 0.4456 - val_accuracy: 0.8065\n",
            "Epoch 77/100\n",
            "44/44 [==============================] - 0s 4ms/step - loss: 0.3826 - accuracy: 0.8231 - val_loss: 0.4448 - val_accuracy: 0.8033\n",
            "Epoch 78/100\n",
            "44/44 [==============================] - 0s 4ms/step - loss: 0.3834 - accuracy: 0.8222 - val_loss: 0.4447 - val_accuracy: 0.8098\n",
            "Epoch 79/100\n",
            "44/44 [==============================] - 0s 4ms/step - loss: 0.3822 - accuracy: 0.8265 - val_loss: 0.4456 - val_accuracy: 0.8114\n",
            "Epoch 80/100\n",
            "44/44 [==============================] - 0s 4ms/step - loss: 0.3815 - accuracy: 0.8232 - val_loss: 0.4453 - val_accuracy: 0.8081\n",
            "Epoch 81/100\n",
            "44/44 [==============================] - 0s 4ms/step - loss: 0.3810 - accuracy: 0.8250 - val_loss: 0.4465 - val_accuracy: 0.8098\n",
            "Epoch 82/100\n",
            "44/44 [==============================] - 0s 4ms/step - loss: 0.3820 - accuracy: 0.8238 - val_loss: 0.4463 - val_accuracy: 0.8114\n",
            "Epoch 83/100\n",
            "44/44 [==============================] - 0s 4ms/step - loss: 0.3799 - accuracy: 0.8252 - val_loss: 0.4463 - val_accuracy: 0.8114\n",
            "Epoch 84/100\n",
            "44/44 [==============================] - 0s 4ms/step - loss: 0.3800 - accuracy: 0.8243 - val_loss: 0.4471 - val_accuracy: 0.8081\n",
            "Epoch 85/100\n",
            "44/44 [==============================] - 0s 4ms/step - loss: 0.3787 - accuracy: 0.8261 - val_loss: 0.4458 - val_accuracy: 0.8098\n",
            "Epoch 86/100\n",
            "44/44 [==============================] - 0s 4ms/step - loss: 0.3786 - accuracy: 0.8258 - val_loss: 0.4459 - val_accuracy: 0.8049\n",
            "Epoch 87/100\n",
            "44/44 [==============================] - 0s 4ms/step - loss: 0.3782 - accuracy: 0.8258 - val_loss: 0.4473 - val_accuracy: 0.8081\n",
            "Epoch 88/100\n",
            "44/44 [==============================] - 0s 4ms/step - loss: 0.3775 - accuracy: 0.8278 - val_loss: 0.4469 - val_accuracy: 0.8146\n",
            "Epoch 89/100\n",
            "44/44 [==============================] - 0s 4ms/step - loss: 0.3769 - accuracy: 0.8260 - val_loss: 0.4482 - val_accuracy: 0.8081\n",
            "Epoch 90/100\n",
            "44/44 [==============================] - 0s 4ms/step - loss: 0.3761 - accuracy: 0.8269 - val_loss: 0.4475 - val_accuracy: 0.8114\n",
            "Epoch 91/100\n",
            "44/44 [==============================] - 0s 4ms/step - loss: 0.3758 - accuracy: 0.8258 - val_loss: 0.4478 - val_accuracy: 0.8049\n",
            "Epoch 92/100\n",
            "44/44 [==============================] - 0s 4ms/step - loss: 0.3765 - accuracy: 0.8270 - val_loss: 0.4472 - val_accuracy: 0.8114\n",
            "Epoch 93/100\n",
            "44/44 [==============================] - 0s 4ms/step - loss: 0.3759 - accuracy: 0.8278 - val_loss: 0.4480 - val_accuracy: 0.8098\n",
            "Epoch 94/100\n",
            "44/44 [==============================] - 0s 4ms/step - loss: 0.3746 - accuracy: 0.8270 - val_loss: 0.4474 - val_accuracy: 0.8146\n",
            "Epoch 95/100\n",
            "44/44 [==============================] - 0s 4ms/step - loss: 0.3731 - accuracy: 0.8281 - val_loss: 0.4479 - val_accuracy: 0.8130\n",
            "Epoch 96/100\n",
            "44/44 [==============================] - 0s 4ms/step - loss: 0.3729 - accuracy: 0.8303 - val_loss: 0.4489 - val_accuracy: 0.8146\n",
            "Epoch 97/100\n",
            "44/44 [==============================] - 0s 4ms/step - loss: 0.3729 - accuracy: 0.8281 - val_loss: 0.4490 - val_accuracy: 0.8163\n",
            "Epoch 98/100\n",
            "44/44 [==============================] - 0s 4ms/step - loss: 0.3725 - accuracy: 0.8281 - val_loss: 0.4505 - val_accuracy: 0.8130\n",
            "Epoch 99/100\n",
            "44/44 [==============================] - 0s 4ms/step - loss: 0.3714 - accuracy: 0.8301 - val_loss: 0.4496 - val_accuracy: 0.8163\n",
            "Epoch 100/100\n",
            "44/44 [==============================] - 0s 4ms/step - loss: 0.3709 - accuracy: 0.8310 - val_loss: 0.4499 - val_accuracy: 0.8130\n",
            "\n",
            "Evaluate on test data\n",
            "11/11 [==============================] - 0s 2ms/step - loss: 0.4405 - accuracy: 0.7895\n",
            "Test - Loss     :  0.4405275881290436\n",
            "Test - Accuracy :  0.7894737124443054\n",
            "\n"
          ]
        }
      ],
      "source": [
        "# create training dataset instance\n",
        "train_dataset = tf.data.Dataset.from_tensor_slices((x_train_final, y_train_final))\n",
        "\n",
        "# shuffle and slice train dataset\n",
        "train_dataset = train_dataset.shuffle(buffer_size=1024).batch(128)\n",
        "\n",
        "# create validation dataset instance\n",
        "val_dataset = tf.data.Dataset.from_tensor_slices((x_val_final, y_val_final))\n",
        "val_dataset = val_dataset.batch(64)\n",
        "\n",
        "# create test dataset instance\n",
        "test_dataset = tf.data.Dataset.from_tensor_slices((x_test_final, y_test_final))\n",
        "test_dataset = test_dataset.batch(64)\n",
        "\n",
        "## Train model\n",
        "history_func = model_functional.fit(train_dataset, epochs=100, validation_data=val_dataset)\n",
        "\n",
        "## Evaluate on validat dataset.\n",
        "print(\"\\nEvaluate on test data\")\n",
        "result = model_functional.evaluate(test_dataset)\n",
        "print('Test - Loss     : ', result[0])\n",
        "print('Test - Accuracy : ', result[1])\n",
        "print('')\n",
        "\n"
      ]
    },
    {
      "cell_type": "code",
      "execution_count": 67,
      "metadata": {
        "colab": {
          "base_uri": "https://localhost:8080/"
        },
        "id": "Ozi-ZKiZfFeW",
        "outputId": "7f9dcda3-6b60-490a-9fbe-f78791a0bd1a"
      },
      "outputs": [
        {
          "name": "stdout",
          "output_type": "stream",
          "text": [
            "              precision    recall  f1-score   support\n",
            "\n",
            "           0       0.84      0.82      0.83       497\n",
            "           1       0.55      0.58      0.57       187\n",
            "\n",
            "    accuracy                           0.76       684\n",
            "   macro avg       0.70      0.70      0.70       684\n",
            "weighted avg       0.76      0.76      0.76       684\n",
            "\n"
          ]
        }
      ],
      "source": [
        "# Model Evaluation using Classification Report\n",
        "\n",
        "y_pred_func = model_functional.predict(x_test_final)\n",
        "y_pred_func = np.where(y_pred_func >= 0.5, 1, 0)\n",
        "\n",
        "print(classification_report(y_test_final, y_pred_func))"
      ]
    },
    {
      "cell_type": "markdown",
      "metadata": {
        "id": "ZqQVoDQCg7aG"
      },
      "source": [
        "#### Model Analysis\n",
        "\n",
        "after some tuning with Functional api(optimzer changed to adamax, adding more hidden layer and more neurons, lowering the learning rate) the results we got, if we want to predict a customers that stays(churn=0) the model can predict 84(true positive) out of 100 customers that predicted customer will stay(all positives),correctly(precision score). This is the same result before we've done some tuning.\n",
        "\n",
        "while predictions of customers that left(churn=1) can only predict 65(true positive) out of 100 customers that predicted customer will leave(all positives), correctly(precision score). The increase is mediocre at best, but nonetheless it still is an improvement.\n",
        "\n",
        "compared to the sequential api model, the functional api result is better, Therefore we choose this functional model instead."
      ]
    },
    {
      "cell_type": "markdown",
      "metadata": {
        "id": "o2HZVxoc-9-1"
      },
      "source": [
        "# IX. Model Saving"
      ]
    },
    {
      "cell_type": "code",
      "execution_count": 57,
      "metadata": {
        "id": "U0Gc0R_S8mcW"
      },
      "outputs": [],
      "source": [
        "# save model\n",
        "with open('model_functional.pkl', 'wb') as file_1:\n",
        "  joblib.dump(model_functional, file_1)\n",
        "\n",
        "with open('model_scaler.pkl', 'wb') as file_2:\n",
        "  joblib.dump(scaler, file_2)\n",
        "\n",
        "with open('model_encoder.pkl', 'wb') as file_3:\n",
        "  joblib.dump(encoder, file_3)\n",
        "\n",
        "with open('model_encoder_2.pkl', 'wb') as file_7:\n",
        "  joblib.dump(encoder_2, file_7)\n",
        "\n",
        "with open('list_num.txt', 'w') as file_4:\n",
        "  json.dump(num_columns, file_4)\n",
        "\n",
        "with open('list_cat_columns.txt', 'w') as file_5:\n",
        "  json.dump(cat_columns, file_5)"
      ]
    },
    {
      "cell_type": "markdown",
      "metadata": {
        "id": "UDRNZbj2xETR"
      },
      "source": [
        "# X. Model Inference"
      ]
    },
    {
      "cell_type": "code",
      "execution_count": 58,
      "metadata": {
        "id": "LviRzTHVBSQz"
      },
      "outputs": [],
      "source": [
        "# Load model\n",
        "with open('model_functional.pkl', 'rb') as file_1:\n",
        "  model_functional_nn = joblib.load(file_1)\n",
        "\n",
        "with open('model_encoder.pkl', 'rb') as file_2:\n",
        "  model_encoder = joblib.load(file_2)\n",
        "\n",
        "with open('model_encoder_2.pkl', 'rb') as file_3:\n",
        "  model_encoder_2 = joblib.load(file_3)\n",
        "\n",
        "with open('model_scaler.pkl', 'rb') as file_7:\n",
        "  model_scaler = joblib.load(file_7)\n",
        "\n",
        "with open('list_num.txt', 'r') as file_4:\n",
        "  model_num_list = json.load(file_4)\n",
        "\n",
        "with open('list_cat_columns.txt', 'r') as file_5:\n",
        "  model_cat_list = json.load(file_5)"
      ]
    },
    {
      "cell_type": "code",
      "execution_count": 59,
      "metadata": {
        "colab": {
          "base_uri": "https://localhost:8080/",
          "height": 259
        },
        "id": "3S9Bu1Da8rRJ",
        "outputId": "b74a9557-4114-4589-867d-6f18c14c4aba"
      },
      "outputs": [
        {
          "data": {
            "text/html": [
              "\n",
              "  <div id=\"df-0a35c631-438e-48a7-b03d-d73729673a5b\">\n",
              "    <div class=\"colab-df-container\">\n",
              "      <div>\n",
              "<style scoped>\n",
              "    .dataframe tbody tr th:only-of-type {\n",
              "        vertical-align: middle;\n",
              "    }\n",
              "\n",
              "    .dataframe tbody tr th {\n",
              "        vertical-align: top;\n",
              "    }\n",
              "\n",
              "    .dataframe thead th {\n",
              "        text-align: right;\n",
              "    }\n",
              "</style>\n",
              "<table border=\"1\" class=\"dataframe\">\n",
              "  <thead>\n",
              "    <tr style=\"text-align: right;\">\n",
              "      <th></th>\n",
              "      <th>customerID</th>\n",
              "      <th>gender</th>\n",
              "      <th>SeniorCitizen</th>\n",
              "      <th>Partner</th>\n",
              "      <th>Dependents</th>\n",
              "      <th>tenure</th>\n",
              "      <th>PhoneService</th>\n",
              "      <th>MultipleLines</th>\n",
              "      <th>InternetService</th>\n",
              "      <th>OnlineSecurity</th>\n",
              "      <th>OnlineBackup</th>\n",
              "      <th>DeviceProtection</th>\n",
              "      <th>TechSupport</th>\n",
              "      <th>StreamingTV</th>\n",
              "      <th>StreamingMovies</th>\n",
              "      <th>Contract</th>\n",
              "      <th>PaperlessBilling</th>\n",
              "      <th>PaymentMethod</th>\n",
              "      <th>MonthlyCharges</th>\n",
              "      <th>TotalCharges</th>\n",
              "      <th>Churn</th>\n",
              "    </tr>\n",
              "  </thead>\n",
              "  <tbody>\n",
              "    <tr>\n",
              "      <th>64</th>\n",
              "      <td>7517-SAWMO</td>\n",
              "      <td>Female</td>\n",
              "      <td>0</td>\n",
              "      <td>Yes</td>\n",
              "      <td>No</td>\n",
              "      <td>19</td>\n",
              "      <td>Yes</td>\n",
              "      <td>No</td>\n",
              "      <td>Fiber optic</td>\n",
              "      <td>Yes</td>\n",
              "      <td>No</td>\n",
              "      <td>No</td>\n",
              "      <td>No</td>\n",
              "      <td>No</td>\n",
              "      <td>No</td>\n",
              "      <td>Month-to-month</td>\n",
              "      <td>Yes</td>\n",
              "      <td>Electronic check</td>\n",
              "      <td>73.20</td>\n",
              "      <td>1441.1</td>\n",
              "      <td>Yes</td>\n",
              "    </tr>\n",
              "    <tr>\n",
              "      <th>181</th>\n",
              "      <td>6248-BSHKG</td>\n",
              "      <td>Male</td>\n",
              "      <td>0</td>\n",
              "      <td>Yes</td>\n",
              "      <td>Yes</td>\n",
              "      <td>61</td>\n",
              "      <td>Yes</td>\n",
              "      <td>No</td>\n",
              "      <td>No</td>\n",
              "      <td>No internet service</td>\n",
              "      <td>No internet service</td>\n",
              "      <td>No internet service</td>\n",
              "      <td>No internet service</td>\n",
              "      <td>No internet service</td>\n",
              "      <td>No internet service</td>\n",
              "      <td>One year</td>\n",
              "      <td>No</td>\n",
              "      <td>Mailed check</td>\n",
              "      <td>20.40</td>\n",
              "      <td>1226.45</td>\n",
              "      <td>No</td>\n",
              "    </tr>\n",
              "    <tr>\n",
              "      <th>143</th>\n",
              "      <td>7291-CDTMJ</td>\n",
              "      <td>Male</td>\n",
              "      <td>0</td>\n",
              "      <td>No</td>\n",
              "      <td>No</td>\n",
              "      <td>1</td>\n",
              "      <td>Yes</td>\n",
              "      <td>No</td>\n",
              "      <td>No</td>\n",
              "      <td>No internet service</td>\n",
              "      <td>No internet service</td>\n",
              "      <td>No internet service</td>\n",
              "      <td>No internet service</td>\n",
              "      <td>No internet service</td>\n",
              "      <td>No internet service</td>\n",
              "      <td>Month-to-month</td>\n",
              "      <td>Yes</td>\n",
              "      <td>Bank transfer (automatic)</td>\n",
              "      <td>19.65</td>\n",
              "      <td>19.65</td>\n",
              "      <td>No</td>\n",
              "    </tr>\n",
              "  </tbody>\n",
              "</table>\n",
              "</div>\n",
              "      <button class=\"colab-df-convert\" onclick=\"convertToInteractive('df-0a35c631-438e-48a7-b03d-d73729673a5b')\"\n",
              "              title=\"Convert this dataframe to an interactive table.\"\n",
              "              style=\"display:none;\">\n",
              "        \n",
              "  <svg xmlns=\"http://www.w3.org/2000/svg\" height=\"24px\"viewBox=\"0 0 24 24\"\n",
              "       width=\"24px\">\n",
              "    <path d=\"M0 0h24v24H0V0z\" fill=\"none\"/>\n",
              "    <path d=\"M18.56 5.44l.94 2.06.94-2.06 2.06-.94-2.06-.94-.94-2.06-.94 2.06-2.06.94zm-11 1L8.5 8.5l.94-2.06 2.06-.94-2.06-.94L8.5 2.5l-.94 2.06-2.06.94zm10 10l.94 2.06.94-2.06 2.06-.94-2.06-.94-.94-2.06-.94 2.06-2.06.94z\"/><path d=\"M17.41 7.96l-1.37-1.37c-.4-.4-.92-.59-1.43-.59-.52 0-1.04.2-1.43.59L10.3 9.45l-7.72 7.72c-.78.78-.78 2.05 0 2.83L4 21.41c.39.39.9.59 1.41.59.51 0 1.02-.2 1.41-.59l7.78-7.78 2.81-2.81c.8-.78.8-2.07 0-2.86zM5.41 20L4 18.59l7.72-7.72 1.47 1.35L5.41 20z\"/>\n",
              "  </svg>\n",
              "      </button>\n",
              "      \n",
              "  <style>\n",
              "    .colab-df-container {\n",
              "      display:flex;\n",
              "      flex-wrap:wrap;\n",
              "      gap: 12px;\n",
              "    }\n",
              "\n",
              "    .colab-df-convert {\n",
              "      background-color: #E8F0FE;\n",
              "      border: none;\n",
              "      border-radius: 50%;\n",
              "      cursor: pointer;\n",
              "      display: none;\n",
              "      fill: #1967D2;\n",
              "      height: 32px;\n",
              "      padding: 0 0 0 0;\n",
              "      width: 32px;\n",
              "    }\n",
              "\n",
              "    .colab-df-convert:hover {\n",
              "      background-color: #E2EBFA;\n",
              "      box-shadow: 0px 1px 2px rgba(60, 64, 67, 0.3), 0px 1px 3px 1px rgba(60, 64, 67, 0.15);\n",
              "      fill: #174EA6;\n",
              "    }\n",
              "\n",
              "    [theme=dark] .colab-df-convert {\n",
              "      background-color: #3B4455;\n",
              "      fill: #D2E3FC;\n",
              "    }\n",
              "\n",
              "    [theme=dark] .colab-df-convert:hover {\n",
              "      background-color: #434B5C;\n",
              "      box-shadow: 0px 1px 3px 1px rgba(0, 0, 0, 0.15);\n",
              "      filter: drop-shadow(0px 1px 2px rgba(0, 0, 0, 0.3));\n",
              "      fill: #FFFFFF;\n",
              "    }\n",
              "  </style>\n",
              "\n",
              "      <script>\n",
              "        const buttonEl =\n",
              "          document.querySelector('#df-0a35c631-438e-48a7-b03d-d73729673a5b button.colab-df-convert');\n",
              "        buttonEl.style.display =\n",
              "          google.colab.kernel.accessAllowed ? 'block' : 'none';\n",
              "\n",
              "        async function convertToInteractive(key) {\n",
              "          const element = document.querySelector('#df-0a35c631-438e-48a7-b03d-d73729673a5b');\n",
              "          const dataTable =\n",
              "            await google.colab.kernel.invokeFunction('convertToInteractive',\n",
              "                                                     [key], {});\n",
              "          if (!dataTable) return;\n",
              "\n",
              "          const docLinkHtml = 'Like what you see? Visit the ' +\n",
              "            '<a target=\"_blank\" href=https://colab.research.google.com/notebooks/data_table.ipynb>data table notebook</a>'\n",
              "            + ' to learn more about interactive tables.';\n",
              "          element.innerHTML = '';\n",
              "          dataTable['output_type'] = 'display_data';\n",
              "          await google.colab.output.renderOutput(dataTable, element);\n",
              "          const docLink = document.createElement('div');\n",
              "          docLink.innerHTML = docLinkHtml;\n",
              "          element.appendChild(docLink);\n",
              "        }\n",
              "      </script>\n",
              "    </div>\n",
              "  </div>\n",
              "  "
            ],
            "text/plain": [
              "     customerID  gender  SeniorCitizen Partner Dependents  tenure  \\\n",
              "64   7517-SAWMO  Female              0     Yes         No      19   \n",
              "181  6248-BSHKG    Male              0     Yes        Yes      61   \n",
              "143  7291-CDTMJ    Male              0      No         No       1   \n",
              "\n",
              "    PhoneService MultipleLines InternetService       OnlineSecurity  \\\n",
              "64           Yes            No     Fiber optic                  Yes   \n",
              "181          Yes            No              No  No internet service   \n",
              "143          Yes            No              No  No internet service   \n",
              "\n",
              "            OnlineBackup     DeviceProtection          TechSupport  \\\n",
              "64                    No                   No                   No   \n",
              "181  No internet service  No internet service  No internet service   \n",
              "143  No internet service  No internet service  No internet service   \n",
              "\n",
              "             StreamingTV      StreamingMovies        Contract  \\\n",
              "64                    No                   No  Month-to-month   \n",
              "181  No internet service  No internet service        One year   \n",
              "143  No internet service  No internet service  Month-to-month   \n",
              "\n",
              "    PaperlessBilling              PaymentMethod  MonthlyCharges TotalCharges  \\\n",
              "64               Yes           Electronic check           73.20       1441.1   \n",
              "181               No               Mailed check           20.40      1226.45   \n",
              "143              Yes  Bank transfer (automatic)           19.65        19.65   \n",
              "\n",
              "    Churn  \n",
              "64    Yes  \n",
              "181    No  \n",
              "143    No  "
            ]
          },
          "execution_count": 59,
          "metadata": {},
          "output_type": "execute_result"
        }
      ],
      "source": [
        "data_inf.sample(3)"
      ]
    },
    {
      "cell_type": "code",
      "execution_count": 60,
      "metadata": {
        "id": "Qk7QNXFz8y7f"
      },
      "outputs": [],
      "source": [
        "# divide column for preprocess later\n",
        "data_inf_num = data_inf[model_num_list]\n",
        "data_inf_cat = data_inf[model_cat_list]\n",
        "y_inf = data_inf['Churn']"
      ]
    },
    {
      "cell_type": "code",
      "execution_count": 61,
      "metadata": {
        "id": "KrZv5D1n9kYB"
      },
      "outputs": [],
      "source": [
        "# preprocess inferencial data\n",
        "scaled_data_inf = model_scaler.transform(data_inf_num)\n",
        "encoded_data_inf = model_encoder.transform(data_inf_cat)\n",
        "encoded_y_inf = model_encoder_2.transform(y_inf)\n"
      ]
    },
    {
      "cell_type": "code",
      "execution_count": 62,
      "metadata": {
        "id": "Th-vflpN-ehh"
      },
      "outputs": [],
      "source": [
        "# concat inf data\n",
        "inf_data_final = np.concatenate([scaled_data_inf, encoded_data_inf], axis=1)"
      ]
    },
    {
      "cell_type": "code",
      "execution_count": 63,
      "metadata": {
        "colab": {
          "base_uri": "https://localhost:8080/"
        },
        "id": "98zgnY_3-5I2",
        "outputId": "1b15f0ad-32fe-4e6d-8939-ec7584cab715"
      },
      "outputs": [
        {
          "name": "stdout",
          "output_type": "stream",
          "text": [
            "              precision    recall  f1-score   support\n",
            "\n",
            "           0       0.81      0.90      0.85       148\n",
            "           1       0.67      0.49      0.57        63\n",
            "\n",
            "    accuracy                           0.78       211\n",
            "   macro avg       0.74      0.70      0.71       211\n",
            "weighted avg       0.77      0.78      0.77       211\n",
            "\n"
          ]
        }
      ],
      "source": [
        "# Model Evaluation using Classification Report\n",
        "y_pred_func = model_functional_nn.predict(inf_data_final)\n",
        "y_pred_func = np.where(y_pred_func >= 0.5, 1, 0)\n",
        "\n",
        "print(classification_report(encoded_y_inf, y_pred_func))"
      ]
    },
    {
      "cell_type": "markdown",
      "metadata": {
        "id": "ZDAkBuMOxHWy"
      },
      "source": [
        "# XI. Overall Analysis / Conclusion\n",
        "\n",
        "After we explore the data we have, we found that the tenure of customer who left(on average 18 months) is far lower than the customer who stays(on average 37 months). Also the average the MonthlyCharges of Customer who left(on average \\$ 74.441 ) is higher than the average MonthlyCharges of staying customer(on average \\$ 61.265 ). Customer who left, compared to staying customer are less willing to ask help from tech support. It seems the customers who left, when the services went wrong, rather than asking for help from tech support, they cancelled instead. We also found the customer who left, almost all of them had monthly contract, While staying customer, are a bit diverse. The reason why customers stay, could be caused by the contract themselves, the long term contract(1 year and 2 year on staying group) couldnt't cancel easily, because if they want to cancel, they would get a huge penalty for the cancelations.\n",
        "\n",
        "\n",
        "for the neural network model, from both functional model and sequential model, with little to no tuning, the results are almost identical. After some tuning, compared to the sequential api model, the functional api result is slightly better, Therefore we choose the latter.\n",
        "\n",
        "\n",
        "If we want to retain more customers, we should make a discount for new customers(make it 3 months contract), make tech-support access easier, while making our services more reliable, make better deal for yearly and 2 years contract and have shorter term contracts like 3 or 6 months contract."
      ]
    }
  ],
  "metadata": {
    "accelerator": "GPU",
    "colab": {
      "collapsed_sections": [],
      "provenance": []
    },
    "kernelspec": {
      "display_name": "Python 3.9.12 ('base')",
      "language": "python",
      "name": "python3"
    },
    "language_info": {
      "codemirror_mode": {
        "name": "ipython",
        "version": 3
      },
      "file_extension": ".py",
      "mimetype": "text/x-python",
      "name": "python",
      "nbconvert_exporter": "python",
      "pygments_lexer": "ipython3",
      "version": "3.9.12"
    },
    "vscode": {
      "interpreter": {
        "hash": "1b15b47e994a45b2c1c9c2019b348cb81bbb68780db9285c808c045d049d064a"
      }
    }
  },
  "nbformat": 4,
  "nbformat_minor": 0
}
